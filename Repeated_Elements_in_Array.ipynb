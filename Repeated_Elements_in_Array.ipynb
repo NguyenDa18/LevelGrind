{
  "nbformat": 4,
  "nbformat_minor": 0,
  "metadata": {
    "colab": {
      "name": "Repeated Elements in Array.ipynb",
      "version": "0.3.2",
      "provenance": [],
      "include_colab_link": true
    },
    "kernelspec": {
      "name": "python3",
      "display_name": "Python 3"
    }
  },
  "cells": [
    {
      "cell_type": "markdown",
      "metadata": {
        "id": "view-in-github",
        "colab_type": "text"
      },
      "source": [
        "<a href=\"https://colab.research.google.com/github/NguyenDa18/LevelGrind/blob/master/Repeated_Elements_in_Array.ipynb\" target=\"_parent\"><img src=\"https://colab.research.google.com/assets/colab-badge.svg\" alt=\"Open In Colab\"/></a>"
      ]
    },
    {
      "cell_type": "markdown",
      "metadata": {
        "id": "B3GhQmncNQga",
        "colab_type": "text"
      },
      "source": [
        "# Repeated Elements in Array : Firecode.io\n",
        "Write a function to find the redundant or repeated items in a list and return them in sorted order. The method should return a list of redundant integers in ascending sorted order."
      ]
    },
    {
      "cell_type": "code",
      "metadata": {
        "id": "3GjOL0PQNezw",
        "colab_type": "code",
        "colab": {}
      },
      "source": [
        "def duplicate_items(list_numbers):\n",
        "    dups = set([el for el in list_numbers if list_numbers.count(el) > 1])\n",
        "    return list(dups)"
      ],
      "execution_count": 0,
      "outputs": []
    },
    {
      "cell_type": "code",
      "metadata": {
        "id": "zXMkQJmrNieG",
        "colab_type": "code",
        "colab": {
          "base_uri": "https://localhost:8080/",
          "height": 34
        },
        "outputId": "8e01a682-15c6-4286-f7fb-11a534bc8dbe"
      },
      "source": [
        "test = [1,3,4,2,1]\n",
        "result = duplicate_items(test)\n",
        "print(result)"
      ],
      "execution_count": 2,
      "outputs": [
        {
          "output_type": "stream",
          "text": [
            "[1]\n"
          ],
          "name": "stdout"
        }
      ]
    },
    {
      "cell_type": "code",
      "metadata": {
        "id": "DloxTipgNsuB",
        "colab_type": "code",
        "colab": {
          "base_uri": "https://localhost:8080/",
          "height": 34
        },
        "outputId": "0acd064b-621a-4235-e882-9a43540c0049"
      },
      "source": [
        "test = [1,3,4,2,1,2,4]\n",
        "result = duplicate_items(test)\n",
        "print(result)"
      ],
      "execution_count": 4,
      "outputs": [
        {
          "output_type": "stream",
          "text": [
            "[1, 2, 4]\n"
          ],
          "name": "stdout"
        }
      ]
    }
  ]
}