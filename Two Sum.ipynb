{
  "nbformat": 4,
  "nbformat_minor": 0,
  "metadata": {
    "colab": {
      "name": "Two Sum.ipynb",
      "version": "0.3.2",
      "provenance": [],
      "include_colab_link": true
    },
    "language_info": {
      "codemirror_mode": {
        "name": "ipython",
        "version": 3
      },
      "file_extension": ".py",
      "mimetype": "text/x-python",
      "name": "python",
      "nbconvert_exporter": "python",
      "pygments_lexer": "ipython3",
      "version": "3.5.2"
    },
    "kernelspec": {
      "display_name": "Python 3",
      "language": "python",
      "name": "python3"
    }
  },
  "cells": [
    {
      "cell_type": "markdown",
      "metadata": {
        "id": "view-in-github",
        "colab_type": "text"
      },
      "source": [
        "<a href=\"https://colab.research.google.com/github/NguyenDa18/LevelGrind/blob/master/Two%20Sum.ipynb\" target=\"_parent\"><img src=\"https://colab.research.google.com/assets/colab-badge.svg\" alt=\"Open In Colab\"/></a>"
      ]
    },
    {
      "cell_type": "markdown",
      "metadata": {
        "id": "pU_ga9VjlQWh",
        "colab_type": "text"
      },
      "source": [
        "# Two Sum : AlgoExpert\n",
        "Write a function that takes in a non-empty array of distinct integers and a target sum. If two numbers in array sum up to target, return the indexes in an array, in sorted order. If none return an empty array. Assume that there will be at most one pair of numbers summing up to target sum."
      ]
    },
    {
      "cell_type": "markdown",
      "metadata": {
        "id": "TcddGDOIqc3J",
        "colab_type": "text"
      },
      "source": [
        "### Thinking Process O(1) space solution:\n",
        "- To optimize, shrink the array from left and right\n",
        "- If current sum: (left + right) < target => move over one to right\n",
        "- Else => move down one to left"
      ]
    },
    {
      "cell_type": "code",
      "metadata": {
        "id": "x4_Be0xzqc3M",
        "colab_type": "code",
        "colab": {}
      },
      "source": [
        "# O(nlogn) time | O(1) space\n",
        "def twoSum3(array, targetSum):\n",
        "    \"\"\"\n",
        "    :type array: List[int]\n",
        "    :type targetSum: int\n",
        "    :rtype: List[int]\n",
        "    \"\"\"\n",
        "    array.sort()\n",
        "    left = 0\n",
        "    right = len(array) - 1\n",
        "    while left < right:\n",
        "        currentSum = array[left] + array[right]\n",
        "        if currentSum == targetSum:\n",
        "            return [array[left], array[right]]\n",
        "        elif currentSum < targetSum:\n",
        "            left += 1\n",
        "        elif currentSum > targetSum:\n",
        "            right -= 1\n",
        "    return []"
      ],
      "execution_count": 0,
      "outputs": []
    },
    {
      "cell_type": "code",
      "metadata": {
        "id": "RTV3oSNzk1F0",
        "colab_type": "code",
        "colab": {
          "base_uri": "https://localhost:8080/",
          "height": 68
        },
        "outputId": "2bbedb49-5556-46ce-eac5-76329d647939"
      },
      "source": [
        "nums = [1,4,8,3,2,9,15]\n",
        "target = 13\n",
        "print(\"Nums: \", nums)\n",
        "print(\"Target: \", target)\n",
        "print(\"Solution: \", twoSum3(nums, target))"
      ],
      "execution_count": 19,
      "outputs": [
        {
          "output_type": "stream",
          "text": [
            "Nums:  [1, 4, 8, 3, 2, 9, 15]\n",
            "Target:  13\n",
            "Solution:  [4, 9]\n"
          ],
          "name": "stdout"
        }
      ]
    },
    {
      "cell_type": "code",
      "metadata": {
        "id": "gwLw-5ewmyJD",
        "colab_type": "code",
        "colab": {
          "base_uri": "https://localhost:8080/",
          "height": 68
        },
        "outputId": "eb58887a-89d6-4c2b-b2fe-8bc611d83e4e"
      },
      "source": [
        "nums = [2,7,11,15]\n",
        "target = 9\n",
        "print(\"Nums: \", nums)\n",
        "print(\"Target: \", target)\n",
        "print(\"Solution: \", twoSum3(nums, target))"
      ],
      "execution_count": 21,
      "outputs": [
        {
          "output_type": "stream",
          "text": [
            "Nums:  [2, 7, 11, 15]\n",
            "Target:  9\n",
            "Solution:  [2, 7]\n"
          ],
          "name": "stdout"
        }
      ]
    },
    {
      "cell_type": "code",
      "metadata": {
        "id": "ik2qRvJ3qpbg",
        "colab_type": "code",
        "colab": {}
      },
      "source": [
        "def twoSum2(array, targetSum):\n",
        "  \"\"\"\n",
        "  :type array: List[int]\n",
        "  :type targetSum: int\n",
        "  :rtype: List[int]\n",
        "  \"\"\"\n",
        "  index_map = {}\n",
        "  for idx, num in enumerate(array):\n",
        "    diff = targetSum - num\n",
        "    if diff in index_map:\n",
        "      return [index_map[diff], num]\n",
        "    index_map[num] = num\n",
        "  return None\n",
        "    "
      ],
      "execution_count": 0,
      "outputs": []
    },
    {
      "cell_type": "code",
      "metadata": {
        "id": "KZ6fjyKMrq7k",
        "colab_type": "code",
        "outputId": "7eececba-d581-4b79-aceb-6420694e5367",
        "colab": {
          "base_uri": "https://localhost:8080/",
          "height": 68
        }
      },
      "source": [
        "nums = [1,4,8,3,2,9,15]\n",
        "target = 13\n",
        "print(\"Nums: \", nums)\n",
        "print(\"Target: \", target)\n",
        "print(\"Solution: \", twoSum2(nums, target))"
      ],
      "execution_count": 10,
      "outputs": [
        {
          "output_type": "stream",
          "text": [
            "Nums:  [1, 4, 8, 3, 2, 9, 15]\n",
            "Target:  13\n",
            "Solution at indexes:  [4, 9]\n"
          ],
          "name": "stdout"
        }
      ]
    },
    {
      "cell_type": "code",
      "metadata": {
        "id": "P2RL9dAjrxVG",
        "colab_type": "code",
        "outputId": "049d1431-71f8-4063-eb86-14d59466ce88",
        "colab": {
          "base_uri": "https://localhost:8080/",
          "height": 68
        }
      },
      "source": [
        "nums = [2,7,11,15]\n",
        "target = 9\n",
        "print(\"Nums: \", nums)\n",
        "print(\"Target: \", target)\n",
        "print(\"Solution: \", twoSum2(nums, target))"
      ],
      "execution_count": 12,
      "outputs": [
        {
          "output_type": "stream",
          "text": [
            "Nums:  [2, 7, 11, 15]\n",
            "Target:  9\n",
            "Solution:  [2, 7]\n"
          ],
          "name": "stdout"
        }
      ]
    },
    {
      "cell_type": "code",
      "metadata": {
        "id": "relXxpPMqc3S",
        "colab_type": "code",
        "colab": {}
      },
      "source": [
        "# O(n^2) time | O(1) space\n",
        "def twoSum1(array, targetSum):\n",
        "    \"\"\"\n",
        "    :type array: List[int]\n",
        "    :type targetSum: int\n",
        "    :rtype: List[int]\n",
        "    \"\"\"\n",
        "    for i in range(len(array) - 1):\n",
        "        firstNum = array[i]\n",
        "        for j in range(i + 1, len(array)):\n",
        "            secondNum = array[j]\n",
        "            if firstNum + secondNum == targetSum:\n",
        "                return sorted([firstNum, secondNum])\n",
        "    return []"
      ],
      "execution_count": 0,
      "outputs": []
    },
    {
      "cell_type": "code",
      "metadata": {
        "id": "CVXdc4uum2-5",
        "colab_type": "code",
        "colab": {
          "base_uri": "https://localhost:8080/",
          "height": 68
        },
        "outputId": "ca317d08-9a8f-4541-82cd-f9380ae17113"
      },
      "source": [
        "nums = [1,4,8,3,2,9,15]\n",
        "target = 13\n",
        "print(\"Nums: \", nums)\n",
        "print(\"Target: \", target)\n",
        "print(\"Solution: \", twoSum2(nums, target))"
      ],
      "execution_count": 22,
      "outputs": [
        {
          "output_type": "stream",
          "text": [
            "Nums:  [1, 4, 8, 3, 2, 9, 15]\n",
            "Target:  13\n",
            "Solution:  [4, 9]\n"
          ],
          "name": "stdout"
        }
      ]
    },
    {
      "cell_type": "code",
      "metadata": {
        "id": "-ZgjY1S4sB7M",
        "colab_type": "code",
        "colab": {
          "base_uri": "https://localhost:8080/",
          "height": 68
        },
        "outputId": "08cf37a0-05c2-4277-a47a-6d707eb5b76f"
      },
      "source": [
        "nums = [2,7,11,15]\n",
        "target = 9\n",
        "print(\"Nums: \", nums)\n",
        "print(\"Target: \", target)\n",
        "print(\"Solution: \", twoSum1(nums, target))"
      ],
      "execution_count": 23,
      "outputs": [
        {
          "output_type": "stream",
          "text": [
            "Nums:  [2, 7, 11, 15]\n",
            "Target:  9\n",
            "Solution:  [2, 7]\n"
          ],
          "name": "stdout"
        }
      ]
    }
  ]
}