{
 "cells": [
  {
   "cell_type": "code",
   "execution_count": null,
   "metadata": {
    "collapsed": true
   },
   "outputs": [],
   "source": [
    "# O(nlogn) time | O(1) space\n",
    "def twoSum3(array, targetSum):\n",
    "    array.sort()\n",
    "    left = 0\n",
    "    right = len(array) - 1\n",
    "    while left < right:\n",
    "        currentSum = array[left] + array[right]\n",
    "        if currentSum == targetSum:\n",
    "            return [array[left], array[right]]\n",
    "        elif currentSum < targetSum:\n",
    "            left += 1\n",
    "        elif currentSum > targetSum:\n",
    "            left -= 1\n",
    "    return []"
   ]
  },
  {
   "cell_type": "code",
   "execution_count": null,
   "metadata": {
    "collapsed": true
   },
   "outputs": [],
   "source": [
    "# O(n^2) time | O(1) space\n",
    "def twoSum1(array, targetSum):\n",
    "    for i in range(len(arr) - 1):\n",
    "        firstNum = array[i]\n",
    "        for j in range(i + 1, len(array)):\n",
    "            secondNum = array[j]\n",
    "            if firstNum + secondNum == targetSum:\n",
    "                return sorted([firstNum, secondNum])\n",
    "    return []"
   ]
  }
 ],
 "metadata": {
  "kernelspec": {
   "display_name": "Python 3",
   "language": "python",
   "name": "python3"
  },
  "language_info": {
   "codemirror_mode": {
    "name": "ipython",
    "version": 3
   },
   "file_extension": ".py",
   "mimetype": "text/x-python",
   "name": "python",
   "nbconvert_exporter": "python",
   "pygments_lexer": "ipython3",
   "version": "3.5.2"
  }
 },
 "nbformat": 4,
 "nbformat_minor": 1
}
