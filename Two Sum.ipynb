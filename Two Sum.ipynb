{
  "nbformat": 4,
  "nbformat_minor": 0,
  "metadata": {
    "colab": {
      "name": "Two Sum.ipynb",
      "version": "0.3.2",
      "provenance": [],
      "include_colab_link": true
    },
    "language_info": {
      "codemirror_mode": {
        "name": "ipython",
        "version": 3
      },
      "file_extension": ".py",
      "mimetype": "text/x-python",
      "name": "python",
      "nbconvert_exporter": "python",
      "pygments_lexer": "ipython3",
      "version": "3.5.2"
    },
    "kernelspec": {
      "display_name": "Python 3",
      "language": "python",
      "name": "python3"
    }
  },
  "cells": [
    {
      "cell_type": "markdown",
      "metadata": {
        "id": "view-in-github",
        "colab_type": "text"
      },
      "source": [
        "<a href=\"https://colab.research.google.com/github/NguyenDa18/LevelGrind/blob/master/Two%20Sum.ipynb\" target=\"_parent\"><img src=\"https://colab.research.google.com/assets/colab-badge.svg\" alt=\"Open In Colab\"/></a>"
      ]
    },
    {
      "cell_type": "markdown",
      "metadata": {
        "id": "TcddGDOIqc3J",
        "colab_type": "text"
      },
      "source": [
        "# Thinking Process:\n",
        "- To optimize, shrink the array from outer to inner"
      ]
    },
    {
      "cell_type": "code",
      "metadata": {
        "id": "x4_Be0xzqc3M",
        "colab_type": "code",
        "colab": {}
      },
      "source": [
        "# O(nlogn) time | O(1) space\n",
        "def twoSum3(array, targetSum):\n",
        "    \"\"\"\n",
        "    :type array: List[int]\n",
        "    :type targetSum: int\n",
        "    :rtype: List[int]\n",
        "    \"\"\"\n",
        "    array.sort()\n",
        "    left = 0\n",
        "    right = len(array) - 1\n",
        "    print(array[left] + array[right])\n",
        "    while left < right:\n",
        "        currentSum = array[left] + array[right]\n",
        "        if currentSum == targetSum:\n",
        "            return [array[left], array[right]]\n",
        "        elif currentSum < targetSum:\n",
        "            left += 1\n",
        "        elif currentSum > targetSum:\n",
        "            left -= 1\n",
        "    return []"
      ],
      "execution_count": 0,
      "outputs": []
    },
    {
      "cell_type": "code",
      "metadata": {
        "id": "ik2qRvJ3qpbg",
        "colab_type": "code",
        "colab": {}
      },
      "source": [
        "def twoSum2(array, targetSum):\n",
        "  \"\"\"\n",
        "  :type array: List[int]\n",
        "  :type targetSum: int\n",
        "  :rtype: List[int]\n",
        "  \"\"\"\n",
        "  index_map = {}\n",
        "  for idx, num in enumerate(array):\n",
        "    pair = targetSum - num\n",
        "    if pair in index_map:\n",
        "      return [index_map[pair], idx]\n",
        "    index_map[num] = idx\n",
        "  return None\n",
        "    "
      ],
      "execution_count": 0,
      "outputs": []
    },
    {
      "cell_type": "code",
      "metadata": {
        "id": "KZ6fjyKMrq7k",
        "colab_type": "code",
        "colab": {
          "base_uri": "https://localhost:8080/",
          "height": 68
        },
        "outputId": "09f940fa-b38a-4d76-8960-431c520daf8c"
      },
      "source": [
        "nums = [1,4,8,3,2,9,15]\n",
        "target = 13\n",
        "print(\"Nums: \", nums)\n",
        "print(\"Target: \", target)\n",
        "print(\"Solution at indexes: \", twoSum2(nums, target))"
      ],
      "execution_count": 3,
      "outputs": [
        {
          "output_type": "stream",
          "text": [
            "Nums:  [1, 4, 8, 3, 2, 9, 15]\n",
            "Target:  13\n",
            "Solution at indexes:  [1, 5]\n"
          ],
          "name": "stdout"
        }
      ]
    },
    {
      "cell_type": "code",
      "metadata": {
        "id": "P2RL9dAjrxVG",
        "colab_type": "code",
        "colab": {
          "base_uri": "https://localhost:8080/",
          "height": 68
        },
        "outputId": "860ff12b-e156-427b-b2f4-1f2a873e0227"
      },
      "source": [
        "nums = [2,7,11,15]\n",
        "target = 9\n",
        "print(\"Nums: \", nums)\n",
        "print(\"Target: \", target)\n",
        "print(\"Solution at indexes: \", twoSum2(nums, target))"
      ],
      "execution_count": 4,
      "outputs": [
        {
          "output_type": "stream",
          "text": [
            "Nums:  [2, 7, 11, 15]\n",
            "Target:  9\n",
            "Solution at indexes:  [0, 1]\n"
          ],
          "name": "stdout"
        }
      ]
    },
    {
      "cell_type": "code",
      "metadata": {
        "id": "relXxpPMqc3S",
        "colab_type": "code",
        "colab": {}
      },
      "source": [
        "# O(n^2) time | O(1) space\n",
        "def twoSum1(array, targetSum):\n",
        "    \"\"\"\n",
        "    :type array: List[int]\n",
        "    :type targetSum: int\n",
        "    :rtype: List[int]\n",
        "    \"\"\"\n",
        "    for i in range(len(arr) - 1):\n",
        "        firstNum = array[i]\n",
        "        for j in range(i + 1, len(array)):\n",
        "            secondNum = array[j]\n",
        "            if firstNum + secondNum == targetSum:\n",
        "                return sorted([firstNum, secondNum])\n",
        "    return []"
      ],
      "execution_count": 0,
      "outputs": []
    },
    {
      "cell_type": "code",
      "metadata": {
        "id": "-ZgjY1S4sB7M",
        "colab_type": "code",
        "colab": {}
      },
      "source": [
        ""
      ],
      "execution_count": 0,
      "outputs": []
    }
  ]
}