{
  "nbformat": 4,
  "nbformat_minor": 0,
  "metadata": {
    "colab": {
      "name": "Find 7ish Number.ipynb",
      "version": "0.3.2",
      "provenance": [],
      "include_colab_link": true
    },
    "language_info": {
      "codemirror_mode": {
        "name": "ipython",
        "version": 3
      },
      "file_extension": ".py",
      "mimetype": "text/x-python",
      "name": "python",
      "nbconvert_exporter": "python",
      "pygments_lexer": "ipython3",
      "version": "3.5.2"
    },
    "kernelspec": {
      "display_name": "Python 3",
      "language": "python",
      "name": "python3"
    }
  },
  "cells": [
    {
      "cell_type": "markdown",
      "metadata": {
        "id": "view-in-github",
        "colab_type": "text"
      },
      "source": [
        "<a href=\"https://colab.research.google.com/github/NguyenDa18/LevelGrind/blob/master/IN%20PROGRESS%20Find%207ish%20Number.ipynb\" target=\"_parent\"><img src=\"https://colab.research.google.com/assets/colab-badge.svg\" alt=\"Open In Colab\"/></a>"
      ]
    },
    {
      "cell_type": "markdown",
      "metadata": {
        "id": "xJ6jp5kapXYL",
        "colab_type": "text"
      },
      "source": [
        "# Find Nth 7ish Number\n",
        "This problem was asked by Zillow.\n",
        "\n",
        "Let's define a \"sevenish\" number to be one which is either a power of 7, or the sum of unique powers of 7.\n",
        "The first few sevenish numbers are 1, 7, 8, 49, and so on. Create an algorithm to find the nth sevenish number."
      ]
    },
    {
      "cell_type": "markdown",
      "metadata": {
        "id": "Buw1IJfZpXYO",
        "colab_type": "text"
      },
      "source": [
        "## Thinking process:\n",
        "- 7 ^ 0, 7 ^ 1, 7 + 1, 7 ^ 2, ...\n",
        "\n",
        "- 7 ^ n - 1, 7 ^ n - 1, ..."
      ]
    },
    {
      "cell_type": "code",
      "metadata": {
        "id": "gcLJ44uZpXYQ",
        "colab_type": "code",
        "colab": {}
      },
      "source": [
        "def findNth7ish(n):\n",
        "    if n < 1:\n",
        "      raise Exception(\"Invalid value for 'n'\")\n",
        "    \n",
        "    power = 0\n",
        "    sevenish_nums = list()\n",
        "    while len(sevenish_nums) < n:\n",
        "        num = 7 ** power\n",
        "        new_sevenish_nums = [num]\n",
        "        for old in sevenish_nums:\n",
        "            if len(sevenish_nums) + len(new_sevenish_nums) == n:\n",
        "                return new_sevenish_nums[-1]\n",
        "            new_sevenish_nums.append(num + old)\n",
        "\n",
        "        sevenish_nums += new_sevenish_nums\n",
        "        power += 1\n",
        "\n",
        "    return sevenish_nums[-1]"
      ],
      "execution_count": 0,
      "outputs": []
    },
    {
      "cell_type": "code",
      "metadata": {
        "id": "cmhcwy34pitd",
        "colab_type": "code",
        "colab": {
          "base_uri": "https://localhost:8080/",
          "height": 34
        },
        "outputId": "58b7f504-6335-4ed2-f0bb-af6d2f8f9a66"
      },
      "source": [
        "n = 2\n",
        "result = findNth7ish(n)\n",
        "print(result)"
      ],
      "execution_count": 6,
      "outputs": [
        {
          "output_type": "stream",
          "text": [
            "7\n"
          ],
          "name": "stdout"
        }
      ]
    },
    {
      "cell_type": "code",
      "metadata": {
        "id": "QWdL7Axbpp89",
        "colab_type": "code",
        "colab": {
          "base_uri": "https://localhost:8080/",
          "height": 34
        },
        "outputId": "69036163-10f5-4d1e-f955-fe1f71f856d5"
      },
      "source": [
        "n = 10\n",
        "result = findNth7ish(n)\n",
        "print(result)"
      ],
      "execution_count": 7,
      "outputs": [
        {
          "output_type": "stream",
          "text": [
            "350\n"
          ],
          "name": "stdout"
        }
      ]
    },
    {
      "cell_type": "code",
      "metadata": {
        "id": "B1ueh1z4r6pe",
        "colab_type": "code",
        "colab": {
          "base_uri": "https://localhost:8080/",
          "height": 317
        },
        "outputId": "5995e1aa-11c0-4127-fb4d-b3a520667bf0"
      },
      "source": [
        "n = -1\n",
        "result = findNth7ish(n)\n",
        "print(result)"
      ],
      "execution_count": 8,
      "outputs": [
        {
          "output_type": "error",
          "ename": "Exception",
          "evalue": "ignored",
          "traceback": [
            "\u001b[0;31m---------------------------------------------------------------------------\u001b[0m",
            "\u001b[0;31mException\u001b[0m                                 Traceback (most recent call last)",
            "\u001b[0;32m<ipython-input-8-1adce7bb8f9b>\u001b[0m in \u001b[0;36m<module>\u001b[0;34m()\u001b[0m\n\u001b[1;32m      1\u001b[0m \u001b[0mn\u001b[0m \u001b[0;34m=\u001b[0m \u001b[0;34m-\u001b[0m\u001b[0;36m1\u001b[0m\u001b[0;34m\u001b[0m\u001b[0;34m\u001b[0m\u001b[0m\n\u001b[0;32m----> 2\u001b[0;31m \u001b[0mresult\u001b[0m \u001b[0;34m=\u001b[0m \u001b[0mfindNth7ish\u001b[0m\u001b[0;34m(\u001b[0m\u001b[0mn\u001b[0m\u001b[0;34m)\u001b[0m\u001b[0;34m\u001b[0m\u001b[0;34m\u001b[0m\u001b[0m\n\u001b[0m\u001b[1;32m      3\u001b[0m \u001b[0mprint\u001b[0m\u001b[0;34m(\u001b[0m\u001b[0mresult\u001b[0m\u001b[0;34m)\u001b[0m\u001b[0;34m\u001b[0m\u001b[0;34m\u001b[0m\u001b[0m\n",
            "\u001b[0;32m<ipython-input-5-b6ff7960626f>\u001b[0m in \u001b[0;36mfindNth7ish\u001b[0;34m(n)\u001b[0m\n\u001b[1;32m      1\u001b[0m \u001b[0;32mdef\u001b[0m \u001b[0mfindNth7ish\u001b[0m\u001b[0;34m(\u001b[0m\u001b[0mn\u001b[0m\u001b[0;34m)\u001b[0m\u001b[0;34m:\u001b[0m\u001b[0;34m\u001b[0m\u001b[0;34m\u001b[0m\u001b[0m\n\u001b[1;32m      2\u001b[0m     \u001b[0;32mif\u001b[0m \u001b[0mn\u001b[0m \u001b[0;34m<\u001b[0m \u001b[0;36m1\u001b[0m\u001b[0;34m:\u001b[0m\u001b[0;34m\u001b[0m\u001b[0;34m\u001b[0m\u001b[0m\n\u001b[0;32m----> 3\u001b[0;31m       \u001b[0;32mraise\u001b[0m \u001b[0mException\u001b[0m\u001b[0;34m(\u001b[0m\u001b[0;34m\"Invalid value for 'n'\"\u001b[0m\u001b[0;34m)\u001b[0m\u001b[0;34m\u001b[0m\u001b[0;34m\u001b[0m\u001b[0m\n\u001b[0m\u001b[1;32m      4\u001b[0m \u001b[0;34m\u001b[0m\u001b[0m\n\u001b[1;32m      5\u001b[0m     \u001b[0mpower\u001b[0m \u001b[0;34m=\u001b[0m \u001b[0;36m0\u001b[0m\u001b[0;34m\u001b[0m\u001b[0;34m\u001b[0m\u001b[0m\n",
            "\u001b[0;31mException\u001b[0m: Invalid value for 'n'"
          ]
        }
      ]
    }
  ]
}