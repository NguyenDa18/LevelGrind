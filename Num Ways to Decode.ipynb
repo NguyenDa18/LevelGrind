{
  "nbformat": 4,
  "nbformat_minor": 0,
  "metadata": {
    "colab": {
      "name": "Num Ways to Decode.ipynb",
      "version": "0.3.2",
      "provenance": [],
      "include_colab_link": true
    },
    "kernelspec": {
      "name": "python3",
      "display_name": "Python 3"
    }
  },
  "cells": [
    {
      "cell_type": "markdown",
      "metadata": {
        "id": "view-in-github",
        "colab_type": "text"
      },
      "source": [
        "<a href=\"https://colab.research.google.com/github/NguyenDa18/LevelGrind/blob/master/Num%20Ways%20to%20Decode.ipynb\" target=\"_parent\"><img src=\"https://colab.research.google.com/assets/colab-badge.svg\" alt=\"Open In Colab\"/></a>"
      ]
    },
    {
      "cell_type": "markdown",
      "metadata": {
        "id": "tKrj2NdZNJzL",
        "colab_type": "text"
      },
      "source": [
        "# Number of Ways to Decode Message : Daily Coding Problem #7\n",
        "Good morning! Here's your coding interview problem for today.\n",
        "\n",
        "This problem was asked by Facebook.\n",
        "\n",
        "Given the mapping a = 1, b = 2, ... z = 26, and an encoded message, count the number of ways it can be decoded.\n",
        "\n",
        "For example, the message '111' would give 3, since it could be decoded as 'aaa', 'ka', and 'ak'.\n",
        "\n",
        "You can assume that the messages are decodable. For example, '001' is not allowed."
      ]
    },
    {
      "cell_type": "markdown",
      "metadata": {
        "id": "0Qc4RLqSPAp4",
        "colab_type": "text"
      },
      "source": [
        "## Tips\n",
        "- Helper function to check if msg is a valid alphabet char\n",
        "- Recursion to do message checking"
      ]
    },
    {
      "cell_type": "code",
      "metadata": {
        "id": "Tf2tlyLwNUPb",
        "colab_type": "code",
        "colab": {}
      },
      "source": [
        "def is_char(msg):\n",
        "  return 0 if msg > 26 or msg < 1 else 1\n",
        "\n",
        "def get_num_decode_ways(msg):\n",
        "  msg = str(msg)\n",
        "  if len(msg) == 1:\n",
        "    count = 1\n",
        "  elif len(msg) == 2:\n",
        "    count = 1 + is_char(int(msg))\n",
        "  else:\n",
        "    count = get_num_decode_ways(int(msg[1:]))\n",
        "    if is_char(int(msg[:2])):\n",
        "      count += get_num_decode_ways(int(msg[2:]))\n",
        "      \n",
        "  return count"
      ],
      "execution_count": 0,
      "outputs": []
    },
    {
      "cell_type": "markdown",
      "metadata": {
        "id": "lmzD2PLJOnPa",
        "colab_type": "text"
      },
      "source": [
        "## Test with sample inputs"
      ]
    },
    {
      "cell_type": "code",
      "metadata": {
        "id": "6NJbSvPwOmhD",
        "colab_type": "code",
        "colab": {
          "base_uri": "https://localhost:8080/",
          "height": 34
        },
        "outputId": "b449895d-0981-4fa3-dbef-23fda28bf47b"
      },
      "source": [
        "msg = 81\n",
        "result = get_num_decode_ways(msg)\n",
        "print(result)"
      ],
      "execution_count": 6,
      "outputs": [
        {
          "output_type": "stream",
          "text": [
            "1\n"
          ],
          "name": "stdout"
        }
      ]
    },
    {
      "cell_type": "code",
      "metadata": {
        "id": "AVT6Qy57Oypk",
        "colab_type": "code",
        "colab": {
          "base_uri": "https://localhost:8080/",
          "height": 34
        },
        "outputId": "e8120fe7-aa01-4bae-d2a4-c978d1f6333d"
      },
      "source": [
        "msg = 11\n",
        "result = get_num_decode_ways(msg)\n",
        "print(result)"
      ],
      "execution_count": 7,
      "outputs": [
        {
          "output_type": "stream",
          "text": [
            "2\n"
          ],
          "name": "stdout"
        }
      ]
    },
    {
      "cell_type": "code",
      "metadata": {
        "id": "37QADwCtO20b",
        "colab_type": "code",
        "colab": {
          "base_uri": "https://localhost:8080/",
          "height": 34
        },
        "outputId": "acca9001-b5d9-4448-944b-0d2dc10f3118"
      },
      "source": [
        "msg = 111\n",
        "result = get_num_decode_ways(msg)\n",
        "print(result)"
      ],
      "execution_count": 8,
      "outputs": [
        {
          "output_type": "stream",
          "text": [
            "3\n"
          ],
          "name": "stdout"
        }
      ]
    },
    {
      "cell_type": "code",
      "metadata": {
        "id": "r-gX5JeiO4er",
        "colab_type": "code",
        "colab": {
          "base_uri": "https://localhost:8080/",
          "height": 34
        },
        "outputId": "99509e27-a6a6-4ea2-aac4-71f04218fd01"
      },
      "source": [
        "msg = 1111\n",
        "result = get_num_decode_ways(msg)\n",
        "print(result)"
      ],
      "execution_count": 9,
      "outputs": [
        {
          "output_type": "stream",
          "text": [
            "5\n"
          ],
          "name": "stdout"
        }
      ]
    },
    {
      "cell_type": "code",
      "metadata": {
        "id": "aFuel9WBO73Q",
        "colab_type": "code",
        "colab": {
          "base_uri": "https://localhost:8080/",
          "height": 34
        },
        "outputId": "454b794e-f99d-4147-c1c2-7a3d5b6c5f97"
      },
      "source": [
        "msg = 1311\n",
        "result = get_num_decode_ways(msg)\n",
        "print(result)"
      ],
      "execution_count": 10,
      "outputs": [
        {
          "output_type": "stream",
          "text": [
            "4\n"
          ],
          "name": "stdout"
        }
      ]
    }
  ]
}