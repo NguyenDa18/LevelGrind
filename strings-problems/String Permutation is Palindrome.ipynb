{
 "cells": [
  {
   "cell_type": "markdown",
   "metadata": {},
   "source": [
    "# String Permutation is Valid Palindrome : Daily Coding Problem #368 [Easy]\n",
    "Good morning! Here's your coding interview problem for today.\n",
    "\n",
    "This problem was asked by Amazon.\n",
    "\n",
    "Given a string, determine whether any permutation of it is a palindrome.\n",
    "\n",
    "For example, `carrace` should return `true`, since it can be rearranged to form `racecar`, which is a palindrome. `daily` should return false, since there's no rearrangement that can form a palindrome."
   ]
  },
  {
   "cell_type": "markdown",
   "metadata": {},
   "source": [
    "## Thinking\n",
    "- Taking the lazy way: a palindrome is a word that is symmetrical across a midpoint: so there is an even number of letters and possibly one unique letter."
   ]
  },
  {
   "cell_type": "code",
   "execution_count": 31,
   "metadata": {},
   "outputs": [],
   "source": [
    "def string_permutation_valid_palindrome(string):\n",
    "    \"\"\"\n",
    "    Given a string, determine whether any permutation of it is a palindrome.\n",
    "    \"\"\"\n",
    "    letters = set(string)\n",
    "    counts = {}\n",
    "    for letter in letters:\n",
    "        counts[letter] = string.count(letter)\n",
    "    return True if set(counts.values()) == {1,2} or set(counts) == {2} else False\n"
   ]
  },
  {
   "cell_type": "code",
   "execution_count": 32,
   "metadata": {},
   "outputs": [
    {
     "data": {
      "text/plain": [
       "True"
      ]
     },
     "execution_count": 32,
     "metadata": {},
     "output_type": "execute_result"
    }
   ],
   "source": [
    "string_permutation_valid_palindrome(\"racecar\")"
   ]
  },
  {
   "cell_type": "code",
   "execution_count": 33,
   "metadata": {},
   "outputs": [
    {
     "data": {
      "text/plain": [
       "False"
      ]
     },
     "execution_count": 33,
     "metadata": {},
     "output_type": "execute_result"
    }
   ],
   "source": [
    "string_permutation_valid_palindrome(\"daily\")"
   ]
  }
 ],
 "metadata": {
  "kernelspec": {
   "display_name": "Python 3",
   "language": "python",
   "name": "python3"
  },
  "language_info": {
   "codemirror_mode": {
    "name": "ipython",
    "version": 3
   },
   "file_extension": ".py",
   "mimetype": "text/x-python",
   "name": "python",
   "nbconvert_exporter": "python",
   "pygments_lexer": "ipython3",
   "version": "3.8.5"
  }
 },
 "nbformat": 4,
 "nbformat_minor": 4
}
