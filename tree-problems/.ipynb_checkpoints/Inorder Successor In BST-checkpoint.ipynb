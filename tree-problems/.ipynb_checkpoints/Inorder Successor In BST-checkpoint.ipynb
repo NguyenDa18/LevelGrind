{
 "cells": [
  {
   "cell_type": "markdown",
   "metadata": {},
   "source": [
    "# Inorder Successor in BST: LeetCode 285\n",
    "Given a binary search tree and a node in it, find the in-order successor of that node in the BST.\n",
    "Note: If the given node has no in-order successor in the tree, return null.\n",
    "\n",
    "- [Link](https://leetcode.com/problems/inorder-successor-in-bst/)\n",
    "- [Learning Source](https://www.youtube.com/watch?v=u6JFPGxQ96U)"
   ]
  },
  {
   "cell_type": "code",
   "execution_count": 3,
   "metadata": {},
   "outputs": [
    {
     "name": "stdout",
     "output_type": "stream",
     "text": [
      "Requirement already satisfied: binarytree in /usr/local/anaconda3/lib/python3.8/site-packages (6.3.0)\r\n",
      "Requirement already satisfied: graphviz in /usr/local/anaconda3/lib/python3.8/site-packages (from binarytree) (0.16)\r\n",
      "Requirement already satisfied: setuptools>=42 in /usr/local/anaconda3/lib/python3.8/site-packages (from binarytree) (50.3.1.post20201107)\r\n",
      "Requirement already satisfied: setuptools-scm[toml]>=3.4 in /usr/local/anaconda3/lib/python3.8/site-packages (from binarytree) (6.0.1)\r\n",
      "Requirement already satisfied: toml; extra == \"toml\" in /usr/local/anaconda3/lib/python3.8/site-packages (from setuptools-scm[toml]>=3.4->binarytree) (0.10.1)\r\n"
     ]
    }
   ],
   "source": [
    "# Install a pip package in the current Jupyter kernel\n",
    "# https://jakevdp.github.io/blog/2017/12/05/installing-python-packages-from-jupyter/\n",
    "import sys\n",
    "!{sys.executable} -m pip install binarytree"
   ]
  },
  {
   "cell_type": "code",
   "execution_count": 4,
   "metadata": {},
   "outputs": [],
   "source": [
    "# useful package import\n",
    "from binarytree import Node"
   ]
  },
  {
   "cell_type": "code",
   "execution_count": 40,
   "metadata": {},
   "outputs": [
    {
     "data": {
      "image/svg+xml": [
       "\n",
       "<svg width=\"384\" height=\"240\" xmlns=\"http://www.w3.org/2000/svg\">\n",
       "<style>\n",
       "    .value {\n",
       "        font: 300 16px sans-serif;\n",
       "        text-align: center;\n",
       "        dominant-baseline: middle;\n",
       "        text-anchor: middle;\n",
       "    }\n",
       "    .node {\n",
       "        fill: lightgray;\n",
       "        stroke-width: 1;\n",
       "    }\n",
       "</style>\n",
       "<g stroke=\"#000000\">\n",
       "<line x1=\"137.0\" y1=\"144\" x2=\"161.0\" y2=\"192\"/>\n",
       "<line x1=\"137.0\" y1=\"144\" x2=\"113.0\" y2=\"192\"/>\n",
       "<line x1=\"89.0\" y1=\"96\" x2=\"137.0\" y2=\"144\"/>\n",
       "<line x1=\"89.0\" y1=\"96\" x2=\"41.0\" y2=\"144\"/>\n",
       "<line x1=\"185.0\" y1=\"48\" x2=\"281.0\" y2=\"96\"/>\n",
       "<line x1=\"185.0\" y1=\"48\" x2=\"89.0\" y2=\"96\"/>\n",
       "<circle class=\"node\" cx=\"185.0\" cy=\"48\" r=\"16\"/>\n",
       "<text class=\"value\" x=\"185.0\" y=\"48\">20</text>\n",
       "<circle class=\"node\" cx=\"89.0\" cy=\"96\" r=\"16\"/>\n",
       "<text class=\"value\" x=\"89.0\" y=\"96\">8</text>\n",
       "<circle class=\"node\" cx=\"281.0\" cy=\"96\" r=\"16\"/>\n",
       "<text class=\"value\" x=\"281.0\" y=\"96\">22</text>\n",
       "<circle class=\"node\" cx=\"41.0\" cy=\"144\" r=\"16\"/>\n",
       "<text class=\"value\" x=\"41.0\" y=\"144\">4</text>\n",
       "<circle class=\"node\" cx=\"137.0\" cy=\"144\" r=\"16\"/>\n",
       "<text class=\"value\" x=\"137.0\" y=\"144\">12</text>\n",
       "<circle class=\"node\" cx=\"113.0\" cy=\"192\" r=\"16\"/>\n",
       "<text class=\"value\" x=\"113.0\" y=\"192\">10</text>\n",
       "<circle class=\"node\" cx=\"161.0\" cy=\"192\" r=\"16\"/>\n",
       "<text class=\"value\" x=\"161.0\" y=\"192\">14</text>\n",
       "</g>\n",
       "</svg>\n"
      ],
      "text/plain": [
       "Node(20)"
      ]
     },
     "execution_count": 40,
     "metadata": {},
     "output_type": "execute_result"
    }
   ],
   "source": [
    "# Example 1: https://www.geeksforgeeks.org/inorder-successor-in-binary-search-tree/\n",
    "root = Node(20)\n",
    "root.left = Node(8)\n",
    "root.right = Node(22)\n",
    "root.left.left = Node(4)\n",
    "root.left.right = Node(12)\n",
    "root.left.right.left = Node(10)\n",
    "root.left.right.right = Node(14)\n",
    "\n",
    "root"
   ]
  },
  {
   "cell_type": "code",
   "execution_count": 39,
   "metadata": {},
   "outputs": [
    {
     "name": "stdout",
     "output_type": "stream",
     "text": [
      "IS BST: True\n"
     ]
    }
   ],
   "source": [
    "print(\"IS BST: {}\".format(root.is_bst))"
   ]
  },
  {
   "cell_type": "code",
   "execution_count": 41,
   "metadata": {},
   "outputs": [],
   "source": [
    "def inorderSuccessor(root, p):\n",
    "    if (root == None):\n",
    "        return None\n",
    "    current, previous = root, None\n",
    "    while (current != None):\n",
    "        if (current.val > p):\n",
    "            previous = current\n",
    "            current = current.left\n",
    "        else:\n",
    "            current = current.right\n",
    "    previous = \"None\" if previous is None else previous\n",
    "    return previous"
   ]
  },
  {
   "cell_type": "code",
   "execution_count": 42,
   "metadata": {},
   "outputs": [
    {
     "data": {
      "image/svg+xml": [
       "\n",
       "<svg width=\"48\" height=\"96\" xmlns=\"http://www.w3.org/2000/svg\">\n",
       "<style>\n",
       "    .value {\n",
       "        font: 300 16px sans-serif;\n",
       "        text-align: center;\n",
       "        dominant-baseline: middle;\n",
       "        text-anchor: middle;\n",
       "    }\n",
       "    .node {\n",
       "        fill: lightgray;\n",
       "        stroke-width: 1;\n",
       "    }\n",
       "</style>\n",
       "<g stroke=\"#000000\">\n",
       "<circle class=\"node\" cx=\"17.0\" cy=\"48\" r=\"16\"/>\n",
       "<text class=\"value\" x=\"17.0\" y=\"48\">10</text>\n",
       "</g>\n",
       "</svg>\n"
      ],
      "text/plain": [
       "Node(10)"
      ]
     },
     "execution_count": 42,
     "metadata": {},
     "output_type": "execute_result"
    }
   ],
   "source": [
    "# Test\n",
    "result = inorderSuccessor(root, 8)\n",
    "result"
   ]
  },
  {
   "cell_type": "code",
   "execution_count": 34,
   "metadata": {},
   "outputs": [
    {
     "data": {
      "text/plain": [
       "'None'"
      ]
     },
     "execution_count": 34,
     "metadata": {},
     "output_type": "execute_result"
    }
   ],
   "source": [
    "result = inorderSuccessor(root, 22)\n",
    "result"
   ]
  },
  {
   "cell_type": "code",
   "execution_count": 35,
   "metadata": {},
   "outputs": [
    {
     "data": {
      "image/svg+xml": [
       "\n",
       "<svg width=\"48\" height=\"96\" xmlns=\"http://www.w3.org/2000/svg\">\n",
       "<style>\n",
       "    .value {\n",
       "        font: 300 16px sans-serif;\n",
       "        text-align: center;\n",
       "        dominant-baseline: middle;\n",
       "        text-anchor: middle;\n",
       "    }\n",
       "    .node {\n",
       "        fill: lightgray;\n",
       "        stroke-width: 1;\n",
       "    }\n",
       "</style>\n",
       "<g stroke=\"#000000\">\n",
       "<circle class=\"node\" cx=\"17.0\" cy=\"48\" r=\"16\"/>\n",
       "<text class=\"value\" x=\"17.0\" y=\"48\">14</text>\n",
       "</g>\n",
       "</svg>\n"
      ],
      "text/plain": [
       "Node(14)"
      ]
     },
     "execution_count": 35,
     "metadata": {},
     "output_type": "execute_result"
    }
   ],
   "source": [
    "result = inorderSuccessor(root, 12)\n",
    "result"
   ]
  }
 ],
 "metadata": {
  "kernelspec": {
   "display_name": "Python 3",
   "language": "python",
   "name": "python3"
  },
  "language_info": {
   "codemirror_mode": {
    "name": "ipython",
    "version": 3
   },
   "file_extension": ".py",
   "mimetype": "text/x-python",
   "name": "python",
   "nbconvert_exporter": "python",
   "pygments_lexer": "ipython3",
   "version": "3.8.5"
  }
 },
 "nbformat": 4,
 "nbformat_minor": 4
}
