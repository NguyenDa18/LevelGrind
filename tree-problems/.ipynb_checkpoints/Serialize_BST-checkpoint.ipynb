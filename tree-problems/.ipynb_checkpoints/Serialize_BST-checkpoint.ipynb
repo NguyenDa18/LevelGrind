{
 "cells": [
  {
   "cell_type": "markdown",
   "metadata": {
    "colab_type": "text",
    "id": "view-in-github"
   },
   "source": [
    "<a href=\"https://colab.research.google.com/github/NguyenDa18/LevelGrind/blob/master/Serialize_BST.ipynb\" target=\"_parent\"><img src=\"https://colab.research.google.com/assets/colab-badge.svg\" alt=\"Open In Colab\"/></a>"
   ]
  },
  {
   "cell_type": "markdown",
   "metadata": {
    "colab_type": "text",
    "id": "TQfMV3yIEXez"
   },
   "source": [
    "# Serialize BST : Daily Coding Problem #3\n",
    "Good morning! Here's your coding interview problem for today.\n",
    "\n",
    "This problem was asked by Google.\n",
    "\n",
    "Given the root to a binary tree, implement serialize(root), which serializes the tree into a string, and deserialize(s), which deserializes the string back into the tree.\n",
    "\n",
    "For example, given the following Node class\n",
    "```python\n",
    "class Node:\n",
    "    def __init__(self, val, left=None, right=None):\n",
    "        self.val = val\n",
    "        self.left = left\n",
    "        self.right = right\n",
    "```\n",
    "The following test should pass:\n",
    "\n",
    "```\n",
    "node = Node('root', Node('left', Node('left.left')), Node('right'))\n",
    "assert deserialize(serialize(node)).left.left.val == 'left.left'\n",
    "```"
   ]
  },
  {
   "cell_type": "markdown",
   "metadata": {
    "colab_type": "text",
    "id": "eGrTWQ-lEyEa"
   },
   "source": [
    "### Tips:\n",
    "- Remember python json package!\n",
    "- Create python Node class first\n",
    "- Then write serialize and deserialize functions\n",
    "- JSON dumps: serialize\n",
    "- JSON loads: deserialize"
   ]
  },
  {
   "cell_type": "code",
   "execution_count": 0,
   "metadata": {
    "colab": {},
    "colab_type": "code",
    "id": "T_QFGaL0EnTE"
   },
   "outputs": [],
   "source": [
    "import json\n",
    "\n",
    "class Node:\n",
    "    def __init__(self, data):\n",
    "        self.data = data\n",
    "        self.left = None\n",
    "        self.right = None\n",
    "    \n",
    "    def __repr__(self):\n",
    "        return str(self.data)"
   ]
  },
  {
   "cell_type": "code",
   "execution_count": 1,
   "metadata": {
    "colab": {},
    "colab_type": "code",
    "id": "Gzb9LyQ9FO25"
   },
   "outputs": [],
   "source": [
    "def serialize(root):\n",
    "    if not root:\n",
    "        return None\n",
    "\n",
    "    serialized_tree_map = dict()\n",
    "    serialized_left = serialize(root.left)\n",
    "    serialized_right = serialize(root.right)\n",
    "    serialized_tree_map['data'] = root.data\n",
    "    if serialized_left:\n",
    "        serialized_tree_map['left'] = serialized_left\n",
    "    if serialized_right:\n",
    "        serialized_tree_map['right'] = serialized_right\n",
    "    \n",
    "    return json.dumps(serialized_tree_map)"
   ]
  },
  {
   "cell_type": "code",
   "execution_count": 0,
   "metadata": {
    "colab": {},
    "colab_type": "code",
    "id": "D26EpAj_FyKP"
   },
   "outputs": [],
   "source": [
    "def deserialize(string):\n",
    "  serialized_tree_map = json.loads(string)\n",
    "  node = Node(serialized_tree_map['data'])\n",
    "  if 'left' in serialized_tree_map:\n",
    "    node.left = deserialize(serialized_tree_map['left'])\n",
    "  if 'right' in serialized_tree_map:\n",
    "    node.right = deserialize(serialized_tree_map['right'])\n",
    "    \n",
    "  return node"
   ]
  },
  {
   "cell_type": "markdown",
   "metadata": {
    "colab_type": "text",
    "id": "fjl4GohoGZBO"
   },
   "source": [
    "## Testing with new Node:\n",
    "\n",
    "               a\n",
    "              / \\\n",
    "            b    c\n",
    "           / \\  / \\\n",
    "         d   e f  g"
   ]
  },
  {
   "cell_type": "code",
   "execution_count": 0,
   "metadata": {
    "colab": {},
    "colab_type": "code",
    "id": "fHuJ1rL5GV0Q"
   },
   "outputs": [],
   "source": [
    "node_a = Node('a')\n",
    "node_b = Node('b')\n",
    "node_c = Node('c')\n",
    "node_d = Node('d')\n",
    "node_e = Node('e')\n",
    "node_f = Node('f')\n",
    "node_g = Node('g')\n",
    "\n",
    "node_a.left = node_b\n",
    "node_a.right = node_c\n",
    "node_b.left = node_d\n",
    "node_b.right = node_e\n",
    "node_c.left = node_f\n",
    "node_c.right = node_g"
   ]
  },
  {
   "cell_type": "code",
   "execution_count": 8,
   "metadata": {
    "colab": {
     "base_uri": "https://localhost:8080/",
     "height": 54
    },
    "colab_type": "code",
    "id": "F1dwdd6EHwJ0",
    "outputId": "d6755c8c-2ea3-4980-ad99-ae87653087a7"
   },
   "outputs": [
    {
     "name": "stdout",
     "output_type": "stream",
     "text": [
      "{\"data\": \"a\", \"left\": \"{\\\"data\\\": \\\"b\\\", \\\"left\\\": \\\"{\\\\\\\"data\\\\\\\": \\\\\\\"d\\\\\\\"}\\\", \\\"right\\\": \\\"{\\\\\\\"data\\\\\\\": \\\\\\\"e\\\\\\\"}\\\"}\", \"right\": \"{\\\"data\\\": \\\"c\\\", \\\"left\\\": \\\"{\\\\\\\"data\\\\\\\": \\\\\\\"f\\\\\\\"}\\\", \\\"right\\\": \\\"{\\\\\\\"data\\\\\\\": \\\\\\\"g\\\\\\\"}\\\"}\"}\n"
     ]
    }
   ],
   "source": [
    "serialized_a = serialize(node_a)\n",
    "print(serialized_a)"
   ]
  },
  {
   "cell_type": "code",
   "execution_count": 12,
   "metadata": {
    "colab": {
     "base_uri": "https://localhost:8080/",
     "height": 34
    },
    "colab_type": "code",
    "id": "Xkt19sBrH0vP",
    "outputId": "f647d40a-d59a-4ee5-a925-d0a063991419"
   },
   "outputs": [
    {
     "name": "stdout",
     "output_type": "stream",
     "text": [
      "a\n"
     ]
    }
   ],
   "source": [
    "deserialized_a = deserialize(serialized_a)\n",
    "print(deserialized_a)\n",
    "assert str(deserialized_a) == 'a'"
   ]
  }
 ],
 "metadata": {
  "colab": {
   "include_colab_link": true,
   "name": "Serialize BST.ipynb",
   "provenance": [],
   "version": "0.3.2"
  },
  "kernelspec": {
   "display_name": "Python 3",
   "language": "python",
   "name": "python3"
  },
  "language_info": {
   "codemirror_mode": {
    "name": "ipython",
    "version": 3
   },
   "file_extension": ".py",
   "mimetype": "text/x-python",
   "name": "python",
   "nbconvert_exporter": "python",
   "pygments_lexer": "ipython3",
   "version": "3.8.5"
  }
 },
 "nbformat": 4,
 "nbformat_minor": 1
}
