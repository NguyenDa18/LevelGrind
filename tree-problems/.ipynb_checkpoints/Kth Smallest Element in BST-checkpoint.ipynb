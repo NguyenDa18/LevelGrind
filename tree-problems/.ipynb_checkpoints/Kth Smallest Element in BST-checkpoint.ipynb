{
 "cells": [
  {
   "cell_type": "code",
   "execution_count": 1,
   "metadata": {},
   "outputs": [
    {
     "name": "stdout",
     "output_type": "stream",
     "text": [
      "Requirement already satisfied: binarytree in /usr/local/anaconda3/lib/python3.8/site-packages (6.3.0)\n",
      "Requirement already satisfied: graphviz in /usr/local/anaconda3/lib/python3.8/site-packages (from binarytree) (0.16)\n",
      "Requirement already satisfied: setuptools>=42 in /usr/local/anaconda3/lib/python3.8/site-packages (from binarytree) (50.3.1.post20201107)\n",
      "Requirement already satisfied: setuptools-scm[toml]>=3.4 in /usr/local/anaconda3/lib/python3.8/site-packages (from binarytree) (6.0.1)\n",
      "Requirement already satisfied: toml; extra == \"toml\" in /usr/local/anaconda3/lib/python3.8/site-packages (from setuptools-scm[toml]>=3.4->binarytree) (0.10.1)\n"
     ]
    }
   ],
   "source": [
    "# Install a pip package in the current Jupyter kernel\n",
    "# https://jakevdp.github.io/blog/2017/12/05/installing-python-packages-from-jupyter/\n",
    "import sys\n",
    "!{sys.executable} -m pip install binarytree"
   ]
  },
  {
   "cell_type": "code",
   "execution_count": 2,
   "metadata": {},
   "outputs": [],
   "source": [
    "from binarytree import Node"
   ]
  },
  {
   "cell_type": "code",
   "execution_count": 28,
   "metadata": {},
   "outputs": [
    {
     "data": {
      "image/svg+xml": [
       "\n",
       "<svg width=\"192\" height=\"192\" xmlns=\"http://www.w3.org/2000/svg\">\n",
       "<style>\n",
       "    .value {\n",
       "        font: 300 16px sans-serif;\n",
       "        text-align: center;\n",
       "        dominant-baseline: middle;\n",
       "        text-anchor: middle;\n",
       "    }\n",
       "    .node {\n",
       "        fill: lightgray;\n",
       "        stroke-width: 1;\n",
       "    }\n",
       "</style>\n",
       "<g stroke=\"#000000\">\n",
       "<line x1=\"41.0\" y1=\"96\" x2=\"65.0\" y2=\"144\"/>\n",
       "<line x1=\"89.0\" y1=\"48\" x2=\"137.0\" y2=\"96\"/>\n",
       "<line x1=\"89.0\" y1=\"48\" x2=\"41.0\" y2=\"96\"/>\n",
       "<circle class=\"node\" cx=\"89.0\" cy=\"48\" r=\"16\"/>\n",
       "<text class=\"value\" x=\"89.0\" y=\"48\">30</text>\n",
       "<circle class=\"node\" cx=\"41.0\" cy=\"96\" r=\"16\"/>\n",
       "<text class=\"value\" x=\"41.0\" y=\"96\">10</text>\n",
       "<circle class=\"node\" cx=\"137.0\" cy=\"96\" r=\"16\"/>\n",
       "<text class=\"value\" x=\"137.0\" y=\"96\">40</text>\n",
       "<circle class=\"node\" cx=\"65.0\" cy=\"144\" r=\"16\"/>\n",
       "<text class=\"value\" x=\"65.0\" y=\"144\">20</text>\n",
       "</g>\n",
       "</svg>\n"
      ],
      "text/plain": [
       "Node(30)"
      ]
     },
     "execution_count": 28,
     "metadata": {},
     "output_type": "execute_result"
    }
   ],
   "source": [
    "root = Node(30)\n",
    "root.left = Node(10)\n",
    "root.right = Node(40)\n",
    "root.left.right = Node(20)\n",
    "\n",
    "root"
   ]
  },
  {
   "cell_type": "code",
   "execution_count": 6,
   "metadata": {},
   "outputs": [],
   "source": [
    "def kth_smallest(tree, k):\n",
    "    stack = [tree]\n",
    "    visited = set()\n",
    "    while stack:\n",
    "        v = stack.pop()\n",
    "        visited.add(v)\n",
    "        if v.left.val:\n",
    "            print(v.left.val)\n",
    "        if v.right.val:\n",
    "            print(v.right.val)\n",
    "        "
   ]
  },
  {
   "cell_type": "code",
   "execution_count": 8,
   "metadata": {},
   "outputs": [
    {
     "name": "stdout",
     "output_type": "stream",
     "text": [
      "1\n",
      "4\n"
     ]
    }
   ],
   "source": [
    "kth_smallest(root, 1)"
   ]
  },
  {
   "cell_type": "code",
   "execution_count": 30,
   "metadata": {},
   "outputs": [],
   "source": [
    "def kthSmallest(root, k):\n",
    "    n = 0\n",
    "    stack = []\n",
    "    cur = root\n",
    "    \n",
    "    while cur or stack:\n",
    "        stack.append(cur)\n",
    "        cur = cur.left\n",
    "        \n",
    "        cur = stack.pop()\n",
    "        n += 1\n",
    "        if n == k:\n",
    "            return cur.val\n",
    "        cur = cur.right"
   ]
  },
  {
   "cell_type": "code",
   "execution_count": 31,
   "metadata": {},
   "outputs": [
    {
     "name": "stdout",
     "output_type": "stream",
     "text": [
      "40\n"
     ]
    }
   ],
   "source": [
    "result = kthSmallest(root, 4)\n",
    "print(result)"
   ]
  },
  {
   "cell_type": "code",
   "execution_count": null,
   "metadata": {},
   "outputs": [],
   "source": []
  }
 ],
 "metadata": {
  "kernelspec": {
   "display_name": "Python 3",
   "language": "python",
   "name": "python3"
  },
  "language_info": {
   "codemirror_mode": {
    "name": "ipython",
    "version": 3
   },
   "file_extension": ".py",
   "mimetype": "text/x-python",
   "name": "python",
   "nbconvert_exporter": "python",
   "pygments_lexer": "ipython3",
   "version": "3.8.5"
  }
 },
 "nbformat": 4,
 "nbformat_minor": 4
}
