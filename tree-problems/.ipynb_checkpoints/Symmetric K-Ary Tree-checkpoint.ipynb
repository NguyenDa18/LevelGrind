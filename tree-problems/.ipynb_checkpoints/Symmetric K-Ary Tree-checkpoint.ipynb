{
 "cells": [
  {
   "cell_type": "markdown",
   "metadata": {},
   "source": [
    "# Symmetric K-Ary Tree : Daily Coding Problem #237 [Easy]\n",
    "Good morning! Here's your coding interview problem for today.\n",
    "\n",
    "This problem was asked by Amazon.\n",
    "\n",
    "A tree is symmetric if its data and shape remain unchanged when it is reflected about the root node. The following tree is an example:\n",
    "\n",
    "```\n",
    "        4\n",
    "      / | \\\n",
    "    3   5   3\n",
    "  /           \\\n",
    "9              9\n",
    "```\n",
    "Given a k-ary tree, determine whether it is symmetric."
   ]
  },
  {
   "cell_type": "code",
   "execution_count": 1,
   "metadata": {},
   "outputs": [
    {
     "name": "stdout",
     "output_type": "stream",
     "text": [
      "Requirement already satisfied: binarytree in /usr/local/anaconda3/lib/python3.8/site-packages (6.3.0)\n",
      "Requirement already satisfied: setuptools>=42 in /usr/local/anaconda3/lib/python3.8/site-packages (from binarytree) (50.3.1.post20201107)\n",
      "Requirement already satisfied: setuptools-scm[toml]>=3.4 in /usr/local/anaconda3/lib/python3.8/site-packages (from binarytree) (6.0.1)\n",
      "Requirement already satisfied: graphviz in /usr/local/anaconda3/lib/python3.8/site-packages (from binarytree) (0.16)\n",
      "Requirement already satisfied: toml; extra == \"toml\" in /usr/local/anaconda3/lib/python3.8/site-packages (from setuptools-scm[toml]>=3.4->binarytree) (0.10.1)\n"
     ]
    }
   ],
   "source": [
    "# Install a pip package in the current Jupyter kernel\n",
    "# https://jakevdp.github.io/blog/2017/12/05/installing-python-packages-from-jupyter/\n",
    "import sys\n",
    "!{sys.executable} -m pip install binarytree"
   ]
  },
  {
   "cell_type": "code",
   "execution_count": 4,
   "metadata": {},
   "outputs": [
    {
     "data": {
      "image/svg+xml": [
       "\n",
       "<svg width=\"192\" height=\"192\" xmlns=\"http://www.w3.org/2000/svg\">\n",
       "<style>\n",
       "    .value {\n",
       "        font: 300 16px sans-serif;\n",
       "        text-align: center;\n",
       "        dominant-baseline: middle;\n",
       "        text-anchor: middle;\n",
       "    }\n",
       "    .node {\n",
       "        fill: lightgray;\n",
       "        stroke-width: 1;\n",
       "    }\n",
       "</style>\n",
       "<g stroke=\"#000000\">\n",
       "<line x1=\"137.0\" y1=\"96\" x2=\"161.0\" y2=\"144\"/>\n",
       "<line x1=\"41.0\" y1=\"96\" x2=\"17.0\" y2=\"144\"/>\n",
       "<line x1=\"89.0\" y1=\"48\" x2=\"137.0\" y2=\"96\"/>\n",
       "<line x1=\"89.0\" y1=\"48\" x2=\"41.0\" y2=\"96\"/>\n",
       "<circle class=\"node\" cx=\"89.0\" cy=\"48\" r=\"16\"/>\n",
       "<text class=\"value\" x=\"89.0\" y=\"48\">4</text>\n",
       "<circle class=\"node\" cx=\"41.0\" cy=\"96\" r=\"16\"/>\n",
       "<text class=\"value\" x=\"41.0\" y=\"96\">3</text>\n",
       "<circle class=\"node\" cx=\"137.0\" cy=\"96\" r=\"16\"/>\n",
       "<text class=\"value\" x=\"137.0\" y=\"96\">3</text>\n",
       "<circle class=\"node\" cx=\"17.0\" cy=\"144\" r=\"16\"/>\n",
       "<text class=\"value\" x=\"17.0\" y=\"144\">9</text>\n",
       "<circle class=\"node\" cx=\"161.0\" cy=\"144\" r=\"16\"/>\n",
       "<text class=\"value\" x=\"161.0\" y=\"144\">9</text>\n",
       "</g>\n",
       "</svg>\n"
      ],
      "text/plain": [
       "Node(4)"
      ]
     },
     "execution_count": 4,
     "metadata": {},
     "output_type": "execute_result"
    }
   ],
   "source": [
    "from binarytree import Node\n",
    "root = Node(4)\n",
    "root.left = Node(3)\n",
    "root.right = Node(3)\n",
    "root.left.left = Node(9)\n",
    "root.right.right = Node(9)\n",
    "\n",
    "root"
   ]
  },
  {
   "cell_type": "markdown",
   "metadata": {},
   "source": [
    "### [Solution Source](https://www.geeksforgeeks.org/symmetric-tree-tree-which-is-mirror-image-of-itself/)"
   ]
  },
  {
   "cell_type": "code",
   "execution_count": 6,
   "metadata": {},
   "outputs": [],
   "source": [
    "def is_mirror(root1, root2):\n",
    "    # Consider empty tree(s) mirror images\n",
    "    if root1 is None and root2 is None:\n",
    "        return True\n",
    "    \n",
    "    if (root1 is not None and root2 is not None):\n",
    "        if root1.val == root2.val:\n",
    "            return (is_mirror(root1.left, root2.left) and is_mirror(root1.right, root2.right))"
   ]
  },
  {
   "cell_type": "code",
   "execution_count": 7,
   "metadata": {},
   "outputs": [],
   "source": [
    "def is_symmetric(root):\n",
    "    # check if tree is mirror of itself\n",
    "    return is_mirror(root, root)"
   ]
  },
  {
   "cell_type": "code",
   "execution_count": 8,
   "metadata": {},
   "outputs": [
    {
     "data": {
      "text/plain": [
       "True"
      ]
     },
     "execution_count": 8,
     "metadata": {},
     "output_type": "execute_result"
    }
   ],
   "source": [
    "is_symmetric(root)"
   ]
  },
  {
   "cell_type": "code",
   "execution_count": null,
   "metadata": {},
   "outputs": [],
   "source": []
  }
 ],
 "metadata": {
  "kernelspec": {
   "display_name": "Python 3",
   "language": "python",
   "name": "python3"
  },
  "language_info": {
   "codemirror_mode": {
    "name": "ipython",
    "version": 3
   },
   "file_extension": ".py",
   "mimetype": "text/x-python",
   "name": "python",
   "nbconvert_exporter": "python",
   "pygments_lexer": "ipython3",
   "version": "3.8.5"
  }
 },
 "nbformat": 4,
 "nbformat_minor": 4
}
