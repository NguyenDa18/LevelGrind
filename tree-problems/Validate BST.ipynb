{
 "cells": [
  {
   "cell_type": "markdown",
   "metadata": {},
   "source": [
    "# Validate BST : LeetCode #98\n",
    "Given the root of a binary tree, determine if it is a valid binary search tree (BST).\n",
    "\n",
    "A valid BST is defined as follows:\n",
    "\n",
    "The left subtree of a node contains only nodes with keys less than the node's key.\n",
    "The right subtree of a node contains only nodes with keys greater than the node's key.\n",
    "Both the left and right subtrees must also be binary search trees.\n",
    "\n",
    "- [Solution Source](https://www.youtube.com/watch?v=s6ATEkipzow&list=PLot-Xpze53ldg4pN6PfzoJY7KsKcxF1jg&index=4)"
   ]
  },
  {
   "cell_type": "code",
   "execution_count": 1,
   "metadata": {},
   "outputs": [
    {
     "name": "stdout",
     "output_type": "stream",
     "text": [
      "Requirement already satisfied: binarytree in /usr/local/anaconda3/lib/python3.8/site-packages (6.3.0)\n",
      "Requirement already satisfied: graphviz in /usr/local/anaconda3/lib/python3.8/site-packages (from binarytree) (0.16)\n",
      "Requirement already satisfied: setuptools>=42 in /usr/local/anaconda3/lib/python3.8/site-packages (from binarytree) (50.3.1.post20201107)\n",
      "Requirement already satisfied: setuptools-scm[toml]>=3.4 in /usr/local/anaconda3/lib/python3.8/site-packages (from binarytree) (6.0.1)\n",
      "Requirement already satisfied: toml; extra == \"toml\" in /usr/local/anaconda3/lib/python3.8/site-packages (from setuptools-scm[toml]>=3.4->binarytree) (0.10.1)\n"
     ]
    }
   ],
   "source": [
    "# Install a pip package in the current Jupyter kernel\n",
    "# https://jakevdp.github.io/blog/2017/12/05/installing-python-packages-from-jupyter/\n",
    "import sys\n",
    "!{sys.executable} -m pip install binarytree"
   ]
  },
  {
   "cell_type": "code",
   "execution_count": 28,
   "metadata": {},
   "outputs": [
    {
     "data": {
      "image/svg+xml": [
       "\n",
       "<svg width=\"192\" height=\"192\" xmlns=\"http://www.w3.org/2000/svg\">\n",
       "<style>\n",
       "    .value {\n",
       "        font: 300 16px sans-serif;\n",
       "        text-align: center;\n",
       "        dominant-baseline: middle;\n",
       "        text-anchor: middle;\n",
       "    }\n",
       "    .node {\n",
       "        fill: lightgray;\n",
       "        stroke-width: 1;\n",
       "    }\n",
       "</style>\n",
       "<g stroke=\"#000000\">\n",
       "<line x1=\"41.0\" y1=\"96\" x2=\"65.0\" y2=\"144\"/>\n",
       "<line x1=\"89.0\" y1=\"48\" x2=\"137.0\" y2=\"96\"/>\n",
       "<line x1=\"89.0\" y1=\"48\" x2=\"41.0\" y2=\"96\"/>\n",
       "<circle class=\"node\" cx=\"89.0\" cy=\"48\" r=\"16\"/>\n",
       "<text class=\"value\" x=\"89.0\" y=\"48\">2</text>\n",
       "<circle class=\"node\" cx=\"41.0\" cy=\"96\" r=\"16\"/>\n",
       "<text class=\"value\" x=\"41.0\" y=\"96\">1</text>\n",
       "<circle class=\"node\" cx=\"137.0\" cy=\"96\" r=\"16\"/>\n",
       "<text class=\"value\" x=\"137.0\" y=\"96\">3</text>\n",
       "<circle class=\"node\" cx=\"65.0\" cy=\"144\" r=\"16\"/>\n",
       "<text class=\"value\" x=\"65.0\" y=\"144\">4</text>\n",
       "</g>\n",
       "</svg>\n"
      ],
      "text/plain": [
       "Node(2)"
      ]
     },
     "execution_count": 28,
     "metadata": {},
     "output_type": "execute_result"
    }
   ],
   "source": [
    "from binarytree import Node\n",
    "\n",
    "root = Node(2)\n",
    "root.left = Node(1)\n",
    "root.right = Node(3)\n",
    "root.left.right = Node(4)\n",
    "\n",
    "root"
   ]
  },
  {
   "cell_type": "code",
   "execution_count": 30,
   "metadata": {},
   "outputs": [],
   "source": [
    "def valid_bst(tree):\n",
    "    def fulfills_bst_props(node, left, right):\n",
    "        if not node:\n",
    "            return True\n",
    "        if not (node.val > left and node.val < right):\n",
    "            return False\n",
    "        return (fulfills_bst_props(node.left, left, node.val) and \\\n",
    "               fulfills_bst_props(node.right, node.val, right))\n",
    "    \n",
    "    return fulfills_bst_props(tree, float(\"-inf\"), float(\"inf\"))"
   ]
  },
  {
   "cell_type": "code",
   "execution_count": 31,
   "metadata": {},
   "outputs": [
    {
     "data": {
      "text/plain": [
       "False"
      ]
     },
     "execution_count": 31,
     "metadata": {},
     "output_type": "execute_result"
    }
   ],
   "source": [
    "valid_bst(root)"
   ]
  },
  {
   "cell_type": "code",
   "execution_count": 32,
   "metadata": {},
   "outputs": [
    {
     "data": {
      "image/svg+xml": [
       "\n",
       "<svg width=\"48\" height=\"96\" xmlns=\"http://www.w3.org/2000/svg\">\n",
       "<style>\n",
       "    .value {\n",
       "        font: 300 16px sans-serif;\n",
       "        text-align: center;\n",
       "        dominant-baseline: middle;\n",
       "        text-anchor: middle;\n",
       "    }\n",
       "    .node {\n",
       "        fill: lightgray;\n",
       "        stroke-width: 1;\n",
       "    }\n",
       "</style>\n",
       "<g stroke=\"#000000\">\n",
       "<circle class=\"node\" cx=\"17.0\" cy=\"48\" r=\"16\"/>\n",
       "<text class=\"value\" x=\"17.0\" y=\"48\">5</text>\n",
       "</g>\n",
       "</svg>\n"
      ],
      "text/plain": [
       "Node(5)"
      ]
     },
     "execution_count": 32,
     "metadata": {},
     "output_type": "execute_result"
    }
   ],
   "source": [
    "empty_tree = Node(5)\n",
    "empty_tree"
   ]
  },
  {
   "cell_type": "code",
   "execution_count": 33,
   "metadata": {},
   "outputs": [
    {
     "data": {
      "text/plain": [
       "True"
      ]
     },
     "execution_count": 33,
     "metadata": {},
     "output_type": "execute_result"
    }
   ],
   "source": [
    "valid_bst(empty_tree)"
   ]
  }
 ],
 "metadata": {
  "kernelspec": {
   "display_name": "Python 3",
   "language": "python",
   "name": "python3"
  },
  "language_info": {
   "codemirror_mode": {
    "name": "ipython",
    "version": 3
   },
   "file_extension": ".py",
   "mimetype": "text/x-python",
   "name": "python",
   "nbconvert_exporter": "python",
   "pygments_lexer": "ipython3",
   "version": "3.8.5"
  }
 },
 "nbformat": 4,
 "nbformat_minor": 4
}
