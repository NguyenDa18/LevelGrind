{
  "nbformat": 4,
  "nbformat_minor": 0,
  "metadata": {
    "colab": {
      "name": "Subset Sum.ipynb",
      "version": "0.3.2",
      "provenance": [],
      "include_colab_link": true
    },
    "kernelspec": {
      "name": "python3",
      "display_name": "Python 3"
    }
  },
  "cells": [
    {
      "cell_type": "markdown",
      "metadata": {
        "id": "view-in-github",
        "colab_type": "text"
      },
      "source": [
        "<a href=\"https://colab.research.google.com/github/NguyenDa18/LevelGrind/blob/master/Subset_Sum.ipynb\" target=\"_parent\"><img src=\"https://colab.research.google.com/assets/colab-badge.svg\" alt=\"Open In Colab\"/></a>"
      ]
    },
    {
      "cell_type": "markdown",
      "metadata": {
        "id": "oqADSlPHO7Xh",
        "colab_type": "text"
      },
      "source": [
        "# Subset Sum : Daily Coding Problem #42\n",
        "Good morning! Here's your coding interview problem for today.\n",
        "\n",
        "This problem was asked by Google.\n",
        "\n",
        "Given a list of integers S and a target number k, write a function that returns a subset of S that adds up to k. If such a subset cannot be made, then return null.\n",
        "\n",
        "Integers can appear more than once in the list. You may assume all numbers in the list are positive.\n",
        "\n",
        "For example, given S = [12, 1, 61, 5, 9, 2] and k = 24, return [12, 9, 2, 1] since it sums up to 24."
      ]
    },
    {
      "cell_type": "code",
      "metadata": {
        "id": "XXJKVaMuPH-c",
        "colab_type": "code",
        "colab": {}
      },
      "source": [
        "def subset_sum(S, k):\n",
        "  if len(S) == 0:\n",
        "    return None\n",
        "  if S[0] == k:\n",
        "    return [S[0]]\n",
        "  \n",
        "  S = sorted(S)\n",
        "  \n",
        "  with_first = subset_sum(S[1:], k - S[0])\n",
        "  if with_first:\n",
        "    return [S[0]] + with_first\n",
        "  else:\n",
        "    return subset_sum(S[1:], k)"
      ],
      "execution_count": 0,
      "outputs": []
    },
    {
      "cell_type": "code",
      "metadata": {
        "id": "Caejr-w5QCEa",
        "colab_type": "code",
        "colab": {
          "base_uri": "https://localhost:8080/",
          "height": 34
        },
        "outputId": "19383d9a-e007-43a7-b7d4-8652ca86dbf9"
      },
      "source": [
        "S = [12, 1, 61, 5, 9, 2]\n",
        "k = 24\n",
        "result = subset_sum(S, k)\n",
        "print(result)"
      ],
      "execution_count": 5,
      "outputs": [
        {
          "output_type": "stream",
          "text": [
            "[1, 2, 9, 12]\n"
          ],
          "name": "stdout"
        }
      ]
    }
  ]
}