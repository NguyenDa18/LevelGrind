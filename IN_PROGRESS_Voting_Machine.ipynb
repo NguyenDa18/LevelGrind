{
  "nbformat": 4,
  "nbformat_minor": 0,
  "metadata": {
    "colab": {
      "name": "Voting Machine.ipynb",
      "version": "0.3.2",
      "provenance": [],
      "toc_visible": true,
      "include_colab_link": true
    },
    "kernelspec": {
      "name": "python3",
      "display_name": "Python 3"
    }
  },
  "cells": [
    {
      "cell_type": "markdown",
      "metadata": {
        "id": "view-in-github",
        "colab_type": "text"
      },
      "source": [
        "<a href=\"https://colab.research.google.com/github/NguyenDa18/LevelGrind/blob/master/IN_PROGRESS_Voting_Machine.ipynb\" target=\"_parent\"><img src=\"https://colab.research.google.com/assets/colab-badge.svg\" alt=\"Open In Colab\"/></a>"
      ]
    },
    {
      "cell_type": "markdown",
      "metadata": {
        "id": "xYsoZsJqt0rm",
        "colab_type": "text"
      },
      "source": [
        "# Voting Machine : Daily Coding Problem #300\n",
        "Good morning! Here's your coding interview problem for today.\n",
        "\n",
        "This problem was asked by Uber.\n",
        "\n",
        "On election day, a voting machine writes data in the form (voter_id, candidate_id) to a text file. Write a program that reads this file as a stream and returns the top 3 candidates at any given time. If you find a voter voting more than once, report this as fraud."
      ]
    },
    {
      "cell_type": "code",
      "metadata": {
        "id": "w7jz07pYuceY",
        "colab_type": "code",
        "colab": {}
      },
      "source": [
        "file = {\n",
        "    '008': '10003432',\n",
        "    '002': '43344534',\n",
        "    '005': '23432425',\n",
        "    '099': '33424234',\n",
        "    '008': '33424233'\n",
        "}"
      ],
      "execution_count": 0,
      "outputs": []
    },
    {
      "cell_type": "code",
      "metadata": {
        "id": "grFLAger45E5",
        "colab_type": "code",
        "colab": {}
      },
      "source": [
        "class VoterFraudException(Exception):\n",
        "  pass"
      ],
      "execution_count": 0,
      "outputs": []
    },
    {
      "cell_type": "code",
      "metadata": {
        "id": "nbdyKJ4Tt0Tf",
        "colab_type": "code",
        "colab": {}
      },
      "source": [
        "class VotingMachine:\n",
        "  def __init__(self):\n",
        "    self.votes = dict()\n",
        "    self.leadboard = list()\n",
        "    self.voters = set()\n",
        "    \n",
        "  def input_vote(self, candidate: int, voter: int):\n",
        "    if voter in self.voters:\n",
        "      raise VoterFraudException(\"Fraud committed by voter {}\".format(voter))\n",
        "    self.voters.add(voter)"
      ],
      "execution_count": 0,
      "outputs": []
    },
    {
      "cell_type": "code",
      "metadata": {
        "id": "GLdNEEYF5Now",
        "colab_type": "code",
        "colab": {}
      },
      "source": [
        ""
      ],
      "execution_count": 0,
      "outputs": []
    }
  ]
}