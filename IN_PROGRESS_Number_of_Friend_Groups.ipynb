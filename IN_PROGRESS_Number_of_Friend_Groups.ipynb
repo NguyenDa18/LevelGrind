{
  "nbformat": 4,
  "nbformat_minor": 0,
  "metadata": {
    "colab": {
      "name": "IN PROGRESS Number of Friend Groups.ipynb",
      "version": "0.3.2",
      "provenance": [],
      "include_colab_link": true
    },
    "kernelspec": {
      "name": "python3",
      "display_name": "Python 3"
    }
  },
  "cells": [
    {
      "cell_type": "markdown",
      "metadata": {
        "id": "view-in-github",
        "colab_type": "text"
      },
      "source": [
        "<a href=\"https://colab.research.google.com/github/NguyenDa18/LevelGrind/blob/master/IN_PROGRESS_Number_of_Friend_Groups.ipynb\" target=\"_parent\"><img src=\"https://colab.research.google.com/assets/colab-badge.svg\" alt=\"Open In Colab\"/></a>"
      ]
    },
    {
      "cell_type": "markdown",
      "metadata": {
        "id": "UQ4b7kIajHj_",
        "colab_type": "text"
      },
      "source": [
        "# Number of Friend Groups : Daily Coding Problem #279\n",
        "Good morning! Here's your coding interview problem for today.\n",
        "\n",
        "This problem was asked by Twitter.\n",
        "\n",
        "A classroom consists of N students, whose friendships can be represented in an adjacency list. For example, the following descibes a situation where 0 is friends with 1 and 2, 3 is friends with 6, and so on.\n",
        "```python\n",
        "{0: [1, 2],\n",
        " 1: [0, 5],\n",
        " 2: [0],\n",
        " 3: [6],\n",
        " 4: [],\n",
        " 5: [1],\n",
        " 6: [3]} \n",
        "```\n",
        "\n",
        "Each student can be placed in a friend group, which can be defined as the transitive closure of that student's friendship relations. In other words, this is the smallest set such that no student in the group has any friends outside this group. For the example above, the friend groups would be {0, 1, 2, 5}, {3, 6}, {4}.\n",
        "\n",
        "Given a friendship list such as the one above, determine the number of friend groups in the class.\n"
      ]
    },
    {
      "cell_type": "code",
      "metadata": {
        "id": "kNezDm-zoUMi",
        "colab_type": "code",
        "colab": {}
      },
      "source": [
        "def in_friend_groups(friend_groups, num):\n",
        "  for group in friend_groups:\n",
        "    if num in group:\n",
        "      return group"
      ],
      "execution_count": 0,
      "outputs": []
    },
    {
      "cell_type": "code",
      "metadata": {
        "id": "uwINky1Ji_4e",
        "colab_type": "code",
        "colab": {}
      },
      "source": [
        "def find_friend_groups(friend_list):\n",
        "  friend_groups = []\n",
        "  \n",
        "  for friend in friend_list:\n",
        "    if friend_list[friend] == []:\n",
        "      friend_groups.append([friend])\n",
        "    for i in range(0, 7):\n",
        "      if i in friend_list[friend]:\n",
        "        friend_groups.append(friend)\n",
        "        \n",
        "        \n",
        "        \n",
        "  return friend_groups"
      ],
      "execution_count": 0,
      "outputs": []
    },
    {
      "cell_type": "code",
      "metadata": {
        "id": "0jvYmGInjt5Z",
        "colab_type": "code",
        "colab": {
          "base_uri": "https://localhost:8080/",
          "height": 34
        },
        "outputId": "2c398a61-218b-4da9-905b-78b9e66f40ee"
      },
      "source": [
        "friend_list = {\n",
        " 0: [1, 2],\n",
        " 1: [0, 5],\n",
        " 2: [0],\n",
        " 3: [6],\n",
        " 4: [],\n",
        " 5: [1],\n",
        " 6: [3]\n",
        "}\n",
        "\n",
        "result = find_friend_groups(friend_list)\n",
        "print(result)"
      ],
      "execution_count": 41,
      "outputs": [
        {
          "output_type": "stream",
          "text": [
            "[0, 0, 1, 1, 2, 3, [4], 5, 6]\n"
          ],
          "name": "stdout"
        }
      ]
    },
    {
      "cell_type": "code",
      "metadata": {
        "id": "WLruY6P0j_x3",
        "colab_type": "code",
        "colab": {}
      },
      "source": [
        ""
      ],
      "execution_count": 0,
      "outputs": []
    }
  ]
}