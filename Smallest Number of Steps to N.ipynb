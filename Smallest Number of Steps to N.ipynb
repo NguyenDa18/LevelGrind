{
 "cells": [
  {
   "cell_type": "markdown",
   "metadata": {},
   "source": [
    "# Smallest Number of Steps to N\n",
    "## Daily Coding Problem #419\n",
    "Good morning! Here's your coding interview problem for today.\n",
    "\n",
    "This problem was asked by PagerDuty.\n",
    "\n",
    "Given a positive integer N, find the smallest number of steps it will take to reach 1.\n",
    "\n",
    "There are two kinds of permitted steps:\n",
    "\n",
    "You may decrement N to N - 1.\n",
    "If a * b = N, you may decrement N to the larger of a and b.\n",
    "For example, given 100, you can reach 1 in five steps with the following route: 100 -> 10 -> 9 -> 3 -> 2 -> 1."
   ]
  },
  {
   "cell_type": "code",
   "execution_count": null,
   "metadata": {},
   "outputs": [],
   "source": [
    "def smallestNumberOfSteps(N, M):\n",
    "    ans = 0\n",
    "    \n",
    "    # continue until M is greater than N:\n",
    "    while (M > N):\n",
    "        ans += 1\n",
    "        \n",
    "    return ans + N - M\n",
    "    "
   ]
  }
 ],
 "metadata": {
  "kernelspec": {
   "display_name": "Python 3",
   "language": "python",
   "name": "python3"
  },
  "language_info": {
   "codemirror_mode": {
    "name": "ipython",
    "version": 3
   },
   "file_extension": ".py",
   "mimetype": "text/x-python",
   "name": "python",
   "nbconvert_exporter": "python",
   "pygments_lexer": "ipython3",
   "version": "3.7.4"
  }
 },
 "nbformat": 4,
 "nbformat_minor": 2
}
