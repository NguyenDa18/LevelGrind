{
  "nbformat": 4,
  "nbformat_minor": 0,
  "metadata": {
    "colab": {
      "name": "IN PROGRESS Dijkstra Algorithm.ipynb",
      "version": "0.3.2",
      "provenance": [],
      "include_colab_link": true
    },
    "kernelspec": {
      "name": "python3",
      "display_name": "Python 3"
    }
  },
  "cells": [
    {
      "cell_type": "markdown",
      "metadata": {
        "id": "view-in-github",
        "colab_type": "text"
      },
      "source": [
        "<a href=\"https://colab.research.google.com/github/NguyenDa18/LevelGrind/blob/master/IN_PROGRESS_Dijkstra_Algorithm.ipynb\" target=\"_parent\"><img src=\"https://colab.research.google.com/assets/colab-badge.svg\" alt=\"Open In Colab\"/></a>"
      ]
    },
    {
      "cell_type": "code",
      "metadata": {
        "id": "0JKrJ7iWueMF",
        "colab_type": "code",
        "colab": {}
      },
      "source": [
        ""
      ],
      "execution_count": 0,
      "outputs": []
    },
    {
      "cell_type": "markdown",
      "metadata": {
        "id": "vD2WohiwvduQ",
        "colab_type": "text"
      },
      "source": [
        "# Dijkstra's Algorithm\n",
        "- Find the lowest cost path in the WEIGHTED graph\n",
        "- Algorithm works when all weights are positive"
      ]
    },
    {
      "cell_type": "code",
      "metadata": {
        "id": "H23CEp5nwUce",
        "colab_type": "code",
        "colab": {}
      },
      "source": [
        "def find_lowest_cost_node(costs):\n",
        "  lowest_cost = float(\"inf\")\n",
        "  lowest_cost_node = None\n",
        "  for node in costs:\n",
        "    cost = costs[node]\n",
        "    if cost < lowest_cost and node not in processed:\n",
        "      lowest_cost = cost\n",
        "      lowest_cost_node = node\n",
        "      \n",
        "  return lowest_cost_node"
      ],
      "execution_count": 0,
      "outputs": []
    },
    {
      "cell_type": "code",
      "metadata": {
        "id": "hSgzE4y-vkiy",
        "colab_type": "code",
        "colab": {}
      },
      "source": [
        "def dijkstra_alg():\n",
        "  node = find_lowest_cost_node(costs)\n",
        "  \n",
        "  while node is not None:\n",
        "    cost = costs[node]\n",
        "    neighbors = graph[node]\n",
        "    \n",
        "    for n in neighbors.keys():\n",
        "      new_cost = cost + neighbors[n]\n",
        "      if costs[n] > new_cost:\n",
        "        costs[n] = new_cost\n",
        "        parents[n] = node\n",
        "    processed.append(node)\n",
        "    node = find_lowest_cost_node(costs)"
      ],
      "execution_count": 0,
      "outputs": []
    },
    {
      "cell_type": "markdown",
      "metadata": {
        "id": "1pgRY696xDSS",
        "colab_type": "text"
      },
      "source": [
        "## Demo"
      ]
    },
    {
      "cell_type": "code",
      "metadata": {
        "id": "idr0sB63xC65",
        "colab_type": "code",
        "colab": {}
      },
      "source": [
        "graph = {\n",
        "    'start': {\n",
        "        'a': 6,\n",
        "        'b': 2\n",
        "    },\n",
        "    'a': {\n",
        "        'fin': 1,\n",
        "    },\n",
        "    'b': {\n",
        "        'a': 3,\n",
        "        'fin': 5\n",
        "    },\n",
        "    'fin': {}\n",
        "}"
      ],
      "execution_count": 0,
      "outputs": []
    },
    {
      "cell_type": "code",
      "metadata": {
        "id": "tEOD63AdyIKH",
        "colab_type": "code",
        "colab": {
          "base_uri": "https://localhost:8080/",
          "height": 85
        },
        "outputId": "b4ad76e0-4588-4ae5-ca7f-fab0a0271213"
      },
      "source": [
        "for node in graph:\n",
        "  print(graph[node].keys())"
      ],
      "execution_count": 5,
      "outputs": [
        {
          "output_type": "stream",
          "text": [
            "dict_keys(['a', 'b'])\n",
            "dict_keys(['fin'])\n",
            "dict_keys(['a', 'fin'])\n",
            "dict_keys([])\n"
          ],
          "name": "stdout"
        }
      ]
    },
    {
      "cell_type": "code",
      "metadata": {
        "id": "hl_pOpBhyP21",
        "colab_type": "code",
        "colab": {}
      },
      "source": [
        ""
      ],
      "execution_count": 0,
      "outputs": []
    }
  ]
}