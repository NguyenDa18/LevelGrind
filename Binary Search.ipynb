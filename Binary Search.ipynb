{
 "cells": [
  {
   "cell_type": "markdown",
   "metadata": {
    "colab_type": "text",
    "id": "view-in-github"
   },
   "source": [
    "<a href=\"https://colab.research.google.com/github/NguyenDa18/LevelGrind/blob/master/Binary%20Search.ipynb\" target=\"_parent\"><img src=\"https://colab.research.google.com/assets/colab-badge.svg\" alt=\"Open In Colab\"/></a>"
   ]
  },
  {
   "cell_type": "markdown",
   "metadata": {
    "colab_type": "text",
    "id": "KnCwIjTE6I_M"
   },
   "source": [
    "# Binary Search\n",
    "- Given sorted array of n elements, search for given element x in sorted array\n",
    "\n",
    "## Thinking Process\n",
    "- Take advantage of already sorted nature of input\n",
    "- Start at middle\n",
    "- Eliminate possibilities by repeatedly dividing search interval in half\n",
    "\n",
    "> Time: O(lgN)"
   ]
  },
  {
   "cell_type": "code",
   "execution_count": 0,
   "metadata": {
    "colab": {},
    "colab_type": "code",
    "id": "5GslkXJJ6I_P"
   },
   "outputs": [],
   "source": [
    "def binary_search(list, item):\n",
    "    low = 0\n",
    "    high = len(list) - 1\n",
    "    while low <= high:\n",
    "        mid = low + (high - 1) // 2\n",
    "        guess = list[mid]\n",
    "        if guess == item:\n",
    "            return mid\n",
    "        elif guess > item:\n",
    "            high = mid - 1\n",
    "        else:\n",
    "            low = mid + 1\n",
    "\n",
    "    return -1"
   ]
  },
  {
   "cell_type": "code",
   "execution_count": 5,
   "metadata": {
    "colab": {
     "base_uri": "https://localhost:8080/",
     "height": 34
    },
    "colab_type": "code",
    "id": "iRioxztD6I_Y",
    "outputId": "1808cb4f-5c5e-4a38-eceb-4b8ca42c53b4"
   },
   "outputs": [
    {
     "name": "stdout",
     "output_type": "stream",
     "text": [
      "Element is present at index  3\n"
     ]
    }
   ],
   "source": [
    "my_list = [1, 3, 5, 7, 9]\n",
    "result = binary_search(my_list, 7)\n",
    "\n",
    "if result != -1: \n",
    "    print(\"Element is present at index % d\" % result) \n",
    "else: \n",
    "    print(\"Element is not present in array\")\n"
   ]
  },
  {
   "cell_type": "code",
   "execution_count": 12,
   "metadata": {
    "colab": {
     "base_uri": "https://localhost:8080/",
     "height": 34
    },
    "colab_type": "code",
    "id": "fpLFqq0K6hsn",
    "outputId": "5c7523ef-7697-448c-cfe9-fb5565d43f47"
   },
   "outputs": [
    {
     "name": "stdout",
     "output_type": "stream",
     "text": [
      "Element is present at index  5\n"
     ]
    }
   ],
   "source": [
    "my_list = [8, 10, 11, 14, 20, 21, 23]\n",
    "result = binary_search(my_list, 21)\n",
    "\n",
    "if result != -1: \n",
    "    print(\"Element is present at index % d\" % result) \n",
    "else: \n",
    "    print(\"Element is not present in array\")"
   ]
  },
  {
   "cell_type": "code",
   "execution_count": 0,
   "metadata": {
    "colab": {},
    "colab_type": "code",
    "id": "X6ILjLt-6i0k"
   },
   "outputs": [],
   "source": []
  }
 ],
 "metadata": {
  "colab": {
   "include_colab_link": true,
   "name": "Binary Search.ipynb",
   "provenance": [],
   "version": "0.3.2"
  },
  "kernelspec": {
   "display_name": "Python 3",
   "language": "python",
   "name": "python3"
  },
  "language_info": {
   "codemirror_mode": {
    "name": "ipython",
    "version": 3
   },
   "file_extension": ".py",
   "mimetype": "text/x-python",
   "name": "python",
   "nbconvert_exporter": "python",
   "pygments_lexer": "ipython3",
   "version": "3.8.5"
  }
 },
 "nbformat": 4,
 "nbformat_minor": 1
}
