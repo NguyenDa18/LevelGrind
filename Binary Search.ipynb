{
  "nbformat": 4,
  "nbformat_minor": 0,
  "metadata": {
    "colab": {
      "name": "Binary Search.ipynb",
      "version": "0.3.2",
      "provenance": [],
      "include_colab_link": true
    },
    "language_info": {
      "codemirror_mode": {
        "name": "ipython",
        "version": 3
      },
      "file_extension": ".py",
      "mimetype": "text/x-python",
      "name": "python",
      "nbconvert_exporter": "python",
      "pygments_lexer": "ipython3",
      "version": "3.5.2"
    },
    "kernelspec": {
      "display_name": "Python 3",
      "language": "python",
      "name": "python3"
    }
  },
  "cells": [
    {
      "cell_type": "markdown",
      "metadata": {
        "id": "view-in-github",
        "colab_type": "text"
      },
      "source": [
        "<a href=\"https://colab.research.google.com/github/NguyenDa18/LevelGrind/blob/master/Binary%20Search.ipynb\" target=\"_parent\"><img src=\"https://colab.research.google.com/assets/colab-badge.svg\" alt=\"Open In Colab\"/></a>"
      ]
    },
    {
      "metadata": {
        "id": "KnCwIjTE6I_M",
        "colab_type": "text"
      },
      "cell_type": "markdown",
      "source": [
        "# Binary Search\n",
        "- Given sorted array of n elements, search for given element x in sorted array\n",
        "\n",
        "## Thinking Process\n",
        "- Take advantage of already sorted nature of input\n",
        "- Start at middle\n",
        "- Eliminate possibilities by repeatedly dividing search interval in half\n",
        "\n",
        "> Time: O(lgN)"
      ]
    },
    {
      "metadata": {
        "id": "5GslkXJJ6I_P",
        "colab_type": "code",
        "colab": {}
      },
      "cell_type": "code",
      "source": [
        "def binary_search(list, item):\n",
        "    low = 0\n",
        "    high = len(list) - 1\n",
        "    while low <= high:\n",
        "        mid = low + (high - 1) // 2\n",
        "        guess = list[mid]\n",
        "        if guess == item:\n",
        "            return mid\n",
        "        elif guess > item:\n",
        "            high = mid - 1\n",
        "        else:\n",
        "            low = mid + 1\n",
        "\n",
        "    return -1"
      ],
      "execution_count": 0,
      "outputs": []
    },
    {
      "metadata": {
        "id": "iRioxztD6I_Y",
        "colab_type": "code",
        "colab": {
          "base_uri": "https://localhost:8080/",
          "height": 34
        },
        "outputId": "1808cb4f-5c5e-4a38-eceb-4b8ca42c53b4"
      },
      "cell_type": "code",
      "source": [
        "my_list = [1, 3, 5, 7, 9]\n",
        "result = binary_search(my_list, 7)\n",
        "\n",
        "if result != -1: \n",
        "    print(\"Element is present at index % d\" % result) \n",
        "else: \n",
        "    print(\"Element is not present in array\")\n"
      ],
      "execution_count": 5,
      "outputs": [
        {
          "output_type": "stream",
          "text": [
            "Element is present at index  3\n"
          ],
          "name": "stdout"
        }
      ]
    },
    {
      "metadata": {
        "id": "fpLFqq0K6hsn",
        "colab_type": "code",
        "colab": {
          "base_uri": "https://localhost:8080/",
          "height": 34
        },
        "outputId": "5c7523ef-7697-448c-cfe9-fb5565d43f47"
      },
      "cell_type": "code",
      "source": [
        "my_list = [8, 10, 11, 14, 20, 21, 23]\n",
        "result = binary_search(my_list, 21)\n",
        "\n",
        "if result != -1: \n",
        "    print(\"Element is present at index % d\" % result) \n",
        "else: \n",
        "    print(\"Element is not present in array\")"
      ],
      "execution_count": 12,
      "outputs": [
        {
          "output_type": "stream",
          "text": [
            "Element is present at index  5\n"
          ],
          "name": "stdout"
        }
      ]
    },
    {
      "metadata": {
        "id": "X6ILjLt-6i0k",
        "colab_type": "code",
        "colab": {}
      },
      "cell_type": "code",
      "source": [
        ""
      ],
      "execution_count": 0,
      "outputs": []
    }
  ]
}