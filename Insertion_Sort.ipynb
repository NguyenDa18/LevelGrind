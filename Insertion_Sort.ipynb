{
  "nbformat": 4,
  "nbformat_minor": 0,
  "metadata": {
    "colab": {
      "name": "Insertion Sort.ipynb",
      "version": "0.3.2",
      "provenance": [],
      "include_colab_link": true
    },
    "kernelspec": {
      "name": "python3",
      "display_name": "Python 3"
    }
  },
  "cells": [
    {
      "cell_type": "markdown",
      "metadata": {
        "id": "view-in-github",
        "colab_type": "text"
      },
      "source": [
        "<a href=\"https://colab.research.google.com/github/NguyenDa18/LevelGrind/blob/master/Insertion_Sort.ipynb\" target=\"_parent\"><img src=\"https://colab.research.google.com/assets/colab-badge.svg\" alt=\"Open In Colab\"/></a>"
      ]
    },
    {
      "cell_type": "markdown",
      "metadata": {
        "id": "1bVMonzZVgDm",
        "colab_type": "text"
      },
      "source": [
        "# Insertion Sort : AlgoExpert\n",
        "Write a function that takes in an array of integers and returns a sorted array. Use the Insertion Algorithm to sort the array.\n",
        "```\n",
        "Sample input: [8, 5, 2, 9, 5, 6, 3]\n",
        "  Sample output: [2, 3, 5, 5, 6, 8, 9]\n",
        "```\n"
      ]
    },
    {
      "cell_type": "code",
      "metadata": {
        "id": "o1UHhqmiVu4b",
        "colab_type": "code",
        "colab": {}
      },
      "source": [
        "# Best: O(n) time\n",
        "# Avg: O(n ^ 2) time\n",
        "# Worst: O(n ^ 2) time\n",
        "\n",
        "def insertionSort(array):\n",
        "  for i in range(1, len(array)):\n",
        "    j = i\n",
        "    while (j > 0 and array[j] < array[j - 1]):\n",
        "      array[j], array[j - 1] = array[j - 1], array[j]\n",
        "      j -= 1\n",
        "  return array"
      ],
      "execution_count": 0,
      "outputs": []
    },
    {
      "cell_type": "code",
      "metadata": {
        "id": "jJ26nEvgWbF_",
        "colab_type": "code",
        "colab": {
          "base_uri": "https://localhost:8080/",
          "height": 34
        },
        "outputId": "9a63fd7d-258b-4581-a200-b1e119005661"
      },
      "source": [
        "test = [-7, 2, 3, 8, -10, 4, -6, -10, -2, -7, 10, 5, 2, 9, -9, -5, 3, 8]\n",
        "result = insertionSort(test)\n",
        "print(result)"
      ],
      "execution_count": 4,
      "outputs": [
        {
          "output_type": "stream",
          "text": [
            "[-10, -10, -9, -7, -7, -6, -5, -2, 2, 2, 3, 3, 4, 5, 8, 8, 9, 10]\n"
          ],
          "name": "stdout"
        }
      ]
    }
  ]
}