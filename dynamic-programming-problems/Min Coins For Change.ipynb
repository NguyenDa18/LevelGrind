{
 "cells": [
  {
   "cell_type": "markdown",
   "metadata": {},
   "source": [
    "# Min Number of Coins For Change\n",
    "- Given array of positive integers representing coin denominations and a single non-negative integer representing a target amount of money, implement a function that returns the smallest number of coins needed to make change for that target amount using the given coin denominations. An unlimited coins is at your disposal. If it is impossible to make change for the target amount return -1."
   ]
  },
  {
   "cell_type": "code",
   "execution_count": 4,
   "metadata": {},
   "outputs": [],
   "source": [
    "def minNumberOfCoinsForChange(n, denoms):\n",
    "    numOfCoins = [float(\"inf\") for amount in range(n + 1)]\n",
    "    numOfCoins[0] = 0\n",
    "    for denom in denoms:\n",
    "        for amount in range(len(numOfCoins)):\n",
    "            if denom <= amount:\n",
    "                numOfCoins[amount] = min(numOfCoins[amount], numOfCoins[amount - denom] + 1)\n",
    "                \n",
    "    return numOfCoins[n] if numOfCoins[n] != float(\"inf\") else -1"
   ]
  },
  {
   "cell_type": "code",
   "execution_count": 6,
   "metadata": {},
   "outputs": [],
   "source": [
    "denoms1 = [2, 1]\n",
    "result = minNumberOfCoinsForChange(3, denoms1)\n",
    "assert result == 2"
   ]
  },
  {
   "cell_type": "code",
   "execution_count": null,
   "metadata": {},
   "outputs": [],
   "source": []
  }
 ],
 "metadata": {
  "kernelspec": {
   "display_name": "Python 3",
   "language": "python",
   "name": "python3"
  },
  "language_info": {
   "codemirror_mode": {
    "name": "ipython",
    "version": 3
   },
   "file_extension": ".py",
   "mimetype": "text/x-python",
   "name": "python",
   "nbconvert_exporter": "python",
   "pygments_lexer": "ipython3",
   "version": "3.7.4"
  }
 },
 "nbformat": 4,
 "nbformat_minor": 2
}
