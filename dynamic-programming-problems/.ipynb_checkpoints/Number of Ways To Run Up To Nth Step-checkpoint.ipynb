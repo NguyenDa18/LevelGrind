{
 "cells": [
  {
   "cell_type": "code",
   "execution_count": null,
   "metadata": {},
   "outputs": [],
   "source": [
    "def count_step_ways(num_steps):\n",
    "    if num_steps is None or num_steps < 0:\n",
    "        raise TypeError('num_steps cannot be None or negative')\n",
    "    cache = {}\n",
    "    return count_ways(num_steps, cache)\n",
    "\n",
    "def count_ways(num_steps, cache):\n",
    "    if num_steps < 0:\n",
    "        return 0\n",
    "    if num_steps == 0:\n",
    "        return 1\n",
    "    if num_steps in cache:\n",
    "        return cache[num_steps]\n",
    "    cache[num_steps] = (count_ways(num_steps - 1, cache) + count_ways(num_steps - 2) + count_ways(num_steps - 3))\n",
    "    return cache[num_steps]"
   ]
  }
 ],
 "metadata": {
  "kernelspec": {
   "display_name": "Python 3",
   "language": "python",
   "name": "python3"
  },
  "language_info": {
   "codemirror_mode": {
    "name": "ipython",
    "version": 3
   },
   "file_extension": ".py",
   "mimetype": "text/x-python",
   "name": "python",
   "nbconvert_exporter": "python",
   "pygments_lexer": "ipython3",
   "version": "3.8.5"
  }
 },
 "nbformat": 4,
 "nbformat_minor": 4
}
