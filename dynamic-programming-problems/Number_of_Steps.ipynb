{
  "nbformat": 4,
  "nbformat_minor": 0,
  "metadata": {
    "colab": {
      "name": "Number of Steps.ipynb",
      "version": "0.3.2",
      "provenance": [],
      "include_colab_link": true
    },
    "kernelspec": {
      "name": "python3",
      "display_name": "Python 3"
    }
  },
  "cells": [
    {
      "cell_type": "markdown",
      "metadata": {
        "id": "view-in-github",
        "colab_type": "text"
      },
      "source": [
        "<a href=\"https://colab.research.google.com/github/NguyenDa18/LevelGrind/blob/master/Number_of_Steps.ipynb\" target=\"_parent\"><img src=\"https://colab.research.google.com/assets/colab-badge.svg\" alt=\"Open In Colab\"/></a>"
      ]
    },
    {
      "cell_type": "markdown",
      "metadata": {
        "id": "FvKoSHygHmFB",
        "colab_type": "text"
      },
      "source": [
        "# Number of Steps : Daily Coding Problem #321\n",
        "\n",
        "This problem was asked by PagerDuty.\n",
        "\n",
        "Given a positive integer N, find the smallest number of steps it will take to reach 1.\n",
        "\n",
        "There are two kinds of permitted steps:\n",
        "\n",
        "You may decrement N to N - 1.\n",
        "If a * b = N, you may decrement N to the larger of a and b.\n",
        "For example, given 100, you can reach 1 in five steps with the following route: 100 -> 10 -> 9 -> 3 -> 2 -> 1.\n",
        "\n",
        "\n",
        "- Alt:\n",
        "```\n",
        "Operation 1: If the number is even then you can divide the number by 2.\n",
        "Operation 2: If the number is odd then you are allowed to perform either (n+1) or (n-1).\n",
        "```"
      ]
    },
    {
      "cell_type": "code",
      "metadata": {
        "id": "W777GVuyHtfd",
        "colab_type": "code",
        "colab": {}
      },
      "source": [
        "def numSteps(num):\n",
        "  if num == 1:\n",
        "    return 0\n",
        "  elif num % 2 == 0:\n",
        "    return 1 + numSteps(num / 2)\n",
        "  else:\n",
        "    return 1 + min(numSteps(num - 1), numSteps(num + 1))"
      ],
      "execution_count": 0,
      "outputs": []
    },
    {
      "cell_type": "code",
      "metadata": {
        "id": "QOLZf40OmjWB",
        "colab_type": "code",
        "colab": {
          "base_uri": "https://localhost:8080/",
          "height": 34
        },
        "outputId": "7f402f81-d176-4c48-fdf9-5b45936a3bf7"
      },
      "source": [
        "num = 15\n",
        "result = numSteps(num)\n",
        "print(result)"
      ],
      "execution_count": 9,
      "outputs": [
        {
          "output_type": "stream",
          "text": [
            "5\n"
          ],
          "name": "stdout"
        }
      ]
    }
  ]
}