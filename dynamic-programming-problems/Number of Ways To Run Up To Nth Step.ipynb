{
 "cells": [
  {
   "cell_type": "code",
   "execution_count": 6,
   "metadata": {},
   "outputs": [],
   "source": [
    "def count_step_ways(num_steps):\n",
    "    if num_steps is None or num_steps < 0:\n",
    "        raise TypeError('num_steps cannot be None or negative')\n",
    "    cache = {}\n",
    "    return count_ways(num_steps, cache)\n",
    "\n",
    "def count_ways(num_steps, cache):\n",
    "    print(cache)\n",
    "    if num_steps < 0:\n",
    "        return 0\n",
    "    if num_steps == 0:\n",
    "        return 1\n",
    "    if num_steps in cache:\n",
    "        return cache[num_steps]\n",
    "    cache[num_steps] = (count_ways(num_steps - 1, cache) + count_ways(num_steps - 2, cache) + count_ways(num_steps - 3, cache))\n",
    "    return cache[num_steps]"
   ]
  },
  {
   "cell_type": "code",
   "execution_count": 7,
   "metadata": {},
   "outputs": [
    {
     "name": "stdout",
     "output_type": "stream",
     "text": [
      "{}\n",
      "{}\n",
      "{}\n",
      "{}\n",
      "{}\n",
      "{}\n",
      "{}\n",
      "{}\n",
      "{}\n",
      "{}\n",
      "{}\n",
      "{}\n",
      "{}\n",
      "{1: 1}\n",
      "{1: 1}\n",
      "{1: 1, 2: 2}\n",
      "{1: 1, 2: 2}\n",
      "{1: 1, 2: 2, 3: 4}\n",
      "{1: 1, 2: 2, 3: 4}\n",
      "{1: 1, 2: 2, 3: 4, 4: 7}\n",
      "{1: 1, 2: 2, 3: 4, 4: 7}\n",
      "{1: 1, 2: 2, 3: 4, 4: 7, 5: 13}\n",
      "{1: 1, 2: 2, 3: 4, 4: 7, 5: 13}\n",
      "{1: 1, 2: 2, 3: 4, 4: 7, 5: 13, 6: 24}\n",
      "{1: 1, 2: 2, 3: 4, 4: 7, 5: 13, 6: 24}\n",
      "{1: 1, 2: 2, 3: 4, 4: 7, 5: 13, 6: 24, 7: 44}\n",
      "{1: 1, 2: 2, 3: 4, 4: 7, 5: 13, 6: 24, 7: 44}\n",
      "{1: 1, 2: 2, 3: 4, 4: 7, 5: 13, 6: 24, 7: 44, 8: 81}\n",
      "{1: 1, 2: 2, 3: 4, 4: 7, 5: 13, 6: 24, 7: 44, 8: 81}\n",
      "{1: 1, 2: 2, 3: 4, 4: 7, 5: 13, 6: 24, 7: 44, 8: 81, 9: 149}\n",
      "{1: 1, 2: 2, 3: 4, 4: 7, 5: 13, 6: 24, 7: 44, 8: 81, 9: 149}\n"
     ]
    },
    {
     "data": {
      "text/plain": [
       "274"
      ]
     },
     "execution_count": 7,
     "metadata": {},
     "output_type": "execute_result"
    }
   ],
   "source": [
    "result = count_step_ways(10)\n",
    "result"
   ]
  },
  {
   "cell_type": "code",
   "execution_count": null,
   "metadata": {},
   "outputs": [],
   "source": []
  }
 ],
 "metadata": {
  "kernelspec": {
   "display_name": "Python 3",
   "language": "python",
   "name": "python3"
  },
  "language_info": {
   "codemirror_mode": {
    "name": "ipython",
    "version": 3
   },
   "file_extension": ".py",
   "mimetype": "text/x-python",
   "name": "python",
   "nbconvert_exporter": "python",
   "pygments_lexer": "ipython3",
   "version": "3.8.5"
  }
 },
 "nbformat": 4,
 "nbformat_minor": 4
}
