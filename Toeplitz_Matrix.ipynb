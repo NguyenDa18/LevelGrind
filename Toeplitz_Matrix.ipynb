{
  "nbformat": 4,
  "nbformat_minor": 0,
  "metadata": {
    "colab": {
      "name": "Toeplitz Matrix.ipynb",
      "version": "0.3.2",
      "provenance": [],
      "include_colab_link": true
    },
    "kernelspec": {
      "name": "python3",
      "display_name": "Python 3"
    }
  },
  "cells": [
    {
      "cell_type": "markdown",
      "metadata": {
        "id": "view-in-github",
        "colab_type": "text"
      },
      "source": [
        "<a href=\"https://colab.research.google.com/github/NguyenDa18/LevelGrind/blob/master/Toeplitz_Matrix.ipynb\" target=\"_parent\"><img src=\"https://colab.research.google.com/assets/colab-badge.svg\" alt=\"Open In Colab\"/></a>"
      ]
    },
    {
      "cell_type": "markdown",
      "metadata": {
        "id": "O8HIKYsN06h2",
        "colab_type": "text"
      },
      "source": [
        "# Toeplitz Matrix : Daily Coding Problem #315\n",
        "Good morning! Here's your coding interview problem for today.\n",
        "\n",
        "This problem was asked by Google.\n",
        "\n",
        "In linear algebra, a Toeplitz matrix is one in which the elements on any given diagonal from top left to bottom right are identical.\n",
        "\n",
        "Here is an example:\n",
        "\n",
        "```\n",
        "1 2 3 4 8\n",
        "5 1 2 3 4\n",
        "4 5 1 2 3\n",
        "7 4 5 1 2\n",
        "```\n",
        "\n",
        "Write a program to determine whether a given input is a Toeplitz matrix.\n",
        "\n",
        "** Note:\n",
        "- matrix will be a 2D array of integers.\n",
        "- matrix will have a number of rows and columns in range [1, 20].\n",
        "- matrix[i][j] will be integers in range [0, 99]."
      ]
    },
    {
      "cell_type": "code",
      "metadata": {
        "id": "yQoteFNe04mF",
        "colab_type": "code",
        "colab": {}
      },
      "source": [
        "def isToeplitzMatrix(matrix):\n",
        "  groups = {}\n",
        "  for r, row in enumerate(matrix):\n",
        "    for c, val in enumerate(row):\n",
        "      if r - c not in groups:\n",
        "        groups[r - c] = val\n",
        "      elif groups[r - c] != val:\n",
        "        return False\n",
        "    return True\n",
        "      \n",
        "  "
      ],
      "execution_count": 0,
      "outputs": []
    },
    {
      "cell_type": "code",
      "metadata": {
        "id": "KWpKqV5n4vZL",
        "colab_type": "code",
        "colab": {
          "base_uri": "https://localhost:8080/",
          "height": 34
        },
        "outputId": "a3a2a8b8-6716-4ed7-a092-156f72625929"
      },
      "source": [
        "matrix = [\n",
        "  [1,2,3,4],\n",
        "  [5,1,2,3],\n",
        "  [9,5,1,2]\n",
        "]\n",
        "\n",
        "result = isToeplitzMatrix(matrix)\n",
        "print(result)"
      ],
      "execution_count": 10,
      "outputs": [
        {
          "output_type": "stream",
          "text": [
            "True\n"
          ],
          "name": "stdout"
        }
      ]
    }
  ]
}