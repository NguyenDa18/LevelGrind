{
 "cells": [
  {
   "cell_type": "code",
   "execution_count": 2,
   "metadata": {},
   "outputs": [],
   "source": [
    "grid_map = [[1,1,1,1,0],\n",
    "           [1,1,0,1,0],\n",
    "           [1,1,0,0,0],\n",
    "           [0,0,0,0,0]]"
   ]
  },
  {
   "cell_type": "code",
   "execution_count": 3,
   "metadata": {},
   "outputs": [],
   "source": [
    "from collections import deque"
   ]
  },
  {
   "cell_type": "code",
   "execution_count": null,
   "metadata": {},
   "outputs": [],
   "source": [
    "class Solution:\n",
    "    def num_islands(self, grid: List[List[int]]):\n",
    "        if not grid:\n",
    "            return 0\n",
    "        rows, cols - len(grid), len(grid[0])\n",
    "        visit = set()\n",
    "        islands = 0\n",
    "        \n",
    "        def bfs(r,c):\n",
    "            q = collections.deque()\n",
    "            visit.add((r,c))\n",
    "            q.append((r,c))\n",
    "            while q:\n",
    "                row, col = q.popleft()\n",
    "                directions = [[1,0], [-1,0], [0,1], [0,-1]]\n",
    "                for dr, dc in directions:\n",
    "                    r, c = row + dr, col + dc\n",
    "                    if (r in range(rows) and c in range(cols) and grid[r][c] == 1 and (r,c) not in visit):\n",
    "                        q.append((r,c))\n",
    "                        visit.add((r,c))"
   ]
  }
 ],
 "metadata": {
  "kernelspec": {
   "display_name": "Python 3",
   "language": "python",
   "name": "python3"
  },
  "language_info": {
   "codemirror_mode": {
    "name": "ipython",
    "version": 3
   },
   "file_extension": ".py",
   "mimetype": "text/x-python",
   "name": "python",
   "nbconvert_exporter": "python",
   "pygments_lexer": "ipython3",
   "version": "3.8.5"
  }
 },
 "nbformat": 4,
 "nbformat_minor": 4
}
