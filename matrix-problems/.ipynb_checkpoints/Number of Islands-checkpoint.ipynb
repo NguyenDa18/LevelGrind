{
 "cells": [
  {
   "cell_type": "code",
   "execution_count": 2,
   "metadata": {},
   "outputs": [],
   "source": [
    "grid_map = [[1,1,1,1,0],\n",
    "           [1,1,0,1,0],\n",
    "           [1,1,0,0,0],\n",
    "           [0,0,0,0,0]]"
   ]
  },
  {
   "cell_type": "markdown",
   "metadata": {},
   "source": [
    "## Core Idea\n",
    "- Use algorithm to \"spread out\" and count instances of \"1\"s and add to islands count\n",
    "\n",
    "```\n",
    "def num_islands(self, grid):\n",
    "    if not grid:\n",
    "        return 0\n",
    "       rows, cols = len(grid), len(grid[0])\n",
    "       visit = set()\n",
    "       islands = 0\n",
    "       \n",
    "       bfs(r,c) or dfs(r,c)\n",
    "       \n",
    "       for r in range(rows):\n",
    "           for c in range(cols):\n",
    "               if grid[r][c] == \"1\" and (r, c) not in visit:\n",
    "                   # measure area of island with BFS\n",
    "                   bfs(r,c) or dfs(r,c)\n",
    "                   islands += 1\n",
    "       return islands\n",
    "```"
   ]
  },
  {
   "cell_type": "code",
   "execution_count": 11,
   "metadata": {},
   "outputs": [],
   "source": [
    "import collections\n",
    "from collections import deque\n",
    "class Solution:\n",
    "    def num_islands(self, grid):\n",
    "        if not grid:\n",
    "            return 0\n",
    "        rows, cols = len(grid), len(grid[0])\n",
    "        visit = set()\n",
    "        islands = 0\n",
    "        \n",
    "        def bfs(r,c):\n",
    "            q = collections.deque()\n",
    "            visit.add((r,c))\n",
    "            q.append((r,c))\n",
    "            while q:\n",
    "                row, col = q.popleft()\n",
    "                \n",
    "                directions = [[1,0], [-1,0], [0,1], [0,-1]]\n",
    "                \n",
    "                # check all directions\n",
    "                for dr, dc in directions:\n",
    "                    r, c = row + dr, col + dc\n",
    "                    if (r in range(rows) and \\\n",
    "                        c in range(cols) and \\\n",
    "                        grid[r][c] == \"1\" and \\\n",
    "                        (r, c) not in visit):\n",
    "                        q.append((r,c))\n",
    "                        visit.add((r,c))\n",
    "        for r in range(rows):\n",
    "            for c in range(cols):\n",
    "                if grid[r][c] == \"1\" and (r,c) not in visit:\n",
    "                    bfs(r,c)\n",
    "                    islands += 1\n",
    "        return islands"
   ]
  },
  {
   "cell_type": "code",
   "execution_count": 12,
   "metadata": {},
   "outputs": [
    {
     "name": "stdout",
     "output_type": "stream",
     "text": [
      "1\n"
     ]
    }
   ],
   "source": [
    "grid = [[\"1\",\"1\",\"1\",\"1\",\"0\"],\\\n",
    "        [\"1\",\"1\",\"0\",\"1\",\"0\"],\\\n",
    "        [\"1\",\"1\",\"0\",\"0\",\"0\"],\\\n",
    "        [\"0\",\"0\",\"0\",\"0\",\"0\"]]\n",
    "\n",
    "solution = Solution()\n",
    "result = solution.num_islands(grid)\n",
    "\n",
    "print(result)"
   ]
  },
  {
   "cell_type": "code",
   "execution_count": 13,
   "metadata": {},
   "outputs": [
    {
     "name": "stdout",
     "output_type": "stream",
     "text": [
      "3\n"
     ]
    }
   ],
   "source": [
    "grid3 = [\n",
    "  [\"1\",\"1\",\"0\",\"0\",\"0\"],\n",
    "  [\"1\",\"1\",\"0\",\"0\",\"0\"],\n",
    "  [\"0\",\"0\",\"1\",\"0\",\"0\"],\n",
    "  [\"0\",\"0\",\"0\",\"1\",\"1\"]\n",
    "]\n",
    "\n",
    "solution = Solution()\n",
    "result = solution.num_islands(grid3)\n",
    "\n",
    "print(result)"
   ]
  }
 ],
 "metadata": {
  "kernelspec": {
   "display_name": "Python 3",
   "language": "python",
   "name": "python3"
  },
  "language_info": {
   "codemirror_mode": {
    "name": "ipython",
    "version": 3
   },
   "file_extension": ".py",
   "mimetype": "text/x-python",
   "name": "python",
   "nbconvert_exporter": "python",
   "pygments_lexer": "ipython3",
   "version": "3.8.5"
  }
 },
 "nbformat": 4,
 "nbformat_minor": 4
}
