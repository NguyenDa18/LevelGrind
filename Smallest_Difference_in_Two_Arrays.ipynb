{
  "nbformat": 4,
  "nbformat_minor": 0,
  "metadata": {
    "colab": {
      "name": "Smallest Difference in Two Arrays.ipynb",
      "version": "0.3.2",
      "provenance": [],
      "collapsed_sections": [],
      "include_colab_link": true
    },
    "kernelspec": {
      "name": "python3",
      "display_name": "Python 3"
    }
  },
  "cells": [
    {
      "cell_type": "markdown",
      "metadata": {
        "id": "view-in-github",
        "colab_type": "text"
      },
      "source": [
        "<a href=\"https://colab.research.google.com/github/NguyenDa18/LevelGrind/blob/master/Smallest_Difference_in_Two_Arrays.ipynb\" target=\"_parent\"><img src=\"https://colab.research.google.com/assets/colab-badge.svg\" alt=\"Open In Colab\"/></a>"
      ]
    },
    {
      "metadata": {
        "id": "dPJ1KYetl_fX",
        "colab_type": "text"
      },
      "cell_type": "markdown",
      "source": [
        "# Smallest Difference"
      ]
    },
    {
      "metadata": {
        "id": "XpGiOKWZmPqr",
        "colab_type": "text"
      },
      "cell_type": "markdown",
      "source": [
        "- Write a function that takes in two non-empty arrays of integers. The function should find the pair of numbers (oen from first array, one from second array) whose absolute difference is closest to zero. The function should return an array containing these two numbers, with the number from the first array in the first position."
      ]
    },
    {
      "metadata": {
        "id": "X9WCAtdimCyi",
        "colab_type": "text"
      },
      "cell_type": "markdown",
      "source": [
        "# Thinking Process"
      ]
    },
    {
      "metadata": {
        "id": "fvtmjGXzmrqs",
        "colab_type": "text"
      },
      "cell_type": "markdown",
      "source": [
        "- Start by sorting both arrays\n",
        "- Put pointer at beginning of both arrays and evaluate the difference\n",
        "- Increment pointer of smaller of two numbers to find potentially better pair: bigger value leads to smaller difference"
      ]
    },
    {
      "metadata": {
        "id": "A2oeOxYppTk2",
        "colab_type": "text"
      },
      "cell_type": "markdown",
      "source": [
        "# Solution"
      ]
    },
    {
      "metadata": {
        "id": "fDzKMULZpXr3",
        "colab_type": "code",
        "colab": {
          "base_uri": "https://localhost:8080/",
          "height": 51
        },
        "outputId": "ddd293a8-91b9-4ac5-c379-3bebe2935064"
      },
      "cell_type": "code",
      "source": [
        "def smallestDifference(arrayOne, arrayTwo):\n",
        "  arrayOne = sorted(arrayOne)\n",
        "  arrayTwo = sorted(arrayTwo)\n",
        "  \n",
        "  \n",
        "  return arrayOne, arrayTwo\n",
        "  \n",
        "arrayOne = [-1,5,10,20,3]\n",
        "arrayTwo = [26, 134, 135, 15, 17]\n",
        "result1, result2 = smallestDifference(arrayOne, arrayTwo)\n",
        "\n",
        "print(result1)\n",
        "print(result2)\n",
        "  "
      ],
      "execution_count": 1,
      "outputs": [
        {
          "output_type": "stream",
          "text": [
            "[-1, 3, 5, 10, 20]\n",
            "[15, 17, 26, 134, 135]\n"
          ],
          "name": "stdout"
        }
      ]
    },
    {
      "metadata": {
        "id": "5gjqKBM9qO26",
        "colab_type": "code",
        "colab": {}
      },
      "cell_type": "code",
      "source": [
        ""
      ],
      "execution_count": 0,
      "outputs": []
    }
  ]
}