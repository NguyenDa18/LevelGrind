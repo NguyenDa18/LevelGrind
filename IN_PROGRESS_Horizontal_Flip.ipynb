{
  "nbformat": 4,
  "nbformat_minor": 0,
  "metadata": {
    "colab": {
      "name": "IN PROGRESS Horizontal Flip.ipynb",
      "version": "0.3.2",
      "provenance": [],
      "include_colab_link": true
    },
    "kernelspec": {
      "name": "python3",
      "display_name": "Python 3"
    }
  },
  "cells": [
    {
      "cell_type": "markdown",
      "metadata": {
        "id": "view-in-github",
        "colab_type": "text"
      },
      "source": [
        "<a href=\"https://colab.research.google.com/github/NguyenDa18/LevelGrind/blob/master/IN_PROGRESS_Horizontal_Flip.ipynb\" target=\"_parent\"><img src=\"https://colab.research.google.com/assets/colab-badge.svg\" alt=\"Open In Colab\"/></a>"
      ]
    },
    {
      "cell_type": "code",
      "metadata": {
        "id": "73YyEwLZT69P",
        "colab_type": "code",
        "colab": {}
      },
      "source": [
        "# Horizont"
      ],
      "execution_count": 0,
      "outputs": []
    },
    {
      "cell_type": "markdown",
      "metadata": {
        "id": "XdUw2wn5T9fS",
        "colab_type": "text"
      },
      "source": [
        "# Horizontal Flip : Firecode.io\n",
        "You are given an m X n 2D image matrix (list of lists) where each integer represents a pixel. Flip it in-place along its horizontal axis\n",
        "```\n",
        "1,1\n",
        "0,0\n",
        "=>\n",
        "0,0\n",
        "1,1\n",
        "```"
      ]
    },
    {
      "cell_type": "code",
      "metadata": {
        "id": "OvuToRhDUU7O",
        "colab_type": "code",
        "colab": {}
      },
      "source": [
        "def flip_horizontal_axis(matrix):\n",
        "  row = len(matrix) - 1\n",
        "  col = len(matrix[0]) - 1\n",
        "  i = 0\n",
        "  while i <= row / 2:\n",
        "    j = 0\n",
        "    while j <= col:\n",
        "      matrix[i][j], matrix[row - 1][j] = matrix[row - 1][j], matrix[i][j]\n",
        "      j += 1\n",
        "    i += 1"
      ],
      "execution_count": 0,
      "outputs": []
    }
  ]
}