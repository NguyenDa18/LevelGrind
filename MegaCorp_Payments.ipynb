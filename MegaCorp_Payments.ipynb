{
  "nbformat": 4,
  "nbformat_minor": 0,
  "metadata": {
    "colab": {
      "name": "MegaCorp Payments.ipynb",
      "version": "0.3.2",
      "provenance": [],
      "include_colab_link": true
    },
    "kernelspec": {
      "name": "python3",
      "display_name": "Python 3"
    }
  },
  "cells": [
    {
      "cell_type": "markdown",
      "metadata": {
        "id": "view-in-github",
        "colab_type": "text"
      },
      "source": [
        "<a href=\"https://colab.research.google.com/github/NguyenDa18/LevelGrind/blob/master/MegaCorp_Payments.ipynb\" target=\"_parent\"><img src=\"https://colab.research.google.com/assets/colab-badge.svg\" alt=\"Open In Colab\"/></a>"
      ]
    },
    {
      "cell_type": "markdown",
      "metadata": {
        "id": "qWAit5dtABa8",
        "colab_type": "text"
      },
      "source": [
        "# MegaCorp Payments : Daily Coding Problem\n",
        "This problem was asked by Atlassian.\n",
        "\n",
        "MegaCorp wants to give bonuses to its employees based on how many lines of codes they have written. They would like to give the smallest positive amount to each worker consistent with the constraint that if a developer has written more lines of code than their neighbor, they should receive more money.\n",
        "\n",
        "Given an array representing a line of seats of employees at MegaCorp, determine how much each one should get paid.\n",
        "\n",
        "For example, given [10, 40, 200, 1000, 60, 30], you should return [1, 2, 3, 4, 2, 1]."
      ]
    },
    {
      "cell_type": "code",
      "metadata": {
        "id": "WHAObLj0_4Yh",
        "colab_type": "code",
        "colab": {}
      },
      "source": [
        "def megacorp_payments(seats):\n",
        "  payments = []\n",
        "  for i, seat in enumerate(seats):\n",
        "    if seat > 0:\n",
        "      if seat <= 30:\n",
        "        payments.append(1)\n",
        "      elif seat <= 60 and seat > 30:\n",
        "        payments.append(2)\n",
        "      elif seat <= 500 and seat > 60:\n",
        "        payments.append(3)\n",
        "      else:\n",
        "        payments.append(4)\n",
        "  return payments"
      ],
      "execution_count": 0,
      "outputs": []
    },
    {
      "cell_type": "code",
      "metadata": {
        "id": "C1XOD1hrAe32",
        "colab_type": "code",
        "colab": {
          "base_uri": "https://localhost:8080/",
          "height": 34
        },
        "outputId": "1cac8640-c903-4c3b-a4f1-e308d29199dd"
      },
      "source": [
        "seats = [10, 40, 200, 1000, 60, 30]\n",
        "\n",
        "result = megacorp_payments(seats)\n",
        "print(result)"
      ],
      "execution_count": 2,
      "outputs": [
        {
          "output_type": "stream",
          "text": [
            "[1, 2, 3, 4, 2, 1]\n"
          ],
          "name": "stdout"
        }
      ]
    }
  ]
}