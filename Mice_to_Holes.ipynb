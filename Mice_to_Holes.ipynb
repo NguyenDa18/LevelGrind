{
  "nbformat": 4,
  "nbformat_minor": 0,
  "metadata": {
    "colab": {
      "name": "Mice to Holes.ipynb",
      "version": "0.3.2",
      "provenance": [],
      "include_colab_link": true
    },
    "kernelspec": {
      "name": "python3",
      "display_name": "Python 3"
    }
  },
  "cells": [
    {
      "cell_type": "markdown",
      "metadata": {
        "id": "view-in-github",
        "colab_type": "text"
      },
      "source": [
        "<a href=\"https://colab.research.google.com/github/NguyenDa18/LevelGrind/blob/master/Mice_to_Holes.ipynb\" target=\"_parent\"><img src=\"https://colab.research.google.com/assets/colab-badge.svg\" alt=\"Open In Colab\"/></a>"
      ]
    },
    {
      "cell_type": "markdown",
      "metadata": {
        "id": "d69uaOFBoYfT",
        "colab_type": "text"
      },
      "source": [
        "# Mice to Holes : Daily Coding Problem #324\n",
        "\n",
        "This problem was asked by Amazon.\n",
        "\n",
        "Consider the following scenario: there are N mice and N holes placed at integer points along a line. Given this, find a method that maps mice to holes such that the largest number of steps any mouse takes is minimized.\n",
        "\n",
        "Each move consists of moving one mouse one unit to the left or right, and only one mouse can fit inside each hole.\n",
        "\n",
        "For example, suppose the mice are positioned at [1, 4, 9, 15], and the holes are located at [10, -5, 0, 16]. In this case, the best pairing would require us to send the mouse at 1 to the hole at -5, so our function should return 6."
      ]
    },
    {
      "cell_type": "markdown",
      "metadata": {
        "id": "blSJ8XKMtq3I",
        "colab_type": "text"
      },
      "source": [
        "## Hint\n",
        "This problem can be solved using greedy strategy. We can put every mouse to its nearest hole to minimize the time. This can be done by sorting the positions of mice and holes. This allows us to put the ith mice to the corresponding hole in the holes list. We can then find the maximum difference between the mice and corresponding hole position.\n",
        "In example 2, on sorting both the lists, we find that the mouse at position -79 is the last to travel to hole 23 taking time 102.\n",
        "\n",
        "- sort mice positions (in any order)\n",
        "- sort hole positions \n",
        "```\n",
        "Loop i = 1 to N:\n",
        "    update ans according to the value \n",
        "    of |mice(i) - hole(i)|. It should\n",
        "    be maximum of all differences.\n",
        "```"
      ]
    },
    {
      "cell_type": "code",
      "metadata": {
        "id": "ObN8rcaAoTXh",
        "colab_type": "code",
        "colab": {}
      },
      "source": [
        "def miceToHoles(mice, holes):\n",
        "  if (len(mice) == 0 or len(holes) == 0):\n",
        "    return 0\n",
        "  mice.sort()\n",
        "  holes.sort()\n",
        "  \n",
        "  distMax = 0\n",
        "  for i in range(len(mice)):\n",
        "    if distMax < abs(mice[i] - holes[i]):\n",
        "      distMax = abs(mice[i] - holes[i])\n",
        "      \n",
        "  return abs(distMax)\n",
        "    \n",
        "  \n",
        "  "
      ],
      "execution_count": 0,
      "outputs": []
    },
    {
      "cell_type": "code",
      "metadata": {
        "id": "kEBPf_pn1RFz",
        "colab_type": "code",
        "colab": {
          "base_uri": "https://localhost:8080/",
          "height": 34
        },
        "outputId": "071ed9d4-7d0d-46ec-d8af-888dddc2f8f0"
      },
      "source": [
        "mice = [1, 4, 9, 15]\n",
        "holes = [10, -5, 0, 16]\n",
        "result = miceToHoles(mice, holes)\n",
        "print(\"The last mouse gets into the hole in time: \" + str(result))"
      ],
      "execution_count": 28,
      "outputs": [
        {
          "output_type": "stream",
          "text": [
            "The last mouse gets into the hole in time: 6\n"
          ],
          "name": "stdout"
        }
      ]
    },
    {
      "cell_type": "code",
      "metadata": {
        "id": "k0N_P4TWwWtE",
        "colab_type": "code",
        "colab": {
          "base_uri": "https://localhost:8080/",
          "height": 34
        },
        "outputId": "ceff5cac-42ef-495f-ec44-31239ade66c4"
      },
      "source": [
        "mice = [4,-4,2]\n",
        "holes = [4,0,5]\n",
        "result = miceToHoles(mice, holes)\n",
        "print(\"The last mouse gets into the hole in time: \" + str(result))"
      ],
      "execution_count": 27,
      "outputs": [
        {
          "output_type": "stream",
          "text": [
            "The last mouse gets into the hole in time: 4\n"
          ],
          "name": "stdout"
        }
      ]
    }
  ]
}