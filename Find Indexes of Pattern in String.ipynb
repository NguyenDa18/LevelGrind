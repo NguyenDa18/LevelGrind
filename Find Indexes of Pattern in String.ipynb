{
 "cells": [
  {
   "cell_type": "markdown",
   "metadata": {},
   "source": [
    "# Find Indexes of Pattern In String\n",
    "This problem was asked by Microsoft.\n",
    "\n",
    "Given a string and a pattern, find the starting indices of all occurrences of the pattern in the string. For example, given the string \"abracadabra\" and the pattern \"abr\", you should return [0, 7]."
   ]
  },
  {
   "cell_type": "code",
   "execution_count": 23,
   "metadata": {
    "collapsed": false
   },
   "outputs": [
    {
     "name": "stdout",
     "output_type": "stream",
     "text": [
      "[0, 8]\n",
      "[0, 7]\n"
     ]
    }
   ],
   "source": [
    "def find_pattern_indices(sample_str, pattern):\n",
    "    occurrences = []\n",
    "    flag = False\n",
    "    for i in range(len(sample_str)):\n",
    "        if (sample_str[i:i+len(pattern)] == pattern):\n",
    "            occurrences.append(i)\n",
    "            flag = True\n",
    "    if flag is False:\n",
    "        return []\n",
    "    return occurrences\n",
    "\n",
    "    \n",
    "    \n",
    "print(find_pattern_indices(\"GeeksForGeeks\", \"Geeks\"))\n",
    "print(find_pattern_indices(\"abracadabra\", \"abr\"))\n",
    "print(find_pattern_indices(\"aghsPetesdasPeteagdshhPetersdasndnPetehsdjsa\", \"Pete\"))"
   ]
  },
  {
   "cell_type": "code",
   "execution_count": null,
   "metadata": {
    "collapsed": true
   },
   "outputs": [],
   "source": []
  }
 ],
 "metadata": {
  "anaconda-cloud": {},
  "kernelspec": {
   "display_name": "Python 3",
   "language": "python",
   "name": "python3"
  },
  "language_info": {
   "codemirror_mode": {
    "name": "ipython",
    "version": 3
   },
   "file_extension": ".py",
   "mimetype": "text/x-python",
   "name": "python",
   "nbconvert_exporter": "python",
   "pygments_lexer": "ipython3",
   "version": "3.5.2"
  }
 },
 "nbformat": 4,
 "nbformat_minor": 1
}
