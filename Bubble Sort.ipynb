{
  "nbformat": 4,
  "nbformat_minor": 0,
  "metadata": {
    "colab": {
      "name": "Bubble Sort.ipynb",
      "version": "0.3.2",
      "provenance": [],
      "include_colab_link": true
    },
    "language_info": {
      "codemirror_mode": {
        "name": "ipython",
        "version": 3
      },
      "file_extension": ".py",
      "mimetype": "text/x-python",
      "name": "python",
      "nbconvert_exporter": "python",
      "pygments_lexer": "ipython3",
      "version": "3.5.2"
    },
    "kernelspec": {
      "display_name": "Python 3",
      "language": "python",
      "name": "python3"
    }
  },
  "cells": [
    {
      "cell_type": "markdown",
      "metadata": {
        "id": "view-in-github",
        "colab_type": "text"
      },
      "source": [
        "<a href=\"https://colab.research.google.com/github/NguyenDa18/LevelGrind/blob/master/Bubble%20Sort.ipynb\" target=\"_parent\"><img src=\"https://colab.research.google.com/assets/colab-badge.svg\" alt=\"Open In Colab\"/></a>"
      ]
    },
    {
      "cell_type": "markdown",
      "metadata": {
        "id": "bGgTFlgTq3Kc",
        "colab_type": "text"
      },
      "source": [
        "# Bubble Sort : AlgoExpert\n",
        "Write a function that takes in an array of integers and returns a sorted version of that array using Bubble Sort"
      ]
    },
    {
      "cell_type": "code",
      "metadata": {
        "id": "NuGs1Ysrq3Ke",
        "colab_type": "code",
        "colab": {}
      },
      "source": [
        "# Best: O(n) time | O(1) space\n",
        "# Average: O(n^2) time | O(1) space\n",
        "# Worst: O(n^2) time | O(1) space\n",
        "def bubbleSort(array):\n",
        "    isSorted = False\n",
        "    counter = 0\n",
        "    while not isSorted:\n",
        "        isSorted = True\n",
        "        for i in range(len(array) - 1 - counter):\n",
        "            if(array[i] > array[i + 1]):\n",
        "                array[i], array[i + 1] = array[i + 1], array[i]\n",
        "                isSorted = False\n",
        "        counter += 1\n",
        "    return array"
      ],
      "execution_count": 0,
      "outputs": []
    },
    {
      "cell_type": "code",
      "metadata": {
        "id": "V_zTcXZKq3Kg",
        "colab_type": "code",
        "colab": {
          "base_uri": "https://localhost:8080/",
          "height": 51
        },
        "outputId": "9bdabd8b-d1a5-4d8e-b395-c1a479c28f85"
      },
      "source": [
        "arr = [8,5,2,9,5,6,3]\n",
        "result = bubbleSort(arr)\n",
        "print(\"Sorted array: \")\n",
        "print(result)"
      ],
      "execution_count": 8,
      "outputs": [
        {
          "output_type": "stream",
          "text": [
            "Sorted array: \n",
            "[2, 3, 5, 5, 6, 8, 9]\n"
          ],
          "name": "stdout"
        }
      ]
    }
  ]
}