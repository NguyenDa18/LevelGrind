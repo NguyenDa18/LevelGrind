{
  "nbformat": 4,
  "nbformat_minor": 0,
  "metadata": {
    "colab": {
      "name": "Number of Ways to Make Change.ipynb",
      "version": "0.3.2",
      "provenance": [],
      "include_colab_link": true
    },
    "kernelspec": {
      "name": "python3",
      "display_name": "Python 3"
    }
  },
  "cells": [
    {
      "cell_type": "markdown",
      "metadata": {
        "id": "view-in-github",
        "colab_type": "text"
      },
      "source": [
        "<a href=\"https://colab.research.google.com/github/NguyenDa18/LevelGrind/blob/master/Number_of_Ways_to_Make_Change.ipynb\" target=\"_parent\"><img src=\"https://colab.research.google.com/assets/colab-badge.svg\" alt=\"Open In Colab\"/></a>"
      ]
    },
    {
      "metadata": {
        "id": "DEOaT0p2iuPJ",
        "colab_type": "code",
        "colab": {}
      },
      "cell_type": "code",
      "source": [
        ""
      ],
      "execution_count": 0,
      "outputs": []
    },
    {
      "metadata": {
        "id": "DkufpJ-ji2NU",
        "colab_type": "text"
      },
      "cell_type": "markdown",
      "source": [
        "# Number of Ways to Make Change\n",
        "\n",
        "Given array of positive integers representing coin denominations and single non-negative target amount of money, implement function that returns number of ways to make change for the target amount using the given coin denominations. An unlimited amount of coins are at your disposal."
      ]
    },
    {
      "metadata": {
        "id": "uNWleZ4SjL1W",
        "colab_type": "text"
      },
      "cell_type": "markdown",
      "source": [
        "## Thinking Process\n",
        "\n",
        "```\n",
        "# Pseudocode for formula\n",
        "if denom <= amount:\n",
        "  ways[amount] += ways[amount - denom]\n",
        "```\n",
        "\n",
        "## Big O\n",
        "- Space: O(N)\n",
        "- Time: O(Nd) , d is number of denominations"
      ]
    },
    {
      "metadata": {
        "id": "bmoJQh7Pj_a0",
        "colab_type": "code",
        "colab": {}
      },
      "cell_type": "code",
      "source": [
        "# O(nd) time | O(n) space \n",
        "def numberOfWaysToMakeChange(n, denoms):\n",
        "  # initialize array of each value up to our target amount\n",
        "  ways = [0 for amount in range(n + 1)]\n",
        "  ways[0] = 1\n",
        "  \n",
        "  for denom in denoms:\n",
        "    for amount in range(1, n + 1):\n",
        "      if denom <= amount:\n",
        "        ways[amount] += ways[amount - denom]\n",
        "        \n",
        "  return ways[n]"
      ],
      "execution_count": 0,
      "outputs": []
    },
    {
      "metadata": {
        "id": "aLU37G3ekVfi",
        "colab_type": "code",
        "colab": {
          "base_uri": "https://localhost:8080/",
          "height": 34
        },
        "outputId": "ed45781e-477c-4907-8359-9a4f69a13a20"
      },
      "cell_type": "code",
      "source": [
        "denoms = [1, 5, 10, 25]\n",
        "target = 12\n",
        "result = numberOfWaysToMakeChange(target, denoms)\n",
        "print(str(result) + \" ways to make \" + str(target) + \" in change\" )"
      ],
      "execution_count": 14,
      "outputs": [
        {
          "output_type": "stream",
          "text": [
            "4 ways to make 12 in change\n"
          ],
          "name": "stdout"
        }
      ]
    },
    {
      "metadata": {
        "id": "B0_qnfHVleQK",
        "colab_type": "code",
        "colab": {
          "base_uri": "https://localhost:8080/",
          "height": 34
        },
        "outputId": "0adaf0de-e61e-4461-9935-e53542e00f1b"
      },
      "cell_type": "code",
      "source": [
        "denoms = [2, 3, 4, 7]\n",
        "target = 7\n",
        "result = numberOfWaysToMakeChange(target, denoms)\n",
        "print(str(result) + \" ways to make \" + str(target) + \" in change\" )"
      ],
      "execution_count": 15,
      "outputs": [
        {
          "output_type": "stream",
          "text": [
            "3 ways to make 7 in change\n"
          ],
          "name": "stdout"
        }
      ]
    },
    {
      "metadata": {
        "id": "ZbgZLjXymImn",
        "colab_type": "code",
        "colab": {}
      },
      "cell_type": "code",
      "source": [
        ""
      ],
      "execution_count": 0,
      "outputs": []
    }
  ]
}