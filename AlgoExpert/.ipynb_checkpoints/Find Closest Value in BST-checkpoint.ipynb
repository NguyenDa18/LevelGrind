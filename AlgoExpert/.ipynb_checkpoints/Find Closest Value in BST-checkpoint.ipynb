{
 "cells": [
  {
   "cell_type": "markdown",
   "metadata": {},
   "source": [
    "# Find Closest Value in BST\n",
    "You are given a BST consisting of BST nodes. Each BST has an integer value stored in a property called \"value\" and two children nodes stored as \"left\" and \"right\". A node is said to be a BST node iff it satisfied the BST property: its value is strictly greater than the values of every node to its left; its value is less than or equal to the value sof every node to its right; and both of its children nodes are either BST nodes themselves or None (null) values.\n",
    "You are also given a target integer value.\n",
    "Write a function that finds the closest value to that target value contained in the BST. Assume there will only be one closest value.\n",
    "\n",
    "```\n",
    "Sample tree: insert 12\n",
    "    10\n",
    "   /  \\\n",
    "   5  15\n",
    "  /   / \\\n",
    " 2   13 22\n",
    "/     \\\n",
    "1     14\n",
    "\n",
    "Closest value: 13\n",
    "```\n"
   ]
  },
  {
   "cell_type": "code",
   "execution_count": 10,
   "metadata": {},
   "outputs": [],
   "source": [
    "# Tree Class\n",
    "\n",
    "class BST:\n",
    "    def __init__(self, value):\n",
    "        self.value = value\n",
    "        self.left = None\n",
    "        self.right = None\n",
    "        \n",
    "    def insert(self, value):\n",
    "        if value < self.value:\n",
    "            if self.left is None:\n",
    "                self.left = BST(value)\n",
    "            else:\n",
    "                self.left.insert(value)\n",
    "        else:\n",
    "            if self.right is None:\n",
    "                self.right = BST(value)\n",
    "            else:\n",
    "                self.right.insert(value)\n",
    "        return self"
   ]
  },
  {
   "cell_type": "code",
   "execution_count": 42,
   "metadata": {},
   "outputs": [
    {
     "name": "stdout",
     "output_type": "stream",
     "text": [
      "\n",
      "        __15____\n",
      "       /        \\\n",
      "      5        _100\n",
      "     / \\      /\n",
      "    2   6    22\n",
      "   /\n",
      "  1\n",
      " /\n",
      "0\n",
      "\n",
      "Is BST: True\n"
     ]
    }
   ],
   "source": [
    "from binarytree import bst, Node\n",
    "\n",
    "# init tree\n",
    "test_tree = Node(15)\n",
    "test_tree.left = Node(5)\n",
    "test_tree.right = Node(100)\n",
    "test_tree.left.right = Node(6)\n",
    "test_tree.left.left = Node(2)\n",
    "test_tree.left.left.left = Node(1)\n",
    "test_tree.right.left = Node(22)\n",
    "test_tree.left.left.left.left = Node(0)\n",
    "\n",
    "print(test_tree)\n",
    "print(\"Is BST: \" + str(example_tree.is_bst))"
   ]
  },
  {
   "cell_type": "code",
   "execution_count": 40,
   "metadata": {},
   "outputs": [
    {
     "name": "stdout",
     "output_type": "stream",
     "text": [
      "\n",
      "    __10______\n",
      "   /          \\\n",
      "  5        ____15\n",
      " / \\      /      \\\n",
      "2   6    13       22\n",
      "           \\\n",
      "            14\n",
      "\n",
      "Is BST: True\n"
     ]
    }
   ],
   "source": [
    "example_tree = Node(10)\n",
    "example_tree.left = Node(5)\n",
    "example_tree.right = Node(15)\n",
    "example_tree.left.left = Node(2)\n",
    "example_tree.left.right = Node(6)\n",
    "example_tree.right.left = Node(13)\n",
    "example_tree.right.right = Node(22)\n",
    "example_tree.right.left.right = Node(14)\n",
    "\n",
    "print(example_tree)\n",
    "print(\"Is BST: \" + str(example_tree.is_bst))"
   ]
  },
  {
   "cell_type": "markdown",
   "metadata": {},
   "source": [
    "### Eval:\n",
    "- Average: O(logn) time | O(1) space\n",
    "- Worst: O(n) time | O(1) space"
   ]
  },
  {
   "cell_type": "code",
   "execution_count": 43,
   "metadata": {},
   "outputs": [],
   "source": [
    "def findClosestValueInBSTHelper(treeNode, target, closest):\n",
    "    currentNode = treeNode\n",
    "    while currentNode is not None:\n",
    "        if abs(target - closest) > abs(target - currentNode.value):\n",
    "            closest = currentNode.value\n",
    "        if target < currentNode.value:\n",
    "            currentNode = currentNode.left\n",
    "        elif target > currentNode.value:\n",
    "            currentNode = currentNode.right\n",
    "        else:\n",
    "            break\n",
    "    return closest"
   ]
  },
  {
   "cell_type": "code",
   "execution_count": 44,
   "metadata": {},
   "outputs": [],
   "source": [
    "def findClosestValueInBST(tree, target):\n",
    "    return findClosestValueInBSTHelper(tree, target, float(\"inf\"))"
   ]
  },
  {
   "cell_type": "markdown",
   "metadata": {},
   "source": [
    "# Run Thru Examples"
   ]
  },
  {
   "cell_type": "code",
   "execution_count": 45,
   "metadata": {},
   "outputs": [
    {
     "name": "stdout",
     "output_type": "stream",
     "text": [
      "13\n"
     ]
    }
   ],
   "source": [
    "# RUN Examples\n",
    "result = findClosestValueInBST(example_tree, 12)\n",
    "print(result)"
   ]
  }
 ],
 "metadata": {
  "kernelspec": {
   "display_name": "Python 3",
   "language": "python",
   "name": "python3"
  },
  "language_info": {
   "codemirror_mode": {
    "name": "ipython",
    "version": 3
   },
   "file_extension": ".py",
   "mimetype": "text/x-python",
   "name": "python",
   "nbconvert_exporter": "python",
   "pygments_lexer": "ipython3",
   "version": "3.7.4"
  }
 },
 "nbformat": 4,
 "nbformat_minor": 2
}
