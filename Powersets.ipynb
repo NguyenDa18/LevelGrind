{
  "nbformat": 4,
  "nbformat_minor": 0,
  "metadata": {
    "colab": {
      "name": "Powersets.ipynb",
      "version": "0.3.2",
      "provenance": [],
      "include_colab_link": true
    },
    "kernelspec": {
      "name": "python3",
      "display_name": "Python 3"
    }
  },
  "cells": [
    {
      "cell_type": "markdown",
      "metadata": {
        "id": "view-in-github",
        "colab_type": "text"
      },
      "source": [
        "<a href=\"https://colab.research.google.com/github/NguyenDa18/LevelGrind/blob/master/Powersets.ipynb\" target=\"_parent\"><img src=\"https://colab.research.google.com/assets/colab-badge.svg\" alt=\"Open In Colab\"/></a>"
      ]
    },
    {
      "cell_type": "markdown",
      "metadata": {
        "id": "xFq5lANxQxpL",
        "colab_type": "text"
      },
      "source": [
        "# Powersets : AlgoExpert\n",
        "Write a function that takes in array of unique integers and returns its powerset. The powerset P(X) of a set X is the set of all subsets of X. Note that the sets in the powerset do not need to be in any particular order.\n",
        "- E.g. P([1,2,3]) = ([], [1], [2], [3], [1,2],[1,3],[2,3]],[1,2,3])"
      ]
    },
    {
      "cell_type": "code",
      "metadata": {
        "id": "XY6OXAzeSyKd",
        "colab_type": "code",
        "colab": {}
      },
      "source": [
        "def powerset(array):\n",
        "  subsets = [[]]\n",
        "  for el in array:\n",
        "    for i in range(len(subsets)):\n",
        "      currentSubset = subsets[i]\n",
        "      subsets.append(currentSubset + [el])\n",
        "  return subsets"
      ],
      "execution_count": 0,
      "outputs": []
    },
    {
      "cell_type": "code",
      "metadata": {
        "id": "KFtZl8T6WKgC",
        "colab_type": "code",
        "colab": {
          "base_uri": "https://localhost:8080/",
          "height": 34
        },
        "outputId": "a8bad767-b3b6-41c1-e6c7-957ecfa01a5b"
      },
      "source": [
        "test = [1,2,3]\n",
        "result = powerset(test)\n",
        "print(result)"
      ],
      "execution_count": 5,
      "outputs": [
        {
          "output_type": "stream",
          "text": [
            "[[], [1], [2], [1, 2], [3], [1, 3], [2, 3], [1, 2, 3]]\n"
          ],
          "name": "stdout"
        }
      ]
    },
    {
      "cell_type": "code",
      "metadata": {
        "id": "sOujKOM3XJxj",
        "colab_type": "code",
        "colab": {
          "base_uri": "https://localhost:8080/",
          "height": 34
        },
        "outputId": "b0df1c5b-d0ad-48a7-a96c-bcee004f8a0a"
      },
      "source": [
        "test = [2,3,4,5]\n",
        "result = powerset(test)\n",
        "print(result)"
      ],
      "execution_count": 6,
      "outputs": [
        {
          "output_type": "stream",
          "text": [
            "[[], [2], [3], [2, 3], [4], [2, 4], [3, 4], [2, 3, 4], [5], [2, 5], [3, 5], [2, 3, 5], [4, 5], [2, 4, 5], [3, 4, 5], [2, 3, 4, 5]]\n"
          ],
          "name": "stdout"
        }
      ]
    }
  ]
}