{
 "cells": [
  {
   "cell_type": "markdown",
   "metadata": {},
   "source": [
    "# Two Sum\n",
    "Given an array of integers, return indices of the two numbers such that they add up to a specific target.\n",
    "\n",
    "You may assume that each input would have exactly one solution, and you may not use the same element twice.\n",
    "\n",
    "```python\n",
    "two_sum([2, 7, 11, 15], 9) = [0, 1]\n",
    "\n",
    "# Because nums[0] + nums[1] = 2 + 7 = 9,\n",
    "# return [0, 1].\n",
    "```"
   ]
  },
  {
   "cell_type": "code",
   "execution_count": 16,
   "metadata": {
    "collapsed": true
   },
   "outputs": [],
   "source": [
    "class Solution:\n",
    "    def two_sum(self, nums, target):\n",
    "        complement_map = {}\n",
    "        for index, num in enumerate(nums):\n",
    "            complement = target - num\n",
    "            if complement in complement_map:\n",
    "                return complement_map[complement], index\n",
    "            else:\n",
    "                complement_map[num] = index\n",
    "                \n",
    "        return ()"
   ]
  },
  {
   "cell_type": "code",
   "execution_count": 19,
   "metadata": {
    "collapsed": false
   },
   "outputs": [
    {
     "name": "stdout",
     "output_type": "stream",
     "text": [
      "INDEXES THAT ADD UP TO 5\n",
      "(1, 2)\n"
     ]
    }
   ],
   "source": [
    "def main():\n",
    "    solution = Solution()\n",
    "    nums = [1,2,3,4]\n",
    "    target = 5\n",
    "    result = solution.two_sum(nums, target)\n",
    "    print(\"INDEXES THAT ADD UP TO \" + str(target))\n",
    "    print(result)\n",
    "    \n",
    "if __name__ == '__main__':\n",
    "    main()"
   ]
  }
 ],
 "metadata": {
  "anaconda-cloud": {},
  "kernelspec": {
   "display_name": "Python 3",
   "language": "python",
   "name": "python3"
  },
  "language_info": {
   "codemirror_mode": {
    "name": "ipython",
    "version": 3
   },
   "file_extension": ".py",
   "mimetype": "text/x-python",
   "name": "python",
   "nbconvert_exporter": "python",
   "pygments_lexer": "ipython3",
   "version": "3.5.2"
  }
 },
 "nbformat": 4,
 "nbformat_minor": 1
}
