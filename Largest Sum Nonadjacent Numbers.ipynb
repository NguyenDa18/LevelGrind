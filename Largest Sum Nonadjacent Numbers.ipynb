{
  "nbformat": 4,
  "nbformat_minor": 0,
  "metadata": {
    "colab": {
      "name": "Largest Sum Nonadjacent Numbers.ipynb",
      "version": "0.3.2",
      "provenance": [],
      "include_colab_link": true
    },
    "kernelspec": {
      "name": "python3",
      "display_name": "Python 3"
    }
  },
  "cells": [
    {
      "cell_type": "markdown",
      "metadata": {
        "id": "view-in-github",
        "colab_type": "text"
      },
      "source": [
        "<a href=\"https://colab.research.google.com/github/NguyenDa18/LevelGrind/blob/master/Largest%20Sum%20Nonadjacent%20Numbers.ipynb\" target=\"_parent\"><img src=\"https://colab.research.google.com/assets/colab-badge.svg\" alt=\"Open In Colab\"/></a>"
      ]
    },
    {
      "cell_type": "markdown",
      "metadata": {
        "id": "nu1W0W42UWdS",
        "colab_type": "text"
      },
      "source": [
        "# Largest Sum of Nonadjacent Numbers: Daily Coding Problem #9\n",
        "Good morning! Here's your coding interview problem for today.\n",
        "\n",
        "This problem was asked by Airbnb.\n",
        "\n",
        "Given a list of integers, write a function that returns the largest sum of non-adjacent numbers. Numbers can be 0 or negative.\n",
        "\n",
        "For example, [2, 4, 6, 2, 5] should return 13, since we pick 2, 6, and 5. [5, 1, 1, 5] should return 10, since we pick 5 and 5.\n",
        "\n",
        "Follow-up: Can you do this in O(N) time and constant space?"
      ]
    },
    {
      "cell_type": "code",
      "metadata": {
        "id": "PMSMXAMPUtR8",
        "colab_type": "code",
        "colab": {}
      },
      "source": [
        "def largest_nonadj_sum(arr):\n",
        "  previous, largest = 0, 0\n",
        "  for el in arr:\n",
        "    print(\"element: {}; previous: {}, largest: {}\".format(el, previous, largest))\n",
        "    previous, largest = largest, max(largest, previous + el)\n",
        "    print(\"new_previous: {}; new_largest: {}\".format(previous, largest))\n",
        "  return largest"
      ],
      "execution_count": 0,
      "outputs": []
    },
    {
      "cell_type": "code",
      "metadata": {
        "id": "YsZFMJVCfYC0",
        "colab_type": "code",
        "colab": {
          "base_uri": "https://localhost:8080/",
          "height": 204
        },
        "outputId": "7f85b129-450d-4d52-b133-43731805c081"
      },
      "source": [
        "arr = [2,4,6,2,5]\n",
        "result = largest_nonadj_sum(arr)\n",
        "print(result)"
      ],
      "execution_count": 4,
      "outputs": [
        {
          "output_type": "stream",
          "text": [
            "element: 2; previous: 0, largest: 0\n",
            "new_previous: 0; new_largest: 2\n",
            "element: 4; previous: 0, largest: 2\n",
            "new_previous: 2; new_largest: 4\n",
            "element: 6; previous: 2, largest: 4\n",
            "new_previous: 4; new_largest: 8\n",
            "element: 2; previous: 4, largest: 8\n",
            "new_previous: 8; new_largest: 8\n",
            "element: 5; previous: 8, largest: 8\n",
            "new_previous: 8; new_largest: 13\n",
            "13\n"
          ],
          "name": "stdout"
        }
      ]
    },
    {
      "cell_type": "code",
      "metadata": {
        "id": "KCkrqjtmfggc",
        "colab_type": "code",
        "colab": {
          "base_uri": "https://localhost:8080/",
          "height": 170
        },
        "outputId": "50696965-b76d-4e21-d15c-c5d46bd2e6eb"
      },
      "source": [
        "arr = [5,2,1,5]\n",
        "result = largest_nonadj_sum(arr)\n",
        "print(result)"
      ],
      "execution_count": 5,
      "outputs": [
        {
          "output_type": "stream",
          "text": [
            "element: 5; previous: 0, largest: 0\n",
            "new_previous: 0; new_largest: 5\n",
            "element: 2; previous: 0, largest: 5\n",
            "new_previous: 5; new_largest: 5\n",
            "element: 1; previous: 5, largest: 5\n",
            "new_previous: 5; new_largest: 6\n",
            "element: 5; previous: 5, largest: 6\n",
            "new_previous: 6; new_largest: 10\n",
            "10\n"
          ],
          "name": "stdout"
        }
      ]
    },
    {
      "cell_type": "code",
      "metadata": {
        "id": "6a57KEOYfyfr",
        "colab_type": "code",
        "colab": {}
      },
      "source": [
        ""
      ],
      "execution_count": 0,
      "outputs": []
    }
  ]
}