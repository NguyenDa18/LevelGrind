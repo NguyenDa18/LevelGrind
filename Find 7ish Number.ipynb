{
 "cells": [
  {
   "cell_type": "markdown",
   "metadata": {},
   "source": [
    "# Find Nth 7ish Number\n",
    "This problem was asked by Zillow.\n",
    "\n",
    "Let's define a \"sevenish\" number to be one which is either a power of 7, or the sum of unique powers of 7.\n",
    "The first few sevenish numbers are 1, 7, 8, 49, and so on. Create an algorithm to find the nth sevenish number."
   ]
  },
  {
   "cell_type": "markdown",
   "metadata": {},
   "source": [
    "## Thinking process:\n",
    "- 7 ^ 0, 7 ^ 1, 7 + 1, 7 ^ 2, ...\n",
    "\n",
    "- 7 ^ n - 1, 7 ^ n - 1, ..."
   ]
  },
  {
   "cell_type": "code",
   "execution_count": null,
   "metadata": {
    "collapsed": true
   },
   "outputs": [],
   "source": [
    "def findNth7ish(n):\n",
    "    if n % 2 == 0:\n",
    "        return 7 ** (n - 2)\n",
    "    return n"
   ]
  }
 ],
 "metadata": {
  "anaconda-cloud": {},
  "kernelspec": {
   "display_name": "Python 3",
   "language": "python",
   "name": "python3"
  },
  "language_info": {
   "codemirror_mode": {
    "name": "ipython",
    "version": 3
   },
   "file_extension": ".py",
   "mimetype": "text/x-python",
   "name": "python",
   "nbconvert_exporter": "python",
   "pygments_lexer": "ipython3",
   "version": "3.5.2"
  }
 },
 "nbformat": 4,
 "nbformat_minor": 1
}
