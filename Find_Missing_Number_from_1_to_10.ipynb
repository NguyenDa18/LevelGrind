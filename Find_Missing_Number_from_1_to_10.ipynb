{
  "nbformat": 4,
  "nbformat_minor": 0,
  "metadata": {
    "colab": {
      "name": "Find Missing Number from 1 to 10.ipynb",
      "version": "0.3.2",
      "provenance": [],
      "include_colab_link": true
    },
    "kernelspec": {
      "name": "python3",
      "display_name": "Python 3"
    }
  },
  "cells": [
    {
      "cell_type": "markdown",
      "metadata": {
        "id": "view-in-github",
        "colab_type": "text"
      },
      "source": [
        "<a href=\"https://colab.research.google.com/github/NguyenDa18/LevelGrind/blob/master/Find_Missing_Number_from_1_to_10.ipynb\" target=\"_parent\"><img src=\"https://colab.research.google.com/assets/colab-badge.svg\" alt=\"Open In Colab\"/></a>"
      ]
    },
    {
      "cell_type": "markdown",
      "metadata": {
        "id": "A09UGX2JX2Z9",
        "colab_type": "text"
      },
      "source": [
        "# Find One Missing Number from 1 to 10 : Firecode.io\n",
        "Given list containing 9 numbers from 1 to 10 write a function to find the missing number. Assume you have 9 numbers between 1 to 10 and only one number is missing."
      ]
    },
    {
      "cell_type": "code",
      "metadata": {
        "id": "Nddn1Lj2YEa_",
        "colab_type": "code",
        "colab": {}
      },
      "source": [
        "def find_missing_number(list_numbers):\n",
        "  missing = 0\n",
        "  for num in range(1, 11):\n",
        "    if num not in list_numbers:\n",
        "      missing = num\n",
        "  return missing"
      ],
      "execution_count": 0,
      "outputs": []
    },
    {
      "cell_type": "code",
      "metadata": {
        "id": "52SyjXhLYSwl",
        "colab_type": "code",
        "colab": {
          "base_uri": "https://localhost:8080/",
          "height": 34
        },
        "outputId": "9db32152-3e36-4420-8159-7f82014d20f8"
      },
      "source": [
        "test = [1,2,4,5,6,7,8,9,10]\n",
        "result = find_missing_number(test)\n",
        "print(result)"
      ],
      "execution_count": 4,
      "outputs": [
        {
          "output_type": "stream",
          "text": [
            "3\n"
          ],
          "name": "stdout"
        }
      ]
    },
    {
      "cell_type": "code",
      "metadata": {
        "id": "q-W-4li_YcBv",
        "colab_type": "code",
        "colab": {}
      },
      "source": [
        "def find_missing_number1(list_numbers):\n",
        "  return sum(range(1,11)) - sum(list_numbers)"
      ],
      "execution_count": 0,
      "outputs": []
    },
    {
      "cell_type": "code",
      "metadata": {
        "id": "D-slw4mXYqL2",
        "colab_type": "code",
        "colab": {
          "base_uri": "https://localhost:8080/",
          "height": 34
        },
        "outputId": "91500369-c4ef-47b3-e448-0d73b8676d51"
      },
      "source": [
        "test = [1,2,4,5,6,7,8,9,10]\n",
        "result = find_missing_number1(test)\n",
        "print(result)"
      ],
      "execution_count": 8,
      "outputs": [
        {
          "output_type": "stream",
          "text": [
            "3\n"
          ],
          "name": "stdout"
        }
      ]
    }
  ]
}