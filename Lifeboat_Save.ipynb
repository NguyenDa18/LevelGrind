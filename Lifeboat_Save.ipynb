{
  "nbformat": 4,
  "nbformat_minor": 0,
  "metadata": {
    "colab": {
      "name": "Lifeboat Save.ipynb",
      "version": "0.3.2",
      "provenance": [],
      "include_colab_link": true
    },
    "kernelspec": {
      "name": "python3",
      "display_name": "Python 3"
    }
  },
  "cells": [
    {
      "cell_type": "markdown",
      "metadata": {
        "id": "view-in-github",
        "colab_type": "text"
      },
      "source": [
        "<a href=\"https://colab.research.google.com/github/NguyenDa18/LevelGrind/blob/master/Lifeboat_Save.ipynb\" target=\"_parent\"><img src=\"https://colab.research.google.com/assets/colab-badge.svg\" alt=\"Open In Colab\"/></a>"
      ]
    },
    {
      "cell_type": "markdown",
      "metadata": {
        "id": "wlTnMhE8xflT",
        "colab_type": "text"
      },
      "source": [
        "# Lifeboat : Daily Coding Problem #291\n",
        "\n",
        "Good morning! Here's your coding interview problem for today.\n",
        "\n",
        "This problem was asked by Glassdoor.\n",
        "\n",
        "An imminent hurricane threatens the coastal town of Codeville. If at most two people can fit in a rescue boat, and the maximum weight limit for a given boat is k, determine how many boats will be needed to save everyone.\n",
        "\n",
        "For example, given a population with weights [100, 200, 150, 80] and a boat limit of 200, the smallest number of boats required will be three."
      ]
    },
    {
      "cell_type": "code",
      "metadata": {
        "id": "1hy0oCl1xn8U",
        "colab_type": "code",
        "colab": {}
      },
      "source": [
        "BOAT_LIMIT = 200\n",
        "def lifeboat_save(weights, boats_used):\n",
        "  weights.sort()\n",
        "  if weights and len(weights) < 2:\n",
        "    return boats_used + len(weights)\n",
        "  \n",
        "  first = weights[0]\n",
        "  remaining = weights[1:]\n",
        "  if first == BOAT_LIMIT:\n",
        "    return lifeboat_save(remaining, boats_used + 1)\n",
        "  \n",
        "  allowed = BOAT_LIMIT - first\n",
        "  second_index = len(remaining) - 1\n",
        "  while allowed >= weights[second_index]:\n",
        "    second_index -= 1\n",
        "    \n",
        "  if second_index == len(remaining):\n",
        "    return lifeboat_save(remaining[:second_index] + remaining[second_index + 1:], boats_used + 1)\n",
        "  \n",
        "  \n",
        "  return lifeboat_save(remaining[:second_index] + remaining[second_index + 1:], boats_used + 1)\n",
        "\n",
        "  "
      ],
      "execution_count": 0,
      "outputs": []
    },
    {
      "cell_type": "code",
      "metadata": {
        "id": "Hq6MhrVTyZJZ",
        "colab_type": "code",
        "colab": {
          "base_uri": "https://localhost:8080/",
          "height": 51
        },
        "outputId": "841318a2-2ea2-4b5e-b84a-0dff7a8a27ae"
      },
      "source": [
        "weights = [100, 200, 150, 80]\n",
        "print(\"Boat trips needed:\")\n",
        "lifeboat_save(weights, 0)"
      ],
      "execution_count": 3,
      "outputs": [
        {
          "output_type": "stream",
          "text": [
            "Boat trips needed:\n"
          ],
          "name": "stdout"
        },
        {
          "output_type": "execute_result",
          "data": {
            "text/plain": [
              "3"
            ]
          },
          "metadata": {
            "tags": []
          },
          "execution_count": 3
        }
      ]
    }
  ]
}