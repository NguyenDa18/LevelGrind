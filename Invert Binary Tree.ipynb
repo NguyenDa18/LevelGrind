{
 "cells": [
  {
   "cell_type": "code",
   "execution_count": null,
   "metadata": {
    "collapsed": true
   },
   "outputs": [],
   "source": [
    "# O(n) time | O(n) space\n",
    "def invertBinaryTree(tree):\n",
    "    queue = [tree]\n",
    "    while len(queue):\n",
    "        current = queue.pop(0)\n",
    "        if current is None:\n",
    "            continue\n",
    "        swapLeftAndRight(current)\n",
    "        \n",
    "def swapLeftAndRight(tree):\n",
    "    tree.left, tree.right = tree.right, tree.left"
   ]
  }
 ],
 "metadata": {
  "kernelspec": {
   "display_name": "Python 3",
   "language": "python",
   "name": "python3"
  },
  "language_info": {
   "codemirror_mode": {
    "name": "ipython",
    "version": 3
   },
   "file_extension": ".py",
   "mimetype": "text/x-python",
   "name": "python",
   "nbconvert_exporter": "python",
   "pygments_lexer": "ipython3",
   "version": "3.5.2"
  }
 },
 "nbformat": 4,
 "nbformat_minor": 1
}
