{
 "cells": [
  {
   "cell_type": "code",
   "execution_count": 1,
   "metadata": {
    "collapsed": true
   },
   "outputs": [],
   "source": [
    "class BinaryTree:\n",
    "    def __init__(self, value):\n",
    "        self.value = value\n",
    "        self.left = None\n",
    "        self.right = None\n",
    "        \n",
    "        def __eq__(self, other):\n",
    "            return isInstance(other, type(self)) and self.__dict__ == other.__dict__\n",
    "        \n",
    "        def insert(self, values, i = 0):\n",
    "            if i >= len(values):\n",
    "                return\n",
    "            queue = [self]\n",
    "            while len(queue) > 0:\n",
    "                current = queue.pop(0)\n",
    "                \n",
    "        def invertedInsert(self, values, i = 0):\n",
    "            if i >= len(values):\n",
    "                return\n",
    "            queue = [self]\n",
    "            "
   ]
  },
  {
   "cell_type": "code",
   "execution_count": 3,
   "metadata": {
    "collapsed": true
   },
   "outputs": [],
   "source": [
    "# O(n) time | O(n) space\n",
    "def invertBinaryTree(tree):\n",
    "    queue = [tree]\n",
    "    while len(queue):\n",
    "        current = queue.pop(0)\n",
    "        if current is None:\n",
    "            continue\n",
    "        swapLeftAndRight(current)\n",
    "        queue.append(current.left)\n",
    "        queue.append(current.right)\n",
    "        \n",
    "def swapLeftAndRight(tree):\n",
    "    tree.left, tree.right = tree.right, tree.left"
   ]
  },
  {
   "cell_type": "code",
   "execution_count": null,
   "metadata": {
    "collapsed": true
   },
   "outputs": [],
   "source": []
  }
 ],
 "metadata": {
  "anaconda-cloud": {},
  "kernelspec": {
   "display_name": "Python 3",
   "language": "python",
   "name": "python3"
  },
  "language_info": {
   "codemirror_mode": {
    "name": "ipython",
    "version": 3
   },
   "file_extension": ".py",
   "mimetype": "text/x-python",
   "name": "python",
   "nbconvert_exporter": "python",
   "pygments_lexer": "ipython3",
   "version": "3.5.2"
  }
 },
 "nbformat": 4,
 "nbformat_minor": 1
}
