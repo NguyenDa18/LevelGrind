{
 "cells": [
  {
   "cell_type": "markdown",
   "metadata": {},
   "source": [
    "# Max Profit from Buying Stock"
   ]
  },
  {
   "cell_type": "code",
   "execution_count": 1,
   "metadata": {},
   "outputs": [],
   "source": [
    "def stock_buying(stocks):\n",
    "    maxProfit = 0\n",
    "    left, right = 0, len(stocks)\n",
    "    while right < len(stocks):\n",
    "        # profit!\n",
    "        if (stocks[left] < stocks[right]):\n",
    "            profit = stocks[right] - stocks[left]\n",
    "            maxProfit = max(maxProfit, profit)\n",
    "        else:\n",
    "            left = right\n",
    "        right += 1\n",
    "    return maxProfit\n",
    "    "
   ]
  },
  {
   "cell_type": "code",
   "execution_count": null,
   "metadata": {},
   "outputs": [],
   "source": []
  }
 ],
 "metadata": {
  "kernelspec": {
   "display_name": "Python 3",
   "language": "python",
   "name": "python3"
  },
  "language_info": {
   "codemirror_mode": {
    "name": "ipython",
    "version": 3
   },
   "file_extension": ".py",
   "mimetype": "text/x-python",
   "name": "python",
   "nbconvert_exporter": "python",
   "pygments_lexer": "ipython3",
   "version": "3.8.5"
  }
 },
 "nbformat": 4,
 "nbformat_minor": 4
}
