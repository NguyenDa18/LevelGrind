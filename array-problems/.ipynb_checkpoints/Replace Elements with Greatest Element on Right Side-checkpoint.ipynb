{
 "cells": [
  {
   "cell_type": "markdown",
   "metadata": {},
   "source": [
    "# Replace Elements with Greatest Element on Right Side : LeetCode 1299\n",
    "Given an array arr, replace every element in that array with the greatest element among the elements to its right, and replace the last element with -1.\n",
    "\n",
    "After doing so, return the array."
   ]
  },
  {
   "cell_type": "code",
   "execution_count": 1,
   "metadata": {},
   "outputs": [],
   "source": [
    "# source: https://www.youtube.com/watch?v=ZHjKhUjcsaU&ab_channel=NeetCode"
   ]
  },
  {
   "cell_type": "code",
   "execution_count": 2,
   "metadata": {},
   "outputs": [],
   "source": [
    "class Solution:\n",
    "    def replace_elements_with_greatest_on_right(self, nums):\n",
    "        rightMax = -1\n",
    "        \n",
    "        for i in range(len(nums) - 1, -1, -1):\n",
    "            newMax = max(rightMax, nums[i])\n",
    "            nums[i] = rightMax\n",
    "            rightMax = newMax\n",
    "        return nums"
   ]
  },
  {
   "cell_type": "code",
   "execution_count": 3,
   "metadata": {},
   "outputs": [
    {
     "data": {
      "text/plain": [
       "[18, 6, 6, 6, 1, -1]"
      ]
     },
     "execution_count": 3,
     "metadata": {},
     "output_type": "execute_result"
    }
   ],
   "source": [
    "test1 = [17, 18, 5, 4, 6, 1]\n",
    "solution = Solution()\n",
    "result = solution.replace_elements_with_greatest_on_right(test1)\n",
    "result"
   ]
  }
 ],
 "metadata": {
  "kernelspec": {
   "display_name": "Python 3",
   "language": "python",
   "name": "python3"
  },
  "language_info": {
   "codemirror_mode": {
    "name": "ipython",
    "version": 3
   },
   "file_extension": ".py",
   "mimetype": "text/x-python",
   "name": "python",
   "nbconvert_exporter": "python",
   "pygments_lexer": "ipython3",
   "version": "3.8.5"
  }
 },
 "nbformat": 4,
 "nbformat_minor": 4
}
