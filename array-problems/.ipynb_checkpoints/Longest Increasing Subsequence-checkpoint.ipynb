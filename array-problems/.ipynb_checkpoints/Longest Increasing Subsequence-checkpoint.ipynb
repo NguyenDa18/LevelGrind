{
 "cells": [
  {
   "cell_type": "markdown",
   "metadata": {},
   "source": [
    "# Longest Increasing Subsequence\n",
    "Given a non-empty array of integers, write a function that returns the longest strictly-increasing subsequence of the array.\n",
    "\n",
    "A subsequence is defined as a set of numbers that are not necessarily adjacent but that are in the same order as they appear in the array.\n",
    "\n",
    "Assume that there will only be one longest increasing subsequence.\n",
    "\n",
    "Sample input:\n",
    "```python\n",
    "[5,7,-24,12,10,2,3,12,5,6,35]\n",
    "```\n",
    "\n",
    "Sample output:\n",
    "```python\n",
    "[-24,2,3,5,6,35]\n",
    "```"
   ]
  },
  {
   "cell_type": "code",
   "execution_count": 2,
   "metadata": {},
   "outputs": [],
   "source": [
    "# calc length of longest increasing subsequence\n",
    "class Solution:\n",
    "    def lengthOfLIS(self, nums) -> int:\n",
    "        LIS = [1] * len(nums)\n",
    "        for i in range(len(nums) - 1, -1, -1):\n",
    "            for j in range(i + 1, len(nums)):\n",
    "                if nums[i] < nums[j]:\n",
    "                    LIS[i] = max(LIS[i] , 1 + LIS[j])\n",
    "        return max(LIS)"
   ]
  },
  {
   "cell_type": "code",
   "execution_count": 3,
   "metadata": {},
   "outputs": [
    {
     "data": {
      "text/plain": [
       "6"
      ]
     },
     "execution_count": 3,
     "metadata": {},
     "output_type": "execute_result"
    }
   ],
   "source": [
    "# Test example\n",
    "test1 = [5,7,-24,12,10,2,3,12,5,6,35]\n",
    "solution = Solution()\n",
    "result = solution.lengthOfLIS(test1)\n",
    "result"
   ]
  },
  {
   "cell_type": "code",
   "execution_count": null,
   "metadata": {},
   "outputs": [],
   "source": []
  }
 ],
 "metadata": {
  "kernelspec": {
   "display_name": "Python 3",
   "language": "python",
   "name": "python3"
  },
  "language_info": {
   "codemirror_mode": {
    "name": "ipython",
    "version": 3
   },
   "file_extension": ".py",
   "mimetype": "text/x-python",
   "name": "python",
   "nbconvert_exporter": "python",
   "pygments_lexer": "ipython3",
   "version": "3.8.5"
  }
 },
 "nbformat": 4,
 "nbformat_minor": 4
}
