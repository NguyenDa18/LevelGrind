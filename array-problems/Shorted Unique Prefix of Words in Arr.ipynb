{
 "cells": [
  {
   "cell_type": "markdown",
   "metadata": {},
   "source": [
    "# Shortest Unique Prefix of Words in Array : Daily Coding Problem #811\n",
    "Good morning! Here's your coding interview problem for today.\n",
    "\n",
    "This problem was asked by Square.\n",
    "\n",
    "Given a list of words, return the shortest unique prefix of each word. For example, given the list:\n",
    "\n",
    "- dog\n",
    "- cat\n",
    "- apple\n",
    "- apricot\n",
    "- fish\n",
    "Return the list:\n",
    "\n",
    "- d\n",
    "- c\n",
    "- app\n",
    "- apr\n",
    "- f"
   ]
  },
  {
   "cell_type": "code",
   "execution_count": 3,
   "metadata": {},
   "outputs": [],
   "source": [
    "class Solution:\n",
    "    def shortest_prefixes(self, arr):\n",
    "        prefixes = {}\n",
    "        for word in arr:\n",
    "            \n",
    "            if word[0] not in prefixes:\n",
    "                prefixes[word[0]] = word[0]\n",
    "            else:\n",
    "                print(word)"
   ]
  },
  {
   "cell_type": "code",
   "execution_count": 4,
   "metadata": {},
   "outputs": [
    {
     "name": "stdout",
     "output_type": "stream",
     "text": [
      "apricot\n"
     ]
    }
   ],
   "source": [
    "solution = Solution()\n",
    "arr = [\"dog\", \"cat\", \"apple\", \"apricot\", \"fish\"]\n",
    "solution.shortest_prefixes(arr)"
   ]
  },
  {
   "cell_type": "code",
   "execution_count": null,
   "metadata": {},
   "outputs": [],
   "source": []
  }
 ],
 "metadata": {
  "kernelspec": {
   "display_name": "Python 3",
   "language": "python",
   "name": "python3"
  },
  "language_info": {
   "codemirror_mode": {
    "name": "ipython",
    "version": 3
   },
   "file_extension": ".py",
   "mimetype": "text/x-python",
   "name": "python",
   "nbconvert_exporter": "python",
   "pygments_lexer": "ipython3",
   "version": "3.8.5"
  }
 },
 "nbformat": 4,
 "nbformat_minor": 4
}
