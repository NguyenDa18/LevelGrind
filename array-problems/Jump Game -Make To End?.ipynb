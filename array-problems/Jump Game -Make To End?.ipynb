{
 "cells": [
  {
   "cell_type": "code",
   "execution_count": 1,
   "metadata": {},
   "outputs": [],
   "source": [
    "arr = [3,2,1,0,4]\n",
    "\n",
    "class Solution:\n",
    "    def can_jump(self, nums):\n",
    "        # start at end\n",
    "        goal = len(nums) - 1\n",
    "        \n",
    "        for i in range(len(nums) - 1, -1, -1):\n",
    "            if i + nums[i] >= goal:\n",
    "                goal = i\n",
    "                \n",
    "        return True if goal == 0 else False"
   ]
  },
  {
   "cell_type": "code",
   "execution_count": null,
   "metadata": {},
   "outputs": [],
   "source": []
  }
 ],
 "metadata": {
  "kernelspec": {
   "display_name": "Python 3",
   "language": "python",
   "name": "python3"
  },
  "language_info": {
   "codemirror_mode": {
    "name": "ipython",
    "version": 3
   },
   "file_extension": ".py",
   "mimetype": "text/x-python",
   "name": "python",
   "nbconvert_exporter": "python",
   "pygments_lexer": "ipython3",
   "version": "3.8.5"
  }
 },
 "nbformat": 4,
 "nbformat_minor": 4
}
