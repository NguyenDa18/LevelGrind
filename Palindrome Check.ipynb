{
 "cells": [
  {
   "cell_type": "markdown",
   "metadata": {
    "colab_type": "text",
    "id": "view-in-github"
   },
   "source": [
    "<a href=\"https://colab.research.google.com/github/NguyenDa18/LevelGrind/blob/master/Palindrome%20Check.ipynb\" target=\"_parent\"><img src=\"https://colab.research.google.com/assets/colab-badge.svg\" alt=\"Open In Colab\"/></a>"
   ]
  },
  {
   "cell_type": "markdown",
   "metadata": {
    "colab_type": "text",
    "id": "PKDG5UaZKhau"
   },
   "source": [
    "# Palindrome Check\n",
    "Write a function that takes in a string and returns a Boolean => True if input string is a palindrome and False if not. An empty string is considered a palindrome. A palindrome is a string or sequence of characters that reads the same backward and forward."
   ]
  },
  {
   "cell_type": "code",
   "execution_count": 15,
   "metadata": {
    "colab": {
     "base_uri": "https://localhost:8080/",
     "height": 34
    },
    "colab_type": "code",
    "id": "bi5IanCOJ8xg",
    "outputId": "9d1c8f96-59ca-4818-9dd9-26e9fb7d15d9"
   },
   "outputs": [
    {
     "data": {
      "text/plain": [
       "True"
      ]
     },
     "execution_count": 15,
     "metadata": {
      "tags": []
     },
     "output_type": "execute_result"
    }
   ],
   "source": [
    "def isPalindromePythonic(string):\n",
    "  return string == string[::-1]\n",
    "\n",
    "isPalindromePythonic(\"racecar\")"
   ]
  },
  {
   "cell_type": "code",
   "execution_count": 16,
   "metadata": {
    "colab": {
     "base_uri": "https://localhost:8080/",
     "height": 34
    },
    "colab_type": "code",
    "id": "9skK9oWsvgZs",
    "outputId": "1ffbbd3e-06a4-4b62-e2b6-43b8027ed482"
   },
   "outputs": [
    {
     "data": {
      "text/plain": [
       "True"
      ]
     },
     "execution_count": 16,
     "metadata": {
      "tags": []
     },
     "output_type": "execute_result"
    }
   ],
   "source": [
    "# O(n) time | O(1) space\n",
    "def isPalindrome4(string):\n",
    "    leftIdx = 0\n",
    "    rightIdx = len(string) - 1\n",
    "    while leftIdx < rightIdx:\n",
    "        if (string[leftIdx] != string[rightIdx]):\n",
    "            return False\n",
    "        leftIdx += 1\n",
    "        rightIdx -= 1\n",
    "    return True\n",
    "\n",
    "isPalindrome4(\"racecar\")"
   ]
  },
  {
   "cell_type": "code",
   "execution_count": 0,
   "metadata": {
    "colab": {
     "base_uri": "https://localhost:8080/",
     "height": 34
    },
    "colab_type": "code",
    "id": "4zEYqwTIv72Y",
    "outputId": "a18e05ae-e95e-4880-c50b-f02858a9bfdf"
   },
   "outputs": [
    {
     "data": {
      "text/plain": [
       "True"
      ]
     },
     "execution_count": 9,
     "metadata": {
      "tags": []
     },
     "output_type": "execute_result"
    }
   ],
   "source": [
    "def isPalindrome3(string, i = 0):\n",
    "  j = len(string) - 1 - i;\n",
    "  return True if i >= j else string[i] == string[j] and isPalindrome3(string, i + 1)\n",
    "\n",
    "isPalindrome3(\"racecar\")"
   ]
  },
  {
   "cell_type": "code",
   "execution_count": 0,
   "metadata": {
    "colab": {
     "base_uri": "https://localhost:8080/",
     "height": 34
    },
    "colab_type": "code",
    "id": "8h7HsPLvvgZ3",
    "outputId": "769afe83-9b27-4fad-f079-7876d9fe9dcf"
   },
   "outputs": [
    {
     "data": {
      "text/plain": [
       "True"
      ]
     },
     "execution_count": 11,
     "metadata": {
      "tags": []
     },
     "output_type": "execute_result"
    }
   ],
   "source": [
    "# O(n^2) time | O(n) space\n",
    "def isPalindrome1(string):\n",
    "    reversedString = \"\"\n",
    "    for i in reversed(range(len(string))):\n",
    "        reversedString += string[i]\n",
    "    return string == reversedString\n",
    "        \n",
    "isPalindrome1(\"racecar\")"
   ]
  }
 ],
 "metadata": {
  "colab": {
   "include_colab_link": true,
   "name": "Palindrome Check.ipynb",
   "provenance": [],
   "version": "0.3.2"
  },
  "kernelspec": {
   "display_name": "Python 3",
   "language": "python",
   "name": "python3"
  },
  "language_info": {
   "codemirror_mode": {
    "name": "ipython",
    "version": 3
   },
   "file_extension": ".py",
   "mimetype": "text/x-python",
   "name": "python",
   "nbconvert_exporter": "python",
   "pygments_lexer": "ipython3",
   "version": "3.8.5"
  }
 },
 "nbformat": 4,
 "nbformat_minor": 1
}
