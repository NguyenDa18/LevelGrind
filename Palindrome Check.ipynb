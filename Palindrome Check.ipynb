{
  "nbformat": 4,
  "nbformat_minor": 0,
  "metadata": {
    "colab": {
      "name": "Palindrome Check.ipynb",
      "version": "0.3.2",
      "provenance": [],
      "include_colab_link": true
    },
    "language_info": {
      "codemirror_mode": {
        "name": "ipython",
        "version": 3
      },
      "file_extension": ".py",
      "mimetype": "text/x-python",
      "name": "python",
      "nbconvert_exporter": "python",
      "pygments_lexer": "ipython3",
      "version": "3.5.2"
    },
    "kernelspec": {
      "display_name": "Python 3",
      "language": "python",
      "name": "python3"
    }
  },
  "cells": [
    {
      "cell_type": "markdown",
      "metadata": {
        "id": "view-in-github",
        "colab_type": "text"
      },
      "source": [
        "<a href=\"https://colab.research.google.com/github/NguyenDa18/LevelGrind/blob/master/Palindrome%20Check.ipynb\" target=\"_parent\"><img src=\"https://colab.research.google.com/assets/colab-badge.svg\" alt=\"Open In Colab\"/></a>"
      ]
    },
    {
      "cell_type": "markdown",
      "metadata": {
        "id": "PKDG5UaZKhau",
        "colab_type": "text"
      },
      "source": [
        "# Palindrome Check\n",
        "Write a function that takes in a string and returns a Boolean => True if input string is a palindrome and False if not. An empty string is considered a palindrome. A palindrome is a string or sequence of characters that reads the same backward and forward."
      ]
    },
    {
      "cell_type": "code",
      "metadata": {
        "id": "bi5IanCOJ8xg",
        "colab_type": "code",
        "colab": {
          "base_uri": "https://localhost:8080/",
          "height": 34
        },
        "outputId": "9d1c8f96-59ca-4818-9dd9-26e9fb7d15d9"
      },
      "source": [
        "def isPalindromePythonic(string):\n",
        "  return string == string[::-1]\n",
        "\n",
        "isPalindromePythonic(\"racecar\")"
      ],
      "execution_count": 15,
      "outputs": [
        {
          "output_type": "execute_result",
          "data": {
            "text/plain": [
              "True"
            ]
          },
          "metadata": {
            "tags": []
          },
          "execution_count": 15
        }
      ]
    },
    {
      "cell_type": "code",
      "metadata": {
        "id": "9skK9oWsvgZs",
        "colab_type": "code",
        "outputId": "1ffbbd3e-06a4-4b62-e2b6-43b8027ed482",
        "colab": {
          "base_uri": "https://localhost:8080/",
          "height": 34
        }
      },
      "source": [
        "# O(n) time | O(1) space\n",
        "def isPalindrome4(string):\n",
        "    leftIdx = 0\n",
        "    rightIdx = len(string) - 1\n",
        "    while leftIdx < rightIdx:\n",
        "        if (string[leftIdx] != string[rightIdx]):\n",
        "            return False\n",
        "        leftIdx += 1\n",
        "        rightIdx -= 1\n",
        "    return True\n",
        "\n",
        "isPalindrome4(\"racecar\")"
      ],
      "execution_count": 16,
      "outputs": [
        {
          "output_type": "execute_result",
          "data": {
            "text/plain": [
              "True"
            ]
          },
          "metadata": {
            "tags": []
          },
          "execution_count": 16
        }
      ]
    },
    {
      "cell_type": "code",
      "metadata": {
        "id": "4zEYqwTIv72Y",
        "colab_type": "code",
        "outputId": "a18e05ae-e95e-4880-c50b-f02858a9bfdf",
        "colab": {
          "base_uri": "https://localhost:8080/",
          "height": 34
        }
      },
      "source": [
        "def isPalindrome3(string, i = 0):\n",
        "  j = len(string) - 1 - i;\n",
        "  return True if i >= j else string[i] == string[j] and isPalindrome3(string, i + 1)\n",
        "\n",
        "isPalindrome3(\"racecar\")"
      ],
      "execution_count": 0,
      "outputs": [
        {
          "output_type": "execute_result",
          "data": {
            "text/plain": [
              "True"
            ]
          },
          "metadata": {
            "tags": []
          },
          "execution_count": 9
        }
      ]
    },
    {
      "cell_type": "code",
      "metadata": {
        "id": "8h7HsPLvvgZ3",
        "colab_type": "code",
        "outputId": "769afe83-9b27-4fad-f079-7876d9fe9dcf",
        "colab": {
          "base_uri": "https://localhost:8080/",
          "height": 34
        }
      },
      "source": [
        "# O(n^2) time | O(n) space\n",
        "def isPalindrome1(string):\n",
        "    reversedString = \"\"\n",
        "    for i in reversed(range(len(string))):\n",
        "        reversedString += string[i]\n",
        "    return string == reversedString\n",
        "        \n",
        "isPalindrome1(\"racecar\")"
      ],
      "execution_count": 0,
      "outputs": [
        {
          "output_type": "execute_result",
          "data": {
            "text/plain": [
              "True"
            ]
          },
          "metadata": {
            "tags": []
          },
          "execution_count": 11
        }
      ]
    }
  ]
}