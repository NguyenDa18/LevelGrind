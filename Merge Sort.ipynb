{
 "cells": [
  {
   "cell_type": "markdown",
   "metadata": {},
   "source": [
    "# Merge Sort\n",
    "## Divide and Conquer"
   ]
  },
  {
   "cell_type": "markdown",
   "metadata": {},
   "source": [
    "## Thinking Process\n",
    "- Merge sort divides array into two\n",
    "- \"Conquers\" the two halves\n",
    "- Repeat\n",
    "- Merge back together and sort\n",
    "\n",
    "    - [8,5,2,9,5,6,3]\n",
    "    - Split\n",
    "    - [8,5,2,9] , [5,6,3]\n",
    "    - Split\n",
    "    - [8,5] , [2,9]\n",
    "    - Work with left side for now:\n",
    "    - [8] , [5]\n",
    "    - Once we reach to subarrays of length 1: merge sort step 2\n",
    "    - Sort subarrays\n",
    "    - [5,8]"
   ]
  },
  {
   "cell_type": "code",
   "execution_count": 3,
   "metadata": {
    "collapsed": false
   },
   "outputs": [
    {
     "ename": "SyntaxError",
     "evalue": "invalid syntax (<ipython-input-3-a28441464364>, line 15)",
     "output_type": "error",
     "traceback": [
      "\u001b[0;36m  File \u001b[0;32m\"<ipython-input-3-a28441464364>\"\u001b[0;36m, line \u001b[0;32m15\u001b[0m\n\u001b[0;31m    while i < len(leftHalf) and j < len(rightHalf)\u001b[0m\n\u001b[0m                                                  ^\u001b[0m\n\u001b[0;31mSyntaxError\u001b[0m\u001b[0;31m:\u001b[0m invalid syntax\n"
     ]
    }
   ],
   "source": [
    "# Best, Average, Worst: O(nlogn) time | O(nlogn) space\n",
    "def mergeSort(array):\n",
    "    if len(array) == 1:\n",
    "        return array\n",
    "    # round to lower integer\n",
    "    middleIdx = len(array) // 2\n",
    "    leftHalf = array[:middleIdx]\n",
    "    rightHalf = array[middleIdx:]\n",
    "    return mergeSortedArrays(mergeSort(leftHalf), mergeSort(rightHalf))\n",
    "\n",
    "    \n",
    "def mergeSortedArrays(leftHalf, rightHalf):\n",
    "    sortedArray = [None] * (len(leftHalf) + len(rightHalf))\n",
    "    k = i = j = 0\n",
    "    while i < len(leftHalf) and j < len(rightHalf)\n",
    "    while i < len(leftHalf)\n",
    "    while j < len(rightHalf)\n",
    "    return sortedArray\n",
    "    "
   ]
  },
  {
   "cell_type": "code",
   "execution_count": null,
   "metadata": {
    "collapsed": true
   },
   "outputs": [],
   "source": [
    "# Sorts the array IN PLACE\n",
    "# Less space complexity\n",
    "\n"
   ]
  }
 ],
 "metadata": {
  "anaconda-cloud": {},
  "kernelspec": {
   "display_name": "Python 3",
   "language": "python",
   "name": "python3"
  },
  "language_info": {
   "codemirror_mode": {
    "name": "ipython",
    "version": 3
   },
   "file_extension": ".py",
   "mimetype": "text/x-python",
   "name": "python",
   "nbconvert_exporter": "python",
   "pygments_lexer": "ipython3",
   "version": "3.5.2"
  }
 },
 "nbformat": 4,
 "nbformat_minor": 1
}
