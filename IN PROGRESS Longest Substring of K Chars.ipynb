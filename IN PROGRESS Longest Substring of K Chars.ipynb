{
  "nbformat": 4,
  "nbformat_minor": 0,
  "metadata": {
    "colab": {
      "name": "Longest Substring of K Chars.ipynb",
      "version": "0.3.2",
      "provenance": [],
      "include_colab_link": true
    },
    "kernelspec": {
      "name": "python3",
      "display_name": "Python 3"
    }
  },
  "cells": [
    {
      "cell_type": "markdown",
      "metadata": {
        "id": "view-in-github",
        "colab_type": "text"
      },
      "source": [
        "<a href=\"https://colab.research.google.com/github/NguyenDa18/LevelGrind/blob/master/IN%20PROGRESS%20Longest%20Substring%20of%20K%20Chars.ipynb\" target=\"_parent\"><img src=\"https://colab.research.google.com/assets/colab-badge.svg\" alt=\"Open In Colab\"/></a>"
      ]
    },
    {
      "cell_type": "markdown",
      "metadata": {
        "id": "LYdgTqCQh8gb",
        "colab_type": "text"
      },
      "source": [
        "# Longest Substring of K Distinct Chars: Daily Coding Problem #13\n",
        "Good morning! Here's your coding interview problem for today.\n",
        "\n",
        "This problem was asked by Amazon.\n",
        "\n",
        "Given an integer k and a string s, find the length of the longest substring that contains at most k distinct characters.\n",
        "\n",
        "For example, given s = \"abcba\" and k = 2, the longest substring with k distinct characters is \"bcb\"."
      ]
    },
    {
      "cell_type": "code",
      "metadata": {
        "id": "_J_5UG3diIeZ",
        "colab_type": "code",
        "colab": {}
      },
      "source": [
        "def longest_k_substr(k, s):\n",
        "  # edge cases\n",
        "  if not s:\n",
        "    return \"\"\n",
        "  elif len(s) <= k:\n",
        "    return s\n",
        "  elif k == 1:\n",
        "    return s[0]\n",
        "  \n",
        "  distinct_char_count = 0\n",
        "  distinct_chars = set()\n",
        "  \n",
        "  \n",
        "  chars = {}\n",
        "  substr = []\n",
        "  for c in s:\n",
        "    if c in chars:\n",
        "      continue\n",
        "    else:\n",
        "      chars[c] = c\n",
        "      substr.append(c)\n",
        "  return substr"
      ],
      "execution_count": 0,
      "outputs": []
    },
    {
      "cell_type": "code",
      "metadata": {
        "id": "Rv89lGJzj4y8",
        "colab_type": "code",
        "colab": {
          "base_uri": "https://localhost:8080/",
          "height": 34
        },
        "outputId": "72dff69a-d7da-415d-e12e-9be2debefd45"
      },
      "source": [
        "s = \"abcba\"\n",
        "result = longest_k_substr(2, s)\n",
        "print(result)"
      ],
      "execution_count": 27,
      "outputs": [
        {
          "output_type": "stream",
          "text": [
            "['a', 'b', 'c']\n"
          ],
          "name": "stdout"
        }
      ]
    },
    {
      "cell_type": "code",
      "metadata": {
        "id": "Y88YRNQviV36",
        "colab_type": "code",
        "colab": {
          "base_uri": "https://localhost:8080/",
          "height": 102
        },
        "outputId": "d73fa4b1-715e-4e87-81de-65a9df2f649c"
      },
      "source": [
        "s = \"abcba\"\n",
        "for el in s:\n",
        "  print(el)"
      ],
      "execution_count": 9,
      "outputs": [
        {
          "output_type": "stream",
          "text": [
            "a\n",
            "b\n",
            "c\n",
            "b\n",
            "a\n"
          ],
          "name": "stdout"
        }
      ]
    },
    {
      "cell_type": "code",
      "metadata": {
        "id": "CQ7XzJ85iamz",
        "colab_type": "code",
        "colab": {}
      },
      "source": [
        ""
      ],
      "execution_count": 0,
      "outputs": []
    }
  ]
}