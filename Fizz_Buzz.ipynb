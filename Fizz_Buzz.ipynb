{
  "nbformat": 4,
  "nbformat_minor": 0,
  "metadata": {
    "colab": {
      "name": "Fizz Buzz.ipynb",
      "version": "0.3.2",
      "provenance": [],
      "include_colab_link": true
    },
    "kernelspec": {
      "name": "python3",
      "display_name": "Python 3"
    }
  },
  "cells": [
    {
      "cell_type": "markdown",
      "metadata": {
        "id": "view-in-github",
        "colab_type": "text"
      },
      "source": [
        "<a href=\"https://colab.research.google.com/github/NguyenDa18/LevelGrind/blob/master/Fizz_Buzz.ipynb\" target=\"_parent\"><img src=\"https://colab.research.google.com/assets/colab-badge.svg\" alt=\"Open In Colab\"/></a>"
      ]
    },
    {
      "metadata": {
        "id": "Ij0_00s9BBQ2",
        "colab_type": "text"
      },
      "cell_type": "markdown",
      "source": [
        "# Fizz Buzz\n",
        "\n",
        "Output numbers from 1 to x.\n",
        "- If number is divisible by 3, print \"Fizz\"\n",
        "- If number is divisible by 5, print \"Buzz\"\n",
        "- divisible by both, print \"FizzBuzz\"\n",
        "- else print current number"
      ]
    },
    {
      "metadata": {
        "id": "XHNF_BOt_PtQ",
        "colab_type": "code",
        "colab": {}
      },
      "cell_type": "code",
      "source": [
        "# could break up with functions too but this is just quick and dirty\n",
        "\n",
        "def fizz_buzz(x):\n",
        "  for num in range(1, x + 1):\n",
        "    if (num % 15 == 0):\n",
        "      print(str(num) + \", FizzBuzz\")\n",
        "    elif num % 3 == 0:\n",
        "      print(str(num) + \", Fizz\")\n",
        "    elif num % 5 == 0:\n",
        "      print(str(num) + \", Buzz\")\n",
        "    else:\n",
        "      print(str(num))"
      ],
      "execution_count": 0,
      "outputs": []
    },
    {
      "metadata": {
        "id": "VIJQcHQ9AOQz",
        "colab_type": "code",
        "colab": {
          "base_uri": "https://localhost:8080/",
          "height": 527
        },
        "outputId": "1f3e3ae0-9f1c-419a-a933-0eb3c6b65855"
      },
      "cell_type": "code",
      "source": [
        "fizz_buzz(30)"
      ],
      "execution_count": 13,
      "outputs": [
        {
          "output_type": "stream",
          "text": [
            "1\n",
            "2\n",
            "3, Fizz\n",
            "4\n",
            "5, Buzz\n",
            "6, Fizz\n",
            "7\n",
            "8\n",
            "9, Fizz\n",
            "10, Buzz\n",
            "11\n",
            "12, Fizz\n",
            "13\n",
            "14\n",
            "15, FizzBuzz\n",
            "16\n",
            "17\n",
            "18, Fizz\n",
            "19\n",
            "20, Buzz\n",
            "21, Fizz\n",
            "22\n",
            "23\n",
            "24, Fizz\n",
            "25, Buzz\n",
            "26\n",
            "27, Fizz\n",
            "28\n",
            "29\n",
            "30, FizzBuzz\n"
          ],
          "name": "stdout"
        }
      ]
    },
    {
      "metadata": {
        "id": "kIP9J-LjAQbp",
        "colab_type": "code",
        "colab": {}
      },
      "cell_type": "code",
      "source": [
        ""
      ],
      "execution_count": 0,
      "outputs": []
    }
  ]
}