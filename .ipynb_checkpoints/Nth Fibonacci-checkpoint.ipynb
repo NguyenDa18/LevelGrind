{
 "cells": [
  {
   "cell_type": "markdown",
   "metadata": {},
   "source": [
    "# Nth Fibonacci\n",
    "- Write function that takes integer n and returns nth Fibonacci number\n",
    "\n",
    "## Thinking Process\n",
    "- Recall memoization in Dynamic Programming...prevent duplicate calculations"
   ]
  },
  {
   "cell_type": "code",
   "execution_count": 16,
   "metadata": {
    "collapsed": true
   },
   "outputs": [],
   "source": [
    "# O(n) time | O(n) space\n",
    "def nthFibonacci2(n, memoize = {1: 0, 2: 1}):\n",
    "    if n in memoize:\n",
    "        return memoize[n]\n",
    "    else:\n",
    "        memoize[n] = nthFibonacci(n - 1, memoize) + nthFibonacci(n - 2, memoize)\n",
    "        return memoize[n]"
   ]
  },
  {
   "cell_type": "code",
   "execution_count": 17,
   "metadata": {
    "collapsed": false
   },
   "outputs": [
    {
     "name": "stdout",
     "output_type": "stream",
     "text": [
      "5\n"
     ]
    }
   ],
   "source": [
    "result = nthFibonacci2(6)\n",
    "print(result)"
   ]
  },
  {
   "cell_type": "code",
   "execution_count": 18,
   "metadata": {
    "collapsed": false
   },
   "outputs": [],
   "source": [
    "# O(2^n) time | O(n) space\n",
    "def nthFibonacci3(n):\n",
    "    if n == 1:\n",
    "        return 0\n",
    "    if n == 2:\n",
    "        return 1\n",
    "    return nthFibonacci(n - 1) + nthFibonacci(n-2)"
   ]
  },
  {
   "cell_type": "code",
   "execution_count": 19,
   "metadata": {
    "collapsed": false
   },
   "outputs": [
    {
     "name": "stdout",
     "output_type": "stream",
     "text": [
      "5\n"
     ]
    }
   ],
   "source": [
    "result = nthFibonacci3(6)\n",
    "print(result)"
   ]
  },
  {
   "cell_type": "code",
   "execution_count": null,
   "metadata": {
    "collapsed": true
   },
   "outputs": [],
   "source": []
  }
 ],
 "metadata": {
  "kernelspec": {
   "display_name": "Python 3",
   "language": "python",
   "name": "python3"
  },
  "language_info": {
   "codemirror_mode": {
    "name": "ipython",
    "version": 3
   },
   "file_extension": ".py",
   "mimetype": "text/x-python",
   "name": "python",
   "nbconvert_exporter": "python",
   "pygments_lexer": "ipython3",
   "version": "3.5.2"
  }
 },
 "nbformat": 4,
 "nbformat_minor": 1
}
