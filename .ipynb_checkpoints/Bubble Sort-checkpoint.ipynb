{
 "cells": [
  {
   "cell_type": "code",
   "execution_count": null,
   "metadata": {
    "collapsed": true
   },
   "outputs": [],
   "source": [
    "# Best: O(n) time | O(1) space\n",
    "# Average: O(n^2) time | O(1) space\n",
    "# Worst: O(n^2) time | O(1) space\n",
    "def bubbleSort(array):\n",
    "    isSorted = false\n",
    "    counter = 0\n",
    "    while not isSorted:\n",
    "        isSorted = True\n",
    "        for i in range(len(array) - 1 - counter):\n",
    "            if(array[i] > array[i + 1]):\n",
    "                isSorted = False\n",
    "        counter += 1"
   ]
  }
 ],
 "metadata": {
  "kernelspec": {
   "display_name": "Python 3",
   "language": "python",
   "name": "python3"
  },
  "language_info": {
   "codemirror_mode": {
    "name": "ipython",
    "version": 3
   },
   "file_extension": ".py",
   "mimetype": "text/x-python",
   "name": "python",
   "nbconvert_exporter": "python",
   "pygments_lexer": "ipython3",
   "version": "3.5.2"
  }
 },
 "nbformat": 4,
 "nbformat_minor": 1
}
