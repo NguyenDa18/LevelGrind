{
  "nbformat": 4,
  "nbformat_minor": 0,
  "metadata": {
    "colab": {
      "name": "Caesar Cipher-checkpoint.ipynb",
      "version": "0.3.2",
      "provenance": [],
      "toc_visible": true,
      "include_colab_link": true
    },
    "kernelspec": {
      "name": "python3",
      "display_name": "Python 3"
    }
  },
  "cells": [
    {
      "cell_type": "markdown",
      "metadata": {
        "id": "view-in-github",
        "colab_type": "text"
      },
      "source": [
        "<a href=\"https://colab.research.google.com/github/NguyenDa18/LevelGrind/blob/master/.ipynb_checkpoints/Caesar%20Cipher-checkpoint.ipynb\" target=\"_parent\"><img src=\"https://colab.research.google.com/assets/colab-badge.svg\" alt=\"Open In Colab\"/></a>"
      ]
    },
    {
      "metadata": {
        "id": "bjDjIERMYGam",
        "colab_type": "text"
      },
      "cell_type": "markdown",
      "source": [
        "# Caesar Cipher Encryptor"
      ]
    },
    {
      "metadata": {
        "id": "rGDhzwpCYS-v",
        "colab_type": "text"
      },
      "cell_type": "markdown",
      "source": [
        "Given a non-empty string of lowercase letters and a non-negative integer value representing a key, write a function that returns a new string obtained by shifting every letter in the input string by k positions in the alphabet, where k is the key."
      ]
    },
    {
      "metadata": {
        "id": "SjaMQ64pfgwk",
        "colab_type": "text"
      },
      "cell_type": "markdown",
      "source": [
        "## Thinking Process"
      ]
    },
    {
      "metadata": {
        "id": "8V1OcUJUfq1K",
        "colab_type": "text"
      },
      "cell_type": "markdown",
      "source": [
        "- use a helper function to shift the letter by key\n",
        "- Unicode converter: ord(L), L is a letter\n",
        "- newLetterCode = ord(letter) + key"
      ]
    },
    {
      "metadata": {
        "id": "sYiuJQVpcRVt",
        "colab_type": "text"
      },
      "cell_type": "markdown",
      "source": [
        "# Solution 1 - Using Unicode"
      ]
    },
    {
      "metadata": {
        "id": "WnSKDoVhYv7a",
        "colab_type": "code",
        "colab": {}
      },
      "cell_type": "code",
      "source": [
        "# O(n) time | O(n) space\n",
        "def caesar_cipher_encryptor(string, key):\n",
        "  newLetters = []\n",
        "  newKey = key % 26\n",
        "  for letter in string:\n",
        "    newLetters.append(get_new_letter(letter, newKey))\n",
        "  return \"\".join(newLetters)\n",
        "\n",
        "def get_new_letter(letter, key):\n",
        "  newLetterCode = ord(letter) + key\n",
        "  return chr(newLetterCode) if newLetterCode <= 122 else chr(96 + newLetterCode % 122)"
      ],
      "execution_count": 0,
      "outputs": []
    },
    {
      "metadata": {
        "id": "E4RDNN0maatR",
        "colab_type": "code",
        "colab": {
          "base_uri": "https://localhost:8080/",
          "height": 34
        },
        "outputId": "5527922a-af6b-4ef1-cbd7-41f11ee8acef"
      },
      "cell_type": "code",
      "source": [
        "result = caesar_cipher_encryptor(\"abc\", 3)\n",
        "print(result)"
      ],
      "execution_count": 3,
      "outputs": [
        {
          "output_type": "stream",
          "text": [
            "def\n"
          ],
          "name": "stdout"
        }
      ]
    },
    {
      "metadata": {
        "id": "8nTunjquavH3",
        "colab_type": "code",
        "colab": {
          "base_uri": "https://localhost:8080/",
          "height": 34
        },
        "outputId": "43b15db1-3019-416d-a667-4ae3a90a1c87"
      },
      "cell_type": "code",
      "source": [
        "result = caesar_cipher_encryptor(\"xyz\", 2)\n",
        "print(result)"
      ],
      "execution_count": 7,
      "outputs": [
        {
          "output_type": "stream",
          "text": [
            "zab\n"
          ],
          "name": "stdout"
        }
      ]
    },
    {
      "metadata": {
        "id": "XOAT5zjbcXxk",
        "colab_type": "text"
      },
      "cell_type": "markdown",
      "source": [
        "# Solution 2  - Using Alphabet"
      ]
    },
    {
      "metadata": {
        "id": "UKjZrvqlcoEE",
        "colab_type": "code",
        "colab": {}
      },
      "cell_type": "code",
      "source": [
        "def caesar_cipher_encrypt_with_alphabet(string, key):\n",
        "  newLetters = []\n",
        "  newKey = key % 26\n",
        "  alphabet = list(\"abcdefghijklmnopqrstuvwxyz\")\n",
        "  for letter in string:\n",
        "    newLetters.append(encrypt_letter(letter, newKey, alphabet))\n",
        "  return \"\".join(newLetters)\n",
        "\n",
        "def encrypt_letter(letter, key, alphabet):\n",
        "  newLetterCode = alphabet.index(letter) + key\n",
        "  return alphabet[newLetterCode] if newLetterCode <= 25 else alphabet[-1 + newLetterCode % 25]"
      ],
      "execution_count": 0,
      "outputs": []
    },
    {
      "metadata": {
        "id": "OLA0ypFHhEuh",
        "colab_type": "code",
        "colab": {
          "base_uri": "https://localhost:8080/",
          "height": 34
        },
        "outputId": "720f75ac-3470-4f44-dd10-dafe9944821d"
      },
      "cell_type": "code",
      "source": [
        "result = caesar_cipher_encrypt_with_alphabet(\"abc\", 3)\n",
        "print(result)"
      ],
      "execution_count": 17,
      "outputs": [
        {
          "output_type": "stream",
          "text": [
            "def\n"
          ],
          "name": "stdout"
        }
      ]
    },
    {
      "metadata": {
        "id": "lrldF9AphIKF",
        "colab_type": "code",
        "colab": {
          "base_uri": "https://localhost:8080/",
          "height": 34
        },
        "outputId": "1116acaf-d018-4b09-94f6-1abd75a68236"
      },
      "cell_type": "code",
      "source": [
        "result = caesar_cipher_encrypt_with_alphabet(\"abc\", 57)\n",
        "print(result)"
      ],
      "execution_count": 18,
      "outputs": [
        {
          "output_type": "stream",
          "text": [
            "fgh\n"
          ],
          "name": "stdout"
        }
      ]
    },
    {
      "metadata": {
        "id": "6jYwfo09hS5q",
        "colab_type": "code",
        "colab": {}
      },
      "cell_type": "code",
      "source": [
        ""
      ],
      "execution_count": 0,
      "outputs": []
    }
  ]
}