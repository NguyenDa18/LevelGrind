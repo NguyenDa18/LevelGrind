{
 "cells": [
  {
   "cell_type": "markdown",
   "metadata": {
    "colab_type": "text",
    "id": "view-in-github"
   },
   "source": [
    "<a href=\"https://colab.research.google.com/github/NguyenDa18/LevelGrind/blob/master/Powersets.ipynb\" target=\"_parent\"><img src=\"https://colab.research.google.com/assets/colab-badge.svg\" alt=\"Open In Colab\"/></a>"
   ]
  },
  {
   "cell_type": "markdown",
   "metadata": {
    "colab_type": "text",
    "id": "xFq5lANxQxpL"
   },
   "source": [
    "# Powersets : AlgoExpert\n",
    "Write a function that takes in array of unique integers and returns its powerset. The powerset P(X) of a set X is the set of all subsets of X. Note that the sets in the powerset do not need to be in any particular order.\n",
    "- E.g. P([1,2,3]) = ([], [1], [2], [3], [1,2],[1,3],[2,3]],[1,2,3])"
   ]
  },
  {
   "cell_type": "code",
   "execution_count": 0,
   "metadata": {
    "colab": {},
    "colab_type": "code",
    "id": "XY6OXAzeSyKd"
   },
   "outputs": [],
   "source": [
    "# O(n*2^n) time |\n",
    "def powerset(array):\n",
    "  subsets = [[]]\n",
    "  for el in array:\n",
    "    for i in range(len(subsets)):\n",
    "      currentSubset = subsets[i]\n",
    "      subsets.append(currentSubset + [el])\n",
    "  return subsets"
   ]
  },
  {
   "cell_type": "code",
   "execution_count": 5,
   "metadata": {
    "colab": {
     "base_uri": "https://localhost:8080/",
     "height": 34
    },
    "colab_type": "code",
    "id": "KFtZl8T6WKgC",
    "outputId": "a8bad767-b3b6-41c1-e6c7-957ecfa01a5b"
   },
   "outputs": [
    {
     "name": "stdout",
     "output_type": "stream",
     "text": [
      "[[], [1], [2], [1, 2], [3], [1, 3], [2, 3], [1, 2, 3]]\n"
     ]
    }
   ],
   "source": [
    "test = [1,2,3]\n",
    "result = powerset(test)\n",
    "print(result)"
   ]
  },
  {
   "cell_type": "code",
   "execution_count": 6,
   "metadata": {
    "colab": {
     "base_uri": "https://localhost:8080/",
     "height": 34
    },
    "colab_type": "code",
    "id": "sOujKOM3XJxj",
    "outputId": "b0df1c5b-d0ad-48a7-a96c-bcee004f8a0a"
   },
   "outputs": [
    {
     "name": "stdout",
     "output_type": "stream",
     "text": [
      "[[], [2], [3], [2, 3], [4], [2, 4], [3, 4], [2, 3, 4], [5], [2, 5], [3, 5], [2, 3, 5], [4, 5], [2, 4, 5], [3, 4, 5], [2, 3, 4, 5]]\n"
     ]
    }
   ],
   "source": [
    "test = [2,3,4,5]\n",
    "result = powerset(test)\n",
    "print(result)"
   ]
  }
 ],
 "metadata": {
  "colab": {
   "include_colab_link": true,
   "name": "Powersets.ipynb",
   "provenance": [],
   "version": "0.3.2"
  },
  "kernelspec": {
   "display_name": "Python 3",
   "language": "python",
   "name": "python3"
  },
  "language_info": {
   "codemirror_mode": {
    "name": "ipython",
    "version": 3
   },
   "file_extension": ".py",
   "mimetype": "text/x-python",
   "name": "python",
   "nbconvert_exporter": "python",
   "pygments_lexer": "ipython3",
   "version": "3.7.4"
  }
 },
 "nbformat": 4,
 "nbformat_minor": 1
}
