{
 "cells": [
  {
   "cell_type": "markdown",
   "metadata": {
    "colab_type": "text",
    "id": "view-in-github"
   },
   "source": [
    "<a href=\"https://colab.research.google.com/github/NguyenDa18/LevelGrind/blob/master/MegaCorp_Payments.ipynb\" target=\"_parent\"><img src=\"https://colab.research.google.com/assets/colab-badge.svg\" alt=\"Open In Colab\"/></a>"
   ]
  },
  {
   "cell_type": "markdown",
   "metadata": {
    "colab_type": "text",
    "id": "qWAit5dtABa8"
   },
   "source": [
    "# MegaCorp Payments : Daily Coding Problem #265\n",
    "This problem was asked by Atlassian.\n",
    "\n",
    "MegaCorp wants to give bonuses to its employees based on how many lines of codes they have written. They would like to give the smallest positive amount to each worker consistent with the constraint that if a developer has written more lines of code than their neighbor, they should receive more money.\n",
    "\n",
    "Given an array representing a line of seats of employees at MegaCorp, determine how much each one should get paid.\n",
    "\n",
    "For example, given [10, 40, 200, 1000, 60, 30], you should return [1, 2, 3, 4, 2, 1]."
   ]
  },
  {
   "cell_type": "code",
   "execution_count": 0,
   "metadata": {
    "colab": {},
    "colab_type": "code",
    "id": "WHAObLj0_4Yh"
   },
   "outputs": [],
   "source": [
    "def megacorp_payments(seats):\n",
    "  payments = []\n",
    "  for i, seat in enumerate(seats):\n",
    "    if seat > 0:\n",
    "      if seat <= 30:\n",
    "        payments.append(1)\n",
    "      elif seat <= 60 and seat > 30:\n",
    "        payments.append(2)\n",
    "      elif seat <= 500 and seat > 60:\n",
    "        payments.append(3)\n",
    "      else:\n",
    "        payments.append(4)\n",
    "  return payments"
   ]
  },
  {
   "cell_type": "code",
   "execution_count": 0,
   "metadata": {
    "colab": {
     "base_uri": "https://localhost:8080/",
     "height": 34
    },
    "colab_type": "code",
    "id": "C1XOD1hrAe32",
    "outputId": "1cac8640-c903-4c3b-a4f1-e308d29199dd"
   },
   "outputs": [
    {
     "name": "stdout",
     "output_type": "stream",
     "text": [
      "[1, 2, 3, 4, 2, 1]\n"
     ]
    }
   ],
   "source": [
    "seats = [10, 40, 200, 1000, 60, 30]\n",
    "\n",
    "result = megacorp_payments(seats)\n",
    "print(result)"
   ]
  }
 ],
 "metadata": {
  "colab": {
   "include_colab_link": true,
   "name": "MegaCorp Payments.ipynb",
   "provenance": [],
   "version": "0.3.2"
  },
  "kernelspec": {
   "display_name": "Python 3",
   "language": "python",
   "name": "python3"
  },
  "language_info": {
   "codemirror_mode": {
    "name": "ipython",
    "version": 3
   },
   "file_extension": ".py",
   "mimetype": "text/x-python",
   "name": "python",
   "nbconvert_exporter": "python",
   "pygments_lexer": "ipython3",
   "version": "3.7.4"
  }
 },
 "nbformat": 4,
 "nbformat_minor": 1
}
