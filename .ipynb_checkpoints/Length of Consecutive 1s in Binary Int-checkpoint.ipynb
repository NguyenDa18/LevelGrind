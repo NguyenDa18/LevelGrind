{
 "cells": [
  {
   "cell_type": "markdown",
   "metadata": {},
   "source": [
    "# Length of Longest Consecutive 1s in Binary Integer\n",
    "This problem was asked by Stripe.\n",
    "\n",
    "Given an integer n, return the length of the longest consecutive run of 1s in its binary representation.\n",
    "\n",
    "For example, given 156, you should return 3.\n",
    "\n",
    "## Thinking Process\n",
    "- If we AND bit sequence with shifted version of itself we effective remove trailing 1 from every sequence of consecutive 1's"
   ]
  },
  {
   "cell_type": "code",
   "execution_count": 4,
   "metadata": {
    "collapsed": true
   },
   "outputs": [],
   "source": [
    "def maxConsecutiveOnes(x):\n",
    "    count = 0\n",
    "    \n",
    "    # count number of iterations to reach x = 0\n",
    "    while (x != 0):\n",
    "        # This operation reduces length of every sequence of 1s by one\n",
    "        x = (x & (x << 1))\n",
    "        count += 1\n",
    "    return count"
   ]
  },
  {
   "cell_type": "code",
   "execution_count": 5,
   "metadata": {
    "collapsed": false
   },
   "outputs": [
    {
     "name": "stdout",
     "output_type": "stream",
     "text": [
      "3\n",
      "3\n"
     ]
    }
   ],
   "source": [
    "result = maxConsecutiveOnes(14)\n",
    "print(result)\n",
    "result = maxConsecutiveOnes(156)\n",
    "print(result)"
   ]
  }
 ],
 "metadata": {
  "kernelspec": {
   "display_name": "Python 3",
   "language": "python",
   "name": "python3"
  },
  "language_info": {
   "codemirror_mode": {
    "name": "ipython",
    "version": 3
   },
   "file_extension": ".py",
   "mimetype": "text/x-python",
   "name": "python",
   "nbconvert_exporter": "python",
   "pygments_lexer": "ipython3",
   "version": "3.5.2"
  }
 },
 "nbformat": 4,
 "nbformat_minor": 1
}
