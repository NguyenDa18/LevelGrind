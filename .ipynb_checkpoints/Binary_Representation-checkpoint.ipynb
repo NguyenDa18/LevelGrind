{
 "cells": [
  {
   "cell_type": "markdown",
   "metadata": {
    "colab_type": "text",
    "id": "view-in-github"
   },
   "source": [
    "<a href=\"https://colab.research.google.com/github/NguyenDa18/LevelGrind/blob/master/Binary_Representation.ipynb\" target=\"_parent\"><img src=\"https://colab.research.google.com/assets/colab-badge.svg\" alt=\"Open In Colab\"/></a>"
   ]
  },
  {
   "cell_type": "markdown",
   "metadata": {
    "colab_type": "text",
    "id": "nJDN_dve53gF"
   },
   "source": [
    "# Binary Representation : Firecode.io\n",
    "Compute the bin representation of a positive decimal integer."
   ]
  },
  {
   "cell_type": "code",
   "execution_count": 6,
   "metadata": {
    "colab": {},
    "colab_type": "code",
    "id": "74cedIms5edp"
   },
   "outputs": [],
   "source": [
    "def dec_to_bin(num: int):\n",
    "  \"\"\" Compute the bin representation of a positive decimal integer. \n",
    "  num : Integer\n",
    "  return : String binary representation\n",
    "  \"\"\"\n",
    "  if num < 2:\n",
    "    return str(num)\n",
    "  return dec_to_bin(num // 2) + dec_to_bin(num % 2)"
   ]
  },
  {
   "cell_type": "code",
   "execution_count": 7,
   "metadata": {
    "colab": {
     "base_uri": "https://localhost:8080/",
     "height": 34
    },
    "colab_type": "code",
    "id": "hx1uBO5L5qF3",
    "outputId": "4bb671e1-fc4f-4e83-d42c-15df6d6e1029"
   },
   "outputs": [
    {
     "name": "stdout",
     "output_type": "stream",
     "text": [
      "110\n"
     ]
    }
   ],
   "source": [
    "test = 6\n",
    "result = dec_to_bin(test)\n",
    "print(result)"
   ]
  },
  {
   "cell_type": "code",
   "execution_count": 8,
   "metadata": {
    "colab": {
     "base_uri": "https://localhost:8080/",
     "height": 34
    },
    "colab_type": "code",
    "id": "qH3si-omsXH2",
    "outputId": "d5c275f0-6f90-4b14-93c4-255710a88168"
   },
   "outputs": [
    {
     "name": "stdout",
     "output_type": "stream",
     "text": [
      "1000000\n"
     ]
    }
   ],
   "source": [
    "test = 64\n",
    "result = dec_to_bin(test)\n",
    "print(result)"
   ]
  },
  {
   "cell_type": "code",
   "execution_count": 9,
   "metadata": {},
   "outputs": [
    {
     "name": "stdout",
     "output_type": "stream",
     "text": [
      "Help on function dec_to_bin in module __main__:\n",
      "\n",
      "dec_to_bin(num: int)\n",
      "    Compute the bin representation of a positive decimal integer. \n",
      "    num : Integer\n",
      "    return : String binary representation\n",
      "\n"
     ]
    }
   ],
   "source": [
    "help(dec_to_bin)"
   ]
  }
 ],
 "metadata": {
  "colab": {
   "include_colab_link": true,
   "name": "Binary Representation.ipynb",
   "provenance": [],
   "version": "0.3.2"
  },
  "kernelspec": {
   "display_name": "Python 3",
   "language": "python",
   "name": "python3"
  },
  "language_info": {
   "codemirror_mode": {
    "name": "ipython",
    "version": 3
   },
   "file_extension": ".py",
   "mimetype": "text/x-python",
   "name": "python",
   "nbconvert_exporter": "python",
   "pygments_lexer": "ipython3",
   "version": "3.7.4"
  }
 },
 "nbformat": 4,
 "nbformat_minor": 1
}
