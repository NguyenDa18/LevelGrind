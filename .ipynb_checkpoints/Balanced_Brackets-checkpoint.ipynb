{
 "cells": [
  {
   "cell_type": "markdown",
   "metadata": {
    "colab_type": "text",
    "id": "view-in-github"
   },
   "source": [
    "<a href=\"https://colab.research.google.com/github/NguyenDa18/LevelGrind/blob/master/Balanced_Brackets.ipynb\" target=\"_parent\"><img src=\"https://colab.research.google.com/assets/colab-badge.svg\" alt=\"Open In Colab\"/></a>"
   ]
  },
  {
   "cell_type": "markdown",
   "metadata": {
    "colab_type": "text",
    "id": "yF4NR7VzqggF"
   },
   "source": [
    "# Balanced Brackets: AlgoExpert\n",
    "Write a function that takes in a string of brackets and other optional characters. The function should return whether or not the string is balanced in regards to the brackets. Note that a closing bracket cannot match a corresponding opening bracket that comes after it. Similarly, brackets cannot overlap each other as in \"[(])]\""
   ]
  },
  {
   "cell_type": "markdown",
   "metadata": {
    "colab_type": "text",
    "id": "vxIYx31arvKX"
   },
   "source": [
    "- Hints: Use a stack!!! (logic is we need to keep track of previous visited)\n",
    "- Special cases: when one bracket is left after rest have been matched, check if empty"
   ]
  },
  {
   "cell_type": "code",
   "execution_count": 0,
   "metadata": {
    "colab": {},
    "colab_type": "code",
    "id": "QE06WMhmq4vp"
   },
   "outputs": [],
   "source": [
    "# O(n) time | O(n) space\n",
    "def balancedBrackets(string):\n",
    "  openingBrackets = \"({[\"\n",
    "  closingBrackets = \"]})\"\n",
    "  matchingBrackets = {\n",
    "      \")\" : \"(\",\n",
    "      \"}\" : \"{\",\n",
    "      \"]\" : \"[\"\n",
    "  }\n",
    "  stack = []\n",
    "  \n",
    "  for char in string:\n",
    "    if char in openingBrackets:\n",
    "      stack.append(char)\n",
    "    elif char in closingBrackets:\n",
    "      if len(stack) == 0:\n",
    "        return False\n",
    "      if stack[-1] == matchingBrackets[char]:\n",
    "        stack.pop()\n",
    "      else:\n",
    "        return False\n",
    "  return len(stack) == 0"
   ]
  },
  {
   "cell_type": "code",
   "execution_count": 5,
   "metadata": {
    "colab": {
     "base_uri": "https://localhost:8080/",
     "height": 34
    },
    "colab_type": "code",
    "id": "W4Hi4Y9xszhn",
    "outputId": "62a482e3-c9cf-4511-edbb-987ac0751962"
   },
   "outputs": [
    {
     "name": "stdout",
     "output_type": "stream",
     "text": [
      "True\n"
     ]
    }
   ],
   "source": [
    "test = \"()()()()()[()]{([()])}\"\n",
    "result = balancedBrackets(test)\n",
    "print(result)"
   ]
  },
  {
   "cell_type": "code",
   "execution_count": 3,
   "metadata": {
    "colab": {
     "base_uri": "https://localhost:8080/",
     "height": 34
    },
    "colab_type": "code",
    "id": "88eucPfIrkui",
    "outputId": "c35246d4-1d8b-4d6d-df00-f01928c73bb2"
   },
   "outputs": [
    {
     "name": "stdout",
     "output_type": "stream",
     "text": [
      "False\n"
     ]
    }
   ],
   "source": [
    "test = \"()[]{}{\"\n",
    "result = balancedBrackets(test)\n",
    "print(result)"
   ]
  }
 ],
 "metadata": {
  "colab": {
   "include_colab_link": true,
   "name": "Balanced Brackets.ipynb",
   "provenance": [],
   "version": "0.3.2"
  },
  "kernelspec": {
   "display_name": "Python 3",
   "language": "python",
   "name": "python3"
  },
  "language_info": {
   "codemirror_mode": {
    "name": "ipython",
    "version": 3
   },
   "file_extension": ".py",
   "mimetype": "text/x-python",
   "name": "python",
   "nbconvert_exporter": "python",
   "pygments_lexer": "ipython3",
   "version": "3.7.4"
  }
 },
 "nbformat": 4,
 "nbformat_minor": 1
}
