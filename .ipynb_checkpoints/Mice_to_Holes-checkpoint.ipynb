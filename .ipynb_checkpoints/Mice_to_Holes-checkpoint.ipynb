{
 "cells": [
  {
   "cell_type": "markdown",
   "metadata": {
    "colab_type": "text",
    "id": "view-in-github"
   },
   "source": [
    "<a href=\"https://colab.research.google.com/github/NguyenDa18/LevelGrind/blob/master/Mice_to_Holes.ipynb\" target=\"_parent\"><img src=\"https://colab.research.google.com/assets/colab-badge.svg\" alt=\"Open In Colab\"/></a>"
   ]
  },
  {
   "cell_type": "markdown",
   "metadata": {
    "colab_type": "text",
    "id": "d69uaOFBoYfT"
   },
   "source": [
    "# Mice to Holes : Daily Coding Problem #324\n",
    "\n",
    "This problem was asked by Amazon.\n",
    "\n",
    "Consider the following scenario: there are N mice and N holes placed at integer points along a line. Given this, find a method that maps mice to holes such that the largest number of steps any mouse takes is minimized.\n",
    "\n",
    "Each move consists of moving one mouse one unit to the left or right, and only one mouse can fit inside each hole.\n",
    "\n",
    "For example, suppose the mice are positioned at [1, 4, 9, 15], and the holes are located at [10, -5, 0, 16]. In this case, the best pairing would require us to send the mouse at 1 to the hole at -5, so our function should return 6."
   ]
  },
  {
   "cell_type": "markdown",
   "metadata": {
    "colab_type": "text",
    "id": "blSJ8XKMtq3I"
   },
   "source": [
    "## Hint\n",
    "This problem can be solved using greedy strategy. We can put every mouse to its nearest hole to minimize the time. This can be done by sorting the positions of mice and holes. This allows us to put the ith mice to the corresponding hole in the holes list. We can then find the maximum difference between the mice and corresponding hole position.\n",
    "In example 2, on sorting both the lists, we find that the mouse at position -79 is the last to travel to hole 23 taking time 102.\n",
    "\n",
    "- sort mice positions (in any order)\n",
    "- sort hole positions \n",
    "```\n",
    "Loop i = 1 to N:\n",
    "    update ans according to the value \n",
    "    of |mice(i) - hole(i)|. It should\n",
    "    be maximum of all differences.\n",
    "```"
   ]
  },
  {
   "cell_type": "code",
   "execution_count": 0,
   "metadata": {
    "colab": {},
    "colab_type": "code",
    "id": "ObN8rcaAoTXh"
   },
   "outputs": [],
   "source": [
    "def miceToHoles(mice, holes):\n",
    "  if (len(mice) == 0 or len(holes) == 0):\n",
    "    return 0\n",
    "  mice.sort()\n",
    "  holes.sort()\n",
    "  \n",
    "  distMax = 0\n",
    "  for i in range(len(mice)):\n",
    "    if distMax < abs(mice[i] - holes[i]):\n",
    "      distMax = abs(mice[i] - holes[i])\n",
    "      \n",
    "  return abs(distMax)\n",
    "    \n",
    "  \n",
    "  "
   ]
  },
  {
   "cell_type": "code",
   "execution_count": 28,
   "metadata": {
    "colab": {
     "base_uri": "https://localhost:8080/",
     "height": 34
    },
    "colab_type": "code",
    "id": "kEBPf_pn1RFz",
    "outputId": "071ed9d4-7d0d-46ec-d8af-888dddc2f8f0"
   },
   "outputs": [
    {
     "name": "stdout",
     "output_type": "stream",
     "text": [
      "The last mouse gets into the hole in time: 6\n"
     ]
    }
   ],
   "source": [
    "mice = [1, 4, 9, 15]\n",
    "holes = [10, -5, 0, 16]\n",
    "result = miceToHoles(mice, holes)\n",
    "print(\"The last mouse gets into the hole in time: \" + str(result))"
   ]
  },
  {
   "cell_type": "code",
   "execution_count": 27,
   "metadata": {
    "colab": {
     "base_uri": "https://localhost:8080/",
     "height": 34
    },
    "colab_type": "code",
    "id": "k0N_P4TWwWtE",
    "outputId": "ceff5cac-42ef-495f-ec44-31239ade66c4"
   },
   "outputs": [
    {
     "name": "stdout",
     "output_type": "stream",
     "text": [
      "The last mouse gets into the hole in time: 4\n"
     ]
    }
   ],
   "source": [
    "mice = [4,-4,2]\n",
    "holes = [4,0,5]\n",
    "result = miceToHoles(mice, holes)\n",
    "print(\"The last mouse gets into the hole in time: \" + str(result))"
   ]
  }
 ],
 "metadata": {
  "colab": {
   "include_colab_link": true,
   "name": "Mice to Holes.ipynb",
   "provenance": [],
   "version": "0.3.2"
  },
  "kernelspec": {
   "display_name": "Python 3",
   "language": "python",
   "name": "python3"
  },
  "language_info": {
   "codemirror_mode": {
    "name": "ipython",
    "version": 3
   },
   "file_extension": ".py",
   "mimetype": "text/x-python",
   "name": "python",
   "nbconvert_exporter": "python",
   "pygments_lexer": "ipython3",
   "version": "3.8.5"
  }
 },
 "nbformat": 4,
 "nbformat_minor": 1
}
