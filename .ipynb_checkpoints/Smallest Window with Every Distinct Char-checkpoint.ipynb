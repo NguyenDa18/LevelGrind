{
 "cells": [
  {
   "cell_type": "markdown",
   "metadata": {},
   "source": [
    "# Smallest Window with Every Distinct Char : Daily Coding Problem #320\n",
    "Good morning! Here's your coding interview problem for today.\n",
    "\n",
    "This problem was asked by Amazon.\n",
    "\n",
    "Given a string, find the length of the smallest window that contains every distinct character. Characters may appear more than once in the window.\n",
    "\n",
    "For example, given \"jiujitsu\", you should return 5, corresponding to the final five letters."
   ]
  },
  {
   "cell_type": "code",
   "execution_count": 4,
   "metadata": {},
   "outputs": [],
   "source": [
    "def window_with_every_distinct_char(string : str):\n",
    "    chars_in_string = {}\n",
    "    for char in string:\n",
    "        if char in chars_in_string:\n",
    "            chars_in_string[char] += 1\n",
    "        else:\n",
    "            chars_in_string[char] = 1\n",
    "    print(chars_in_string)"
   ]
  },
  {
   "cell_type": "code",
   "execution_count": 5,
   "metadata": {},
   "outputs": [
    {
     "name": "stdout",
     "output_type": "stream",
     "text": [
      "{'j': 2, 'i': 2, 'u': 2, 't': 1, 's': 1}\n"
     ]
    }
   ],
   "source": [
    "window_with_every_distinct_char(\"jiujitsu\")"
   ]
  },
  {
   "cell_type": "code",
   "execution_count": null,
   "metadata": {},
   "outputs": [],
   "source": []
  }
 ],
 "metadata": {
  "kernelspec": {
   "display_name": "Python 3",
   "language": "python",
   "name": "python3"
  },
  "language_info": {
   "codemirror_mode": {
    "name": "ipython",
    "version": 3
   },
   "file_extension": ".py",
   "mimetype": "text/x-python",
   "name": "python",
   "nbconvert_exporter": "python",
   "pygments_lexer": "ipython3",
   "version": "3.7.4"
  }
 },
 "nbformat": 4,
 "nbformat_minor": 2
}
