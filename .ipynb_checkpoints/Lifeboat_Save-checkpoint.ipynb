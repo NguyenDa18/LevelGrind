{
 "cells": [
  {
   "cell_type": "markdown",
   "metadata": {
    "colab_type": "text",
    "id": "view-in-github"
   },
   "source": [
    "<a href=\"https://colab.research.google.com/github/NguyenDa18/LevelGrind/blob/master/Lifeboat_Save.ipynb\" target=\"_parent\"><img src=\"https://colab.research.google.com/assets/colab-badge.svg\" alt=\"Open In Colab\"/></a>"
   ]
  },
  {
   "cell_type": "markdown",
   "metadata": {
    "colab_type": "text",
    "id": "wlTnMhE8xflT"
   },
   "source": [
    "# Lifeboat : Daily Coding Problem #291\n",
    "\n",
    "Good morning! Here's your coding interview problem for today.\n",
    "\n",
    "This problem was asked by Glassdoor.\n",
    "\n",
    "An imminent hurricane threatens the coastal town of Codeville. If at most two people can fit in a rescue boat, and the maximum weight limit for a given boat is k, determine how many boats will be needed to save everyone.\n",
    "\n",
    "For example, given a population with weights [100, 200, 150, 80] and a boat limit of 200, the smallest number of boats required will be three."
   ]
  },
  {
   "cell_type": "code",
   "execution_count": 0,
   "metadata": {
    "colab": {},
    "colab_type": "code",
    "id": "1hy0oCl1xn8U"
   },
   "outputs": [],
   "source": [
    "BOAT_LIMIT = 200\n",
    "def lifeboat_save(weights, boats_used):\n",
    "  weights.sort()\n",
    "  if weights and len(weights) < 2:\n",
    "    return boats_used + len(weights)\n",
    "  \n",
    "  first = weights[0]\n",
    "  remaining = weights[1:]\n",
    "  if first == BOAT_LIMIT:\n",
    "    return lifeboat_save(remaining, boats_used + 1)\n",
    "  \n",
    "  allowed = BOAT_LIMIT - first\n",
    "  second_index = len(remaining) - 1\n",
    "  while allowed >= weights[second_index]:\n",
    "    second_index -= 1\n",
    "    \n",
    "  if second_index == len(remaining):\n",
    "    return lifeboat_save(remaining[:second_index] + remaining[second_index + 1:], boats_used + 1)\n",
    "  \n",
    "  \n",
    "  return lifeboat_save(remaining[:second_index] + remaining[second_index + 1:], boats_used + 1)\n",
    "\n",
    "  "
   ]
  },
  {
   "cell_type": "code",
   "execution_count": 3,
   "metadata": {
    "colab": {
     "base_uri": "https://localhost:8080/",
     "height": 51
    },
    "colab_type": "code",
    "id": "Hq6MhrVTyZJZ",
    "outputId": "841318a2-2ea2-4b5e-b84a-0dff7a8a27ae"
   },
   "outputs": [
    {
     "name": "stdout",
     "output_type": "stream",
     "text": [
      "Boat trips needed:\n"
     ]
    },
    {
     "data": {
      "text/plain": [
       "3"
      ]
     },
     "execution_count": 3,
     "metadata": {
      "tags": []
     },
     "output_type": "execute_result"
    }
   ],
   "source": [
    "weights = [100, 200, 150, 80]\n",
    "print(\"Boat trips needed:\")\n",
    "lifeboat_save(weights, 0)"
   ]
  }
 ],
 "metadata": {
  "colab": {
   "include_colab_link": true,
   "name": "Lifeboat Save.ipynb",
   "provenance": [],
   "version": "0.3.2"
  },
  "kernelspec": {
   "display_name": "Python 3",
   "language": "python",
   "name": "python3"
  },
  "language_info": {
   "codemirror_mode": {
    "name": "ipython",
    "version": 3
   },
   "file_extension": ".py",
   "mimetype": "text/x-python",
   "name": "python",
   "nbconvert_exporter": "python",
   "pygments_lexer": "ipython3",
   "version": "3.8.5"
  }
 },
 "nbformat": 4,
 "nbformat_minor": 1
}
