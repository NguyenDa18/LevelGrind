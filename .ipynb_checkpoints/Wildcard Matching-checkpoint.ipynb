{
 "cells": [
  {
   "cell_type": "code",
   "execution_count": 36,
   "metadata": {
    "collapsed": false
   },
   "outputs": [],
   "source": [
    "wildcard = '*'\n",
    "\n",
    "def get_wildcard_idxs(s):\n",
    "    wildcard_idxs = [pos for pos, char in enumerate(s) if char == wildcard]\n",
    "    return wildcard_idxs\n",
    "\n",
    "def match_in_arr(sample, arr):\n",
    "    if sample in arr:\n",
    "        return True\n",
    "    if wildcard in sample:\n",
    "        wildcard_idx = sample.find(wildcard)\n",
    "        for word in arr:\n",
    "            if len(sample) == len(word) and sample.replace(wildcard, '') in word:\n",
    "                return True\n",
    "    \n",
    "    return False"
   ]
  },
  {
   "cell_type": "code",
   "execution_count": 43,
   "metadata": {
    "collapsed": false
   },
   "outputs": [
    {
     "name": "stdout",
     "output_type": "stream",
     "text": [
      "Hello World\n"
     ]
    }
   ],
   "source": [
    "def change_char(s, idx, r):\n",
    "    return s[:idx]+r+s[idx + 1:]\n",
    "\n",
    "result = change_char('Hello world', 6, \"W\")\n",
    "print(result)"
   ]
  },
  {
   "cell_type": "code",
   "execution_count": 52,
   "metadata": {
    "collapsed": false
   },
   "outputs": [
    {
     "name": "stdout",
     "output_type": "stream",
     "text": [
      "['h', 'y']\n"
     ]
    }
   ],
   "source": [
    "str = 'h*y'\n",
    "\n",
    "idx = str.find('*')\n",
    "newStr = [str[:idx], str[idx + 1:]]\n",
    "print(newStr)"
   ]
  },
  {
   "cell_type": "code",
   "execution_count": 32,
   "metadata": {
    "collapsed": false
   },
   "outputs": [
    {
     "name": "stdout",
     "output_type": "stream",
     "text": [
      "False\n"
     ]
    }
   ],
   "source": [
    "sample = 'm*x'\n",
    "arr = ['max', 'fox', 'trot', 'biscuit']\n",
    "\n",
    "result = match_in_arr(sample, arr)\n",
    "print(result)"
   ]
  },
  {
   "cell_type": "markdown",
   "metadata": {},
   "source": [
    "# Wildcard Matching\n",
    "- Check if two given strings match\n",
    "- Given first may contain wildcards\n",
    "- Given second is normal string"
   ]
  },
  {
   "cell_type": "code",
   "execution_count": 1,
   "metadata": {
    "collapsed": true
   },
   "outputs": [],
   "source": [
    "def match(first, second):\n",
    "    # if we reach at end of both strings we are done\n",
    "    if len(first) == 0 and len(second) == 0:\n",
    "        return True\n",
    "    \n",
    "    # make sure chars after * are present in second string\n",
    "    # assumes that first string will not contain two consecutive '*'\n",
    "    if len(first) > 1 and first[0] == '*' and len(second) == 0:\n",
    "        return False\n",
    "    \n",
    "    # if there is *, then two possibilities:\n",
    "    # a) consider current character of second str\n",
    "    # b) ignore current char of second str\n",
    "    if len(first) != 0 and first[0] == '*':\n",
    "        return match(first[1:], second) or match(first, second[1:])\n",
    "    \n",
    "    return False\n",
    "\n"
   ]
  },
  {
   "cell_type": "code",
   "execution_count": 8,
   "metadata": {
    "collapsed": false
   },
   "outputs": [
    {
     "name": "stdout",
     "output_type": "stream",
     "text": [
      "True\n"
     ]
    }
   ],
   "source": [
    "print(match(\"geeks\", \"\"))"
   ]
  },
  {
   "cell_type": "code",
   "execution_count": null,
   "metadata": {
    "collapsed": true
   },
   "outputs": [],
   "source": []
  }
 ],
 "metadata": {
  "anaconda-cloud": {},
  "kernelspec": {
   "display_name": "Python 3",
   "language": "python",
   "name": "python3"
  },
  "language_info": {
   "codemirror_mode": {
    "name": "ipython",
    "version": 3
   },
   "file_extension": ".py",
   "mimetype": "text/x-python",
   "name": "python",
   "nbconvert_exporter": "python",
   "pygments_lexer": "ipython3",
   "version": "3.5.2"
  }
 },
 "nbformat": 4,
 "nbformat_minor": 1
}
