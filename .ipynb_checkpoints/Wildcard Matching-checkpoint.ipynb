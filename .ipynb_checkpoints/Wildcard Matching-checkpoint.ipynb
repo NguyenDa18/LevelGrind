{
 "cells": [
  {
   "cell_type": "markdown",
   "metadata": {
    "colab_type": "text",
    "id": "view-in-github"
   },
   "source": [
    "<a href=\"https://colab.research.google.com/github/NguyenDa18/LevelGrind/blob/master/Wildcard%20Matching.ipynb\" target=\"_parent\"><img src=\"https://colab.research.google.com/assets/colab-badge.svg\" alt=\"Open In Colab\"/></a>"
   ]
  },
  {
   "cell_type": "markdown",
   "metadata": {
    "colab_type": "text",
    "id": "TK6Ou0KcWC3r"
   },
   "source": [
    "# Wildcard Matching in List\n",
    "- Check if string with/without wildcard is in list"
   ]
  },
  {
   "cell_type": "markdown",
   "metadata": {
    "colab_type": "text",
    "id": "gco8ErZR-PHa"
   },
   "source": [
    "# New Iter: Not generating new string for check -more efficient!"
   ]
  },
  {
   "cell_type": "code",
   "execution_count": 105,
   "metadata": {
    "colab": {
     "base_uri": "https://localhost:8080/",
     "height": 34
    },
    "colab_type": "code",
    "id": "b_Hd8GIIeRVa",
    "outputId": "ef0d9555-307a-4c59-cd0a-22fecdcfae5e"
   },
   "outputs": [
    {
     "name": "stdout",
     "output_type": "stream",
     "text": [
      "Word found!\n"
     ]
    }
   ],
   "source": [
    "wildcard = '*'\n",
    "\n",
    "def match_in_arr_redo(sample, arr):\n",
    "  match = False\n",
    "  if sample in arr:\n",
    "    return True\n",
    "  \n",
    "  arr = [el for el in arr if len(el) == len(sample)]\n",
    "  wildCardCount = sample.count(wildcard)\n",
    "  for word in arr:\n",
    "    count = 0\n",
    "    # if all wildcard chars in sample\n",
    "    if wildCardCount == len(sample):\n",
    "      return len(word) == wildCardCount\n",
    "    \n",
    "    # if str with wildcards in it\n",
    "    for i, j in zip(word, sample):\n",
    "      if j == wildcard:\n",
    "        count += 1\n",
    "        continue\n",
    "      count += 1\n",
    "      match = i == j\n",
    "      \n",
    "    if match and len(word) == count:\n",
    "      return True\n",
    "    \n",
    "arr = ['max', 'marco', 'toy', 'bro']\n",
    "sample = '*****'  \n",
    "result = match_in_arr_redo(sample, arr)\n",
    "if result:\n",
    "  print(\"Word found!\")\n",
    "else:\n",
    "  print(\"Not found! :(\")\n"
   ]
  },
  {
   "cell_type": "code",
   "execution_count": 0,
   "metadata": {
    "colab": {},
    "colab_type": "code",
    "id": "4TnIgLC1_rFJ"
   },
   "outputs": [],
   "source": [
    "wildcard = '*'\n",
    "\n",
    "def match_in_arr_redo(sample, arr):\n",
    "  match = False\n",
    "  arr = [el for el in arr if len(el) == len(sample)]\n",
    "  for word in arr:\n",
    "    count = 0\n",
    "    for sampleChar, wordChar in zip(word, sample):\n",
    "      if sampleChar == wildcard:\n",
    "        count += 1\n",
    "        continue\n",
    "      count += 1\n",
    "      match = sampleChar == wordChar and count == len(word)\n",
    "    if match:\n",
    "      break\n",
    "  return match\n",
    " \n",
    "arr = ['max', 'marco', 'toy', 'bro']\n",
    "sample = 'm*x'  \n",
    "match_in_arr_redo(sample, arr)\n",
    "# if result:\n",
    "#   print(\"{} Found\".format(sample))\n",
    "# else:\n",
    "#   print(\"Not found\")"
   ]
  },
  {
   "cell_type": "markdown",
   "metadata": {
    "colab_type": "text",
    "id": "2zvluPmh8dRK"
   },
   "source": [
    "# My first iter (extremely inefficient b/c of recursion and string manips)"
   ]
  },
  {
   "cell_type": "code",
   "execution_count": 1,
   "metadata": {
    "colab": {},
    "colab_type": "code",
    "id": "Uo7tEg_T6opL"
   },
   "outputs": [],
   "source": [
    "wildcard = '*'\n",
    "\n",
    "def get_wildcard_idxs(s):\n",
    "    wildcard_idxs = [pos for pos, char in enumerate(s) if char == wildcard]\n",
    "    return wildcard_idxs\n",
    "  \n",
    "def change_char(s, idx, r):\n",
    "    return s[:idx]+r+s[idx + 1:]\n",
    "\n",
    "def match_in_arr(sample, arr):\n",
    "    if sample in arr:\n",
    "        return True\n",
    "    if wildcard in sample:\n",
    "        arr = [el for el in arr if len(el) is len(sample)]\n",
    "        wildcard_idxs = get_wildcard_idxs(sample)\n",
    "        for word in arr:\n",
    "            for idx in wildcard_idxs:\n",
    "                sample = change_char(sample, idx, word[idx])\n",
    "                if (match_in_arr(sample, arr)):\n",
    "                    return True\n",
    "   \n",
    "    return False"
   ]
  },
  {
   "cell_type": "markdown",
   "metadata": {
    "colab_type": "text",
    "id": "byWaDoUuV7IL"
   },
   "source": [
    "# Test of Function"
   ]
  },
  {
   "cell_type": "code",
   "execution_count": 8,
   "metadata": {
    "colab": {
     "base_uri": "https://localhost:8080/",
     "height": 34
    },
    "colab_type": "code",
    "id": "8PKPaFJ86opn",
    "outputId": "f9830585-25da-4173-db14-7c96f55c2946"
   },
   "outputs": [
    {
     "name": "stdout",
     "output_type": "stream",
     "text": [
      "True\n"
     ]
    }
   ],
   "source": [
    "sample = 'm*x'\n",
    "\n",
    "arr = ['max', 'fox', 'mrc', 'biscuit']\n",
    "\n",
    "result = match_in_arr(sample, arr)\n",
    "print(result)"
   ]
  },
  {
   "cell_type": "markdown",
   "metadata": {
    "colab_type": "text",
    "id": "9DTyUFvQ6ops"
   },
   "source": [
    "# Wildcard Matching\n",
    "- Check if two given strings match\n",
    "- Given first may contain wildcards\n",
    "- Given second is normal string"
   ]
  },
  {
   "cell_type": "code",
   "execution_count": 0,
   "metadata": {
    "colab": {},
    "colab_type": "code",
    "id": "9y-afiKl6opu"
   },
   "outputs": [],
   "source": [
    "def match(first, second):\n",
    "    # if we reach at end of both strings we are done\n",
    "    if len(first) == 0 and len(second) == 0:\n",
    "        return True\n",
    "    \n",
    "    # make sure chars after * are present in second string\n",
    "    # assumes that first string will not contain two consecutive '*'\n",
    "    if len(first) > 1 and first[0] == '*' and len(second) == 0:\n",
    "        return False\n",
    "    \n",
    "    # if there is *, then two possibilities:\n",
    "    # a) consider current character of second str\n",
    "    # b) ignore current char of second str\n",
    "    if len(first) != 0 and first[0] == '*':\n",
    "        return match(first[1:], second) or match(first, second[1:])\n",
    "    \n",
    "    return False\n",
    "\n"
   ]
  },
  {
   "cell_type": "code",
   "execution_count": 0,
   "metadata": {
    "colab": {},
    "colab_type": "code",
    "id": "7lwxD2Ye6oqE"
   },
   "outputs": [],
   "source": [
    "words = ['bow', 'pal', 'sow']\n",
    "sample = 's*w'\n",
    "\n",
    "for word in words:\n",
    "  count = 0\n",
    "  match = False\n",
    "  for i, c in enumerate(sample):\n",
    "    if c == '*':\n",
    "      count += 1\n",
    "      continue\n",
    "    count += 1\n",
    "    match = c == sample[i]\n",
    "  if (match):\n",
    "    break"
   ]
  },
  {
   "cell_type": "code",
   "execution_count": 0,
   "metadata": {
    "colab": {},
    "colab_type": "code",
    "id": "NlX_iJ1uLjMV"
   },
   "outputs": [],
   "source": []
  }
 ],
 "metadata": {
  "colab": {
   "include_colab_link": true,
   "name": "Wildcard Matching.ipynb",
   "provenance": [],
   "version": "0.3.2"
  },
  "kernelspec": {
   "display_name": "Python 3",
   "language": "python",
   "name": "python3"
  },
  "language_info": {
   "codemirror_mode": {
    "name": "ipython",
    "version": 3
   },
   "file_extension": ".py",
   "mimetype": "text/x-python",
   "name": "python",
   "nbconvert_exporter": "python",
   "pygments_lexer": "ipython3",
   "version": "3.8.5"
  }
 },
 "nbformat": 4,
 "nbformat_minor": 1
}
