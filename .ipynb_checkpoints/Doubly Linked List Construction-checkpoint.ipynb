{
 "cells": [
  {
   "cell_type": "markdown",
   "metadata": {},
   "source": [
    "# Doubly Linked List\n",
    "- Class should have head and tail properties, which should point either to Null (None) or to a LinkedList node\n",
    "- Every node will have 'value' property, and 'next' and 'prev' properties, both of which can point to either None or another node\n",
    "- Class should support setting head and tail of the linked list\n",
    "- Class should support inserting nodes before or after other nodes and at certain positions\n",
    "- Class should support removing given nodes and removing nodes with specific values\n",
    "- Class hsould support searching for nodes with values -return a boolean (only method that returns a value)"
   ]
  },
  {
   "cell_type": "markdown",
   "metadata": {},
   "source": [
    "## *Big O Cheatsheet*\n",
    "- setHead: O(1) time | O(1) space\n",
    "- setTail: O(1) time | O(1) space\n",
    "- insertBefore: O(1) time | O(1) space\n",
    "- insertAfter: O(1) time | O(1) space\n",
    "- insertAtPosition: O(p) time, p is position | O(1) space\n",
    "- removeNodesWithValue: O(n) time | O(1) space\n",
    "- remove: O(1) time | O(1) space\n",
    "- containsNodeWithValue: O(n) time | O(1) space\n",
    "- removeNodeBindings: O(n) time | O(1) space"
   ]
  },
  {
   "cell_type": "markdown",
   "metadata": {},
   "source": [
    "## Linked List Construction\n",
    "- doubly linked: pointers to PREV and NEXT\n",
    "- Head: node at beginning\n",
    "- Tail: node at end\n",
    "\n",
    "### Primary methods\n",
    "- get & set head / tail\n",
    "- search for node\n",
    "- remove node\n",
    "- remove all nodes on condition\n",
    "- insertion: 3 types\n",
    "    - insert based on condition (before or after other node)\n",
    "    - insert at position\n",
    "- that's all :)"
   ]
  },
  {
   "cell_type": "markdown",
   "metadata": {},
   "source": [
    "## Pseudocode\n",
    "#### Removal:\n",
    "1. Check if either PREV or NEXT pointers null\n",
    "2. myNode.prev.next = myNode.next\n",
    "3. myNode.next.prev = myNode.prev\n",
    "\n",
    "- if HEAD\n",
    "1. set new HEAD first: head = head.next\n",
    "\n",
    "- if TAIL\n",
    "1. set new TAIL first: tail = tail.prev\n",
    "\n",
    "#### Insertion:\n",
    "- insert before\n",
    "1. Check if HEAD -> points to null"
   ]
  },
  {
   "cell_type": "code",
   "execution_count": null,
   "metadata": {
    "collapsed": true
   },
   "outputs": [],
   "source": [
    "class DoublyLinkedList:\n",
    "    def __init__(self):\n",
    "        self.head = None\n",
    "        self.tail = None\n",
    "        \n",
    "    # O(1) time | O(1) space\n",
    "    def setHead(self, node):\n",
    "        if self.head is None:\n",
    "            self.head = node\n",
    "            self.tail = node\n",
    "            return \n",
    "        self.insertBefore(self.head, node)\n",
    "        \n",
    "    # O(1) time | O(1) space        \n",
    "    def setTail(self, node):\n",
    "        if self.tail is None:\n",
    "            self.setHead(node)\n",
    "            return\n",
    "        self.insertAfter(self.tail, node)\n",
    "        \n",
    "    # O(1) time | O(1) space\n",
    "    def insertBefore(self, node, nodeToInsert):\n",
    "        node.prev = nodeToInsert\n",
    "        \n",
    "    def insertAfter(self, node, nodeToInsert):\n",
    "        node.next = nodeToInsert\n",
    "        \n",
    "    def insertAtPosition(self, position, nodeToInsert):\n",
    "        node = self.head\n",
    "        \n",
    "    # O(n) time | O(1) space\n",
    "    def removeNodesWithValue(self, value):\n",
    "        node = self.head"
   ]
  }
 ],
 "metadata": {
  "anaconda-cloud": {},
  "kernelspec": {
   "display_name": "Python 3",
   "language": "python",
   "name": "python3"
  },
  "language_info": {
   "codemirror_mode": {
    "name": "ipython",
    "version": 3
   },
   "file_extension": ".py",
   "mimetype": "text/x-python",
   "name": "python",
   "nbconvert_exporter": "python",
   "pygments_lexer": "ipython3",
   "version": "3.5.2"
  }
 },
 "nbformat": 4,
 "nbformat_minor": 1
}
