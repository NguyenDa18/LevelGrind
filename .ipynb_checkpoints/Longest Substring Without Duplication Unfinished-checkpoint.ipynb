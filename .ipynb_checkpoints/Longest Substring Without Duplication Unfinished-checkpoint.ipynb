{
 "cells": [
  {
   "cell_type": "code",
   "execution_count": null,
   "metadata": {
    "collapsed": true
   },
   "outputs": [],
   "source": [
    "# O(n) time | O(min(n, a)) space\n",
    "def longestSubstringWithoutDuplication(string):\n",
    "    lastSeen = {}\n",
    "    longest = [0,1]\n",
    "    startIdx = 0\n",
    "    for i, char in enumerate(string):\n",
    "        if char in lastSeen:\n",
    "            startIdx = max(startIdx, lastSeen[char] + 1)\n",
    "        if longest[1] - longest[0] < i + 1 - startIdx"
   ]
  }
 ],
 "metadata": {
  "kernelspec": {
   "display_name": "Python 3",
   "language": "python",
   "name": "python3"
  },
  "language_info": {
   "codemirror_mode": {
    "name": "ipython",
    "version": 3
   },
   "file_extension": ".py",
   "mimetype": "text/x-python",
   "name": "python",
   "nbconvert_exporter": "python",
   "pygments_lexer": "ipython3",
   "version": "3.5.2"
  }
 },
 "nbformat": 4,
 "nbformat_minor": 1
}
