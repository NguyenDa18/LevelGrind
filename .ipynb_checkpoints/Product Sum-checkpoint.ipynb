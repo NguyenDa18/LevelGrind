{
 "cells": [
  {
   "cell_type": "markdown",
   "metadata": {},
   "source": [
    "# Product Sum\n",
    "- Write a function that takes in a \"special\" array and returns its product sum. A \"special\" array is a non-empty array that contains either integers or other \"special arrays\". The product sum of a \"special\" array is the sum of its elements, where \"special\" arrays inside it should be summed themselves and then multiplied by their level of depth\n",
    "\n",
    "e.x.\n",
    "- product sum [x, y] : x + y\n",
    "- product sum [x, [y,z]] : 2y + 2z\n",
    "\n",
    "e.x.\n",
    "- [5, 2, [7, -1], 3, [6, [-13, 8], 4]] => 12 (5 + 2 + 2*( 7 - 1) + 3 + 2*(6 + 3 *(-13 + 8) + 4)"
   ]
  },
  {
   "cell_type": "code",
   "execution_count": 4,
   "metadata": {},
   "outputs": [],
   "source": [
    "# O(n) time | O(d) space -> where n is total number of elements in array, including subelements and d is greatest deoth of :special arrays in array\n",
    "\n",
    "def productSum(array, multiplier = 1):\n",
    "    sum = 0\n",
    "    for element in array:\n",
    "        if type(element) is list:\n",
    "            sum += productSum(element, multiplier + 1)\n",
    "        else:\n",
    "            sum += element\n",
    "    return sum * multiplier"
   ]
  },
  {
   "cell_type": "code",
   "execution_count": 6,
   "metadata": {},
   "outputs": [
    {
     "name": "stdout",
     "output_type": "stream",
     "text": [
      "12\n"
     ]
    }
   ],
   "source": [
    "array =  [5, 2, [7, -1], 3, [6, [-13, 8], 4]]\n",
    "result = productSum(array)\n",
    "print(result)"
   ]
  }
 ],
 "metadata": {
  "kernelspec": {
   "display_name": "Python 3",
   "language": "python",
   "name": "python3"
  },
  "language_info": {
   "codemirror_mode": {
    "name": "ipython",
    "version": 3
   },
   "file_extension": ".py",
   "mimetype": "text/x-python",
   "name": "python",
   "nbconvert_exporter": "python",
   "pygments_lexer": "ipython3",
   "version": "3.7.4"
  }
 },
 "nbformat": 4,
 "nbformat_minor": 2
}
