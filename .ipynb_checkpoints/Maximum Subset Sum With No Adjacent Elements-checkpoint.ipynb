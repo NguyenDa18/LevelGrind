{
 "cells": [
  {
   "cell_type": "markdown",
   "metadata": {},
   "source": [
    "# Maximum Subset Sum with No Adjacent Elements\n",
    "\n",
    "## Write a function that takes an array of positive integers and returns an integer representing the max sum of non-adjacent elements in the array. If a sum cannot be generated, return 0.\n",
    "\n",
    "- Sample input: [75, 105, 120, 75, 90, 135]\n",
    "- Output: 330"
   ]
  },
  {
   "cell_type": "markdown",
   "metadata": {},
   "source": [
    "## Thinking Process\n"
   ]
  },
  {
   "cell_type": "code",
   "execution_count": 5,
   "metadata": {
    "collapsed": true
   },
   "outputs": [],
   "source": [
    "# O(n) time\n",
    "# O(n) space\n",
    "\n",
    "def maxSubsetSumNoAdjacent(array):\n",
    "    if not len(array):\n",
    "        return 0\n",
    "    elif len(array) == 1:\n",
    "        return array[0]\n",
    "    # split array\n",
    "    maxSums = array[:]\n",
    "    \n",
    "    maxSums[1] = max(array[0], array[1])\n",
    "    for i in range(2, len(array)):\n",
    "        maxSums[i] = max(maxSums[i - 1], maxSums[i - 2] + array[i])\n",
    "    return maxSums[-1]"
   ]
  },
  {
   "cell_type": "code",
   "execution_count": 7,
   "metadata": {
    "collapsed": false
   },
   "outputs": [
    {
     "name": "stdout",
     "output_type": "stream",
     "text": [
      "330\n"
     ]
    }
   ],
   "source": [
    "maxSum = maxSubsetSumNoAdjacent([75, 105, 120, 75, 90, 135])\n",
    "print(maxSum)"
   ]
  },
  {
   "cell_type": "code",
   "execution_count": null,
   "metadata": {
    "collapsed": true
   },
   "outputs": [],
   "source": []
  }
 ],
 "metadata": {
  "anaconda-cloud": {},
  "kernelspec": {
   "display_name": "Python 3",
   "language": "python",
   "name": "python3"
  },
  "language_info": {
   "codemirror_mode": {
    "name": "ipython",
    "version": 3
   },
   "file_extension": ".py",
   "mimetype": "text/x-python",
   "name": "python",
   "nbconvert_exporter": "python",
   "pygments_lexer": "ipython3",
   "version": "3.5.2"
  }
 },
 "nbformat": 4,
 "nbformat_minor": 1
}
