{
  "nbformat": 4,
  "nbformat_minor": 0,
  "metadata": {
    "colab": {
      "name": "Wildcard Matching.ipynb",
      "version": "0.3.2",
      "provenance": [],
      "include_colab_link": true
    },
    "language_info": {
      "codemirror_mode": {
        "name": "ipython",
        "version": 3
      },
      "file_extension": ".py",
      "mimetype": "text/x-python",
      "name": "python",
      "nbconvert_exporter": "python",
      "pygments_lexer": "ipython3",
      "version": "3.5.2"
    },
    "kernelspec": {
      "display_name": "Python 3",
      "language": "python",
      "name": "python3"
    }
  },
  "cells": [
    {
      "cell_type": "markdown",
      "metadata": {
        "id": "view-in-github",
        "colab_type": "text"
      },
      "source": [
        "<a href=\"https://colab.research.google.com/github/NguyenDa18/LevelGrind/blob/master/Wildcard%20Matching.ipynb\" target=\"_parent\"><img src=\"https://colab.research.google.com/assets/colab-badge.svg\" alt=\"Open In Colab\"/></a>"
      ]
    },
    {
      "metadata": {
        "id": "TK6Ou0KcWC3r",
        "colab_type": "text"
      },
      "cell_type": "markdown",
      "source": [
        "# Wildcard Matching in List\n",
        "- Check if string with/without wildcard is in list"
      ]
    },
    {
      "metadata": {
        "id": "b_Hd8GIIeRVa",
        "colab_type": "code",
        "colab": {
          "base_uri": "https://localhost:8080/",
          "height": 34
        },
        "outputId": "b8444a81-4c0a-434c-c5d8-d38120c38421"
      },
      "cell_type": "code",
      "source": [
        "wildcard = '*'\n",
        "\n",
        "def getSum(sample):\n",
        "  word = ''\n",
        "  count = 0\n",
        "  for c in sample:\n",
        "    if c == wildcard:\n",
        "      continue\n",
        "    word += c\n",
        "    count += 1\n",
        "  return word, count\n",
        "\n",
        "def match_in_arr_redo(sample, arr):\n",
        "  result, count = getSum(sample)\n",
        "  resultIdx = arr.index(result)\n",
        "  return result in arr and count == len(arr[resultIdx])\n",
        " \n",
        "arr = ['max', 'marco', 'toy', 'bro']\n",
        "sample = 'b***r**o'  \n",
        "result = match_in_arr_redo(sample, arr)\n",
        "if result:\n",
        "  print(\"{} Found\".format(sample))\n",
        "else:\n",
        "  print(\"Not found\")\n",
        "    "
      ],
      "execution_count": 44,
      "outputs": [
        {
          "output_type": "stream",
          "text": [
            "b***r**o Found\n"
          ],
          "name": "stdout"
        }
      ]
    },
    {
      "metadata": {
        "id": "Uo7tEg_T6opL",
        "colab_type": "code",
        "colab": {}
      },
      "cell_type": "code",
      "source": [
        "wildcard = '*'\n",
        "\n",
        "def get_wildcard_idxs(s):\n",
        "    wildcard_idxs = [pos for pos, char in enumerate(s) if char == wildcard]\n",
        "    return wildcard_idxs\n",
        "  \n",
        "def change_char(s, idx, r):\n",
        "    return s[:idx]+r+s[idx + 1:]\n",
        "\n",
        "def match_in_arr(sample, arr):\n",
        "    if sample in arr:\n",
        "        return True\n",
        "    if wildcard in sample:\n",
        "        arr = [el for el in arr if len(el) is len(sample)]\n",
        "        wildcard_idxs = get_wildcard_idxs(sample)\n",
        "        for word in arr:\n",
        "          for idx in wildcard_idxs:\n",
        "            sample = change_char(sample, idx, word[idx])\n",
        "            if (match_in_arr(sample, arr)):\n",
        "              return True\n",
        "   \n",
        "    return False"
      ],
      "execution_count": 0,
      "outputs": []
    },
    {
      "metadata": {
        "id": "byWaDoUuV7IL",
        "colab_type": "text"
      },
      "cell_type": "markdown",
      "source": [
        "# Test of Function"
      ]
    },
    {
      "metadata": {
        "id": "8PKPaFJ86opn",
        "colab_type": "code",
        "outputId": "f9830585-25da-4173-db14-7c96f55c2946",
        "colab": {
          "base_uri": "https://localhost:8080/",
          "height": 34
        }
      },
      "cell_type": "code",
      "source": [
        "sample = 'm*x'\n",
        "\n",
        "arr = ['max', 'fox', 'mix', 'biscuit']\n",
        "\n",
        "result = match_in_arr(sample, arr)\n",
        "print(result)"
      ],
      "execution_count": 0,
      "outputs": [
        {
          "output_type": "stream",
          "text": [
            "True\n"
          ],
          "name": "stdout"
        }
      ]
    },
    {
      "metadata": {
        "id": "Lhqmg3gb6opY",
        "colab_type": "code",
        "outputId": "dd31454d-2e72-4dd6-bc91-a13a183b6057",
        "colab": {}
      },
      "cell_type": "code",
      "source": [
        "def change_char(s, idx, r):\n",
        "    return s[:idx]+r+s[idx + 1:]\n",
        "\n",
        "result = change_char('Hello world', 6, \"W\")\n",
        "print(result)"
      ],
      "execution_count": 0,
      "outputs": [
        {
          "output_type": "stream",
          "text": [
            "Hello World\n"
          ],
          "name": "stdout"
        }
      ]
    },
    {
      "metadata": {
        "id": "9DTyUFvQ6ops",
        "colab_type": "text"
      },
      "cell_type": "markdown",
      "source": [
        "# Wildcard Matching\n",
        "- Check if two given strings match\n",
        "- Given first may contain wildcards\n",
        "- Given second is normal string"
      ]
    },
    {
      "metadata": {
        "id": "9y-afiKl6opu",
        "colab_type": "code",
        "colab": {}
      },
      "cell_type": "code",
      "source": [
        "def match(first, second):\n",
        "    # if we reach at end of both strings we are done\n",
        "    if len(first) == 0 and len(second) == 0:\n",
        "        return True\n",
        "    \n",
        "    # make sure chars after * are present in second string\n",
        "    # assumes that first string will not contain two consecutive '*'\n",
        "    if len(first) > 1 and first[0] == '*' and len(second) == 0:\n",
        "        return False\n",
        "    \n",
        "    # if there is *, then two possibilities:\n",
        "    # a) consider current character of second str\n",
        "    # b) ignore current char of second str\n",
        "    if len(first) != 0 and first[0] == '*':\n",
        "        return match(first[1:], second) or match(first, second[1:])\n",
        "    \n",
        "    return False\n",
        "\n"
      ],
      "execution_count": 0,
      "outputs": []
    },
    {
      "metadata": {
        "id": "vM2-cpj36op9",
        "colab_type": "code",
        "outputId": "ff910054-cfde-44de-e357-b94c1e706dca",
        "colab": {
          "base_uri": "https://localhost:8080/",
          "height": 34
        }
      },
      "cell_type": "code",
      "source": [
        "print(match(\"geeks\", \"*eek\"))"
      ],
      "execution_count": 0,
      "outputs": [
        {
          "output_type": "stream",
          "text": [
            "False\n"
          ],
          "name": "stdout"
        }
      ]
    },
    {
      "metadata": {
        "id": "7lwxD2Ye6oqE",
        "colab_type": "code",
        "colab": {}
      },
      "cell_type": "code",
      "source": [
        ""
      ],
      "execution_count": 0,
      "outputs": []
    }
  ]
}