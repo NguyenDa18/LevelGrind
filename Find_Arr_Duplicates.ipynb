{
  "nbformat": 4,
  "nbformat_minor": 0,
  "metadata": {
    "colab": {
      "name": "Find Arr Duplicates.ipynb",
      "version": "0.3.2",
      "provenance": [],
      "include_colab_link": true
    },
    "kernelspec": {
      "name": "python3",
      "display_name": "Python 3"
    }
  },
  "cells": [
    {
      "cell_type": "markdown",
      "metadata": {
        "id": "view-in-github",
        "colab_type": "text"
      },
      "source": [
        "<a href=\"https://colab.research.google.com/github/NguyenDa18/LevelGrind/blob/master/Find_Arr_Duplicates.ipynb\" target=\"_parent\"><img src=\"https://colab.research.google.com/assets/colab-badge.svg\" alt=\"Open In Colab\"/></a>"
      ]
    },
    {
      "metadata": {
        "id": "T2gwUJFWka2r",
        "colab_type": "text"
      },
      "cell_type": "markdown",
      "source": [
        "# Duplicates in Array - IN PROGRESS"
      ]
    },
    {
      "metadata": {
        "id": "p8hI_aB7lb_4",
        "colab_type": "text"
      },
      "cell_type": "markdown",
      "source": [
        "## Given array of n elements which contains elements from 0 to n-1 and has duplicates, find repeating numbers in _O(n)_ and constant memory space "
      ]
    },
    {
      "metadata": {
        "id": "ui6-Vo9AkhXT",
        "colab_type": "text"
      },
      "cell_type": "markdown",
      "source": [
        "- Traverse given array from i = 0 to n - 1 elements\n",
        "- Go to index arr[i] % n and increment its value by n\n",
        "- Traverse array again and print all indexes i for which arr[i] / n is greater than 1"
      ]
    },
    {
      "metadata": {
        "id": "tb71P9qgluuU",
        "colab_type": "text"
      },
      "cell_type": "markdown",
      "source": [
        "# Solution"
      ]
    },
    {
      "metadata": {
        "id": "u9H1zntxjftC",
        "colab_type": "code",
        "colab": {
          "base_uri": "https://localhost:8080/",
          "height": 136
        },
        "outputId": "754a1d8a-e509-4a73-96cf-175c6f4372bb"
      },
      "cell_type": "code",
      "source": [
        "def find_all_duplicates(arr):\n",
        "  n = len(arr)\n",
        "  for el in arr:\n",
        "    print(el, el % n)\n",
        "    index = el % n\n",
        "    el += n\n",
        "    \n",
        "    \n",
        "  # Check which value exists more than once by dividing with size of arr\n",
        "  for el in arr:\n",
        "    if (el / n) > 1:\n",
        "      print(i, end = \" \")\n",
        "  \n",
        "  \n",
        "arr = [1,6,3,1,3,6,6]\n",
        "find_all_duplicates(arr)"
      ],
      "execution_count": 15,
      "outputs": [
        {
          "output_type": "stream",
          "text": [
            "1 1\n",
            "6 6\n",
            "3 3\n",
            "1 1\n",
            "3 3\n",
            "6 6\n",
            "6 6\n"
          ],
          "name": "stdout"
        }
      ]
    },
    {
      "metadata": {
        "id": "qz7_kJYKj4Nh",
        "colab_type": "code",
        "colab": {}
      },
      "cell_type": "code",
      "source": [
        ""
      ],
      "execution_count": 0,
      "outputs": []
    }
  ]
}