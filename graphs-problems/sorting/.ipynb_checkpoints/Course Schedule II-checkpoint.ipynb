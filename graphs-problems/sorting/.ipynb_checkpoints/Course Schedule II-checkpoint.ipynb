{
 "cells": [
  {
   "cell_type": "markdown",
   "metadata": {},
   "source": [
    "# Course Schedule II : LeetCode #210\n",
    "- [Problem Link](https://leetcode.com/problems/course-schedule-ii/)\n",
    "\n",
    "There are a total of n courses you have to take labelled from 0 to n - 1.\n",
    "\n",
    "Some courses may have prerequisites, for example, if prerequisites[i] = [ai, bi] this means you must take the course bi before the course ai.\n",
    "\n",
    "Given the total number of courses numCourses and a list of the prerequisite pairs, return the ordering of courses you should take to finish all courses.\n",
    "\n",
    "If there are many valid answers, return any of them. If it is impossible to finish all courses, return an empty array.\n",
    "\n",
    "----\n",
    "Example 1:\n",
    "\n",
    "Input: numCourses = 2, prerequisites = [[1,0]]\n",
    "Output: [0,1]\n",
    "Explanation: There are a total of 2 courses to take. To take course 1 you should have finished course 0. So the correct course order is [0,1].\n",
    "\n",
    "---\n",
    "\n",
    "Example 2:\n",
    "\n",
    "Input: numCourses = 4, prerequisites = [[1,0],[2,0],[3,1],[3,2]]\n",
    "Output: [0,2,1,3]\n",
    "Explanation: There are a total of 4 courses to take. To take course 3 you should have finished both courses 1 and 2. Both courses 1 and 2 should be taken after you finished course 0.\n",
    "So one correct course order is [0,1,2,3]. Another correct ordering is [0,2,1,3].\n",
    "\n",
    "---\n",
    "\n",
    "Example 3:\n",
    "\n",
    "Input: numCourses = 1, prerequisites = []\n",
    "Output: [0]"
   ]
  },
  {
   "cell_type": "code",
   "execution_count": null,
   "metadata": {},
   "outputs": [],
   "source": [
    "# source https://www.youtube.com/watch?v=Akt3glAwyfY\n",
    "class Solution:\n",
    "    def find_order(self, numCourses, prerequisites):\n",
    "        # build adjacency list of prereqs\n",
    "        prereq = { c:[] for c in range(numCourses)}\n",
    "        \n",
    "        for course, prereq in prerequisties:\n",
    "            prereq[course].append(prereq)"
   ]
  }
 ],
 "metadata": {
  "kernelspec": {
   "display_name": "Python 3",
   "language": "python",
   "name": "python3"
  },
  "language_info": {
   "codemirror_mode": {
    "name": "ipython",
    "version": 3
   },
   "file_extension": ".py",
   "mimetype": "text/x-python",
   "name": "python",
   "nbconvert_exporter": "python",
   "pygments_lexer": "ipython3",
   "version": "3.8.5"
  }
 },
 "nbformat": 4,
 "nbformat_minor": 4
}
