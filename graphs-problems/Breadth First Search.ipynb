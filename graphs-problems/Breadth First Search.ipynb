{
 "cells": [
  {
   "cell_type": "code",
   "execution_count": null,
   "metadata": {},
   "outputs": [],
   "source": [
    "class Solution:\n",
    "    def bfs(self, start_vertex: int):\n",
    "        # init set for storing already visited vertices\n",
    "        visited = set()\n",
    "        \n",
    "        # create queue to store all vertices for BFS\n",
    "        queue = []\n",
    "        \n",
    "        # mark source node as visited and enqueue\n",
    "        visited.add(start_vertex)\n",
    "        queue.append(start_vertex)\n",
    "        \n",
    "        while queue:\n",
    "            vertex = queue.pop(0)\n",
    "            \n",
    "            # loop through all adjacent vertices and enqueue if not yet visited"
   ]
  }
 ],
 "metadata": {
  "kernelspec": {
   "display_name": "Python 3",
   "language": "python",
   "name": "python3"
  },
  "language_info": {
   "codemirror_mode": {
    "name": "ipython",
    "version": 3
   },
   "file_extension": ".py",
   "mimetype": "text/x-python",
   "name": "python",
   "nbconvert_exporter": "python",
   "pygments_lexer": "ipython3",
   "version": "3.8.5"
  }
 },
 "nbformat": 4,
 "nbformat_minor": 4
}
