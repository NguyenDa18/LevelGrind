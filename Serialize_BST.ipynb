{
  "nbformat": 4,
  "nbformat_minor": 0,
  "metadata": {
    "colab": {
      "name": "Serialize BST.ipynb",
      "version": "0.3.2",
      "provenance": [],
      "include_colab_link": true
    },
    "kernelspec": {
      "name": "python3",
      "display_name": "Python 3"
    }
  },
  "cells": [
    {
      "cell_type": "markdown",
      "metadata": {
        "id": "view-in-github",
        "colab_type": "text"
      },
      "source": [
        "<a href=\"https://colab.research.google.com/github/NguyenDa18/LevelGrind/blob/master/Serialize_BST.ipynb\" target=\"_parent\"><img src=\"https://colab.research.google.com/assets/colab-badge.svg\" alt=\"Open In Colab\"/></a>"
      ]
    },
    {
      "cell_type": "markdown",
      "metadata": {
        "id": "TQfMV3yIEXez",
        "colab_type": "text"
      },
      "source": [
        "# Serialize BST : Daily Coding Problem #3\n",
        "Good morning! Here's your coding interview problem for today.\n",
        "\n",
        "This problem was asked by Google.\n",
        "\n",
        "Given the root to a binary tree, implement serialize(root), which serializes the tree into a string, and deserialize(s), which deserializes the string back into the tree.\n",
        "\n",
        "For example, given the following Node class\n",
        "```python\n",
        "class Node:\n",
        "    def __init__(self, val, left=None, right=None):\n",
        "        self.val = val\n",
        "        self.left = left\n",
        "        self.right = right\n",
        "```\n",
        "The following test should pass:\n",
        "\n",
        "```\n",
        "node = Node('root', Node('left', Node('left.left')), Node('right'))\n",
        "assert deserialize(serialize(node)).left.left.val == 'left.left'\n",
        "```"
      ]
    },
    {
      "cell_type": "markdown",
      "metadata": {
        "id": "eGrTWQ-lEyEa",
        "colab_type": "text"
      },
      "source": [
        "### Tips:\n",
        "- Remember python json package!\n",
        "- Create python Node class first\n",
        "- Then write serialize and deserialize functions\n",
        "- JSON dumps: serialize\n",
        "- JSON loads: deserialize"
      ]
    },
    {
      "cell_type": "code",
      "metadata": {
        "id": "T_QFGaL0EnTE",
        "colab_type": "code",
        "colab": {}
      },
      "source": [
        "import json\n",
        "\n",
        "class Node:\n",
        "  def __init__(self, data):\n",
        "    self.data = data\n",
        "    self.left = None\n",
        "    self.right = None\n",
        "    \n",
        "  def __repr__(self):\n",
        "    return str(self.data)"
      ],
      "execution_count": 0,
      "outputs": []
    },
    {
      "cell_type": "code",
      "metadata": {
        "id": "Gzb9LyQ9FO25",
        "colab_type": "code",
        "colab": {}
      },
      "source": [
        "def serialize(root):\n",
        "  if not root:\n",
        "    return None\n",
        "  \n",
        "  serialized_tree_map = dict()\n",
        "  serialized_left = serialize(root.left)\n",
        "  serialized_right = serialize(root.right)\n",
        "  \n",
        "  serialized_tree_map['data'] = root.data\n",
        "  if serialized_left:\n",
        "    serialized_tree_map['left'] = serialized_left\n",
        "  if serialized_right:\n",
        "    serialized_tree_map['right'] = serialized_right\n",
        "    \n",
        "  return json.dumps(serialized_tree_map)"
      ],
      "execution_count": 0,
      "outputs": []
    },
    {
      "cell_type": "code",
      "metadata": {
        "id": "D26EpAj_FyKP",
        "colab_type": "code",
        "colab": {}
      },
      "source": [
        "def deserialize(string):\n",
        "  serialized_tree_map = json.loads(string)\n",
        "  node = Node(serialized_tree_map['data'])\n",
        "  if 'left' in serialized_tree_map:\n",
        "    node.left = deserialize(serialized_tree_map['left'])\n",
        "  if 'right' in serialized_tree_map:\n",
        "    node.right = deserialize(serialized_tree_map['right'])\n",
        "    \n",
        "  return node"
      ],
      "execution_count": 0,
      "outputs": []
    },
    {
      "cell_type": "markdown",
      "metadata": {
        "id": "fjl4GohoGZBO",
        "colab_type": "text"
      },
      "source": [
        "## Testing with new Node:\n",
        "\n",
        "               a\n",
        "              / \\\n",
        "            b    c\n",
        "           / \\  / \\\n",
        "         d   e f  g"
      ]
    },
    {
      "cell_type": "code",
      "metadata": {
        "id": "fHuJ1rL5GV0Q",
        "colab_type": "code",
        "colab": {}
      },
      "source": [
        "node_a = Node('a')\n",
        "node_b = Node('b')\n",
        "node_c = Node('c')\n",
        "node_d = Node('d')\n",
        "node_e = Node('e')\n",
        "node_f = Node('f')\n",
        "node_g = Node('g')\n",
        "\n",
        "node_a.left = node_b\n",
        "node_a.right = node_c\n",
        "node_b.left = node_d\n",
        "node_b.right = node_e\n",
        "node_c.left = node_f\n",
        "node_c.right = node_g"
      ],
      "execution_count": 0,
      "outputs": []
    },
    {
      "cell_type": "code",
      "metadata": {
        "id": "F1dwdd6EHwJ0",
        "colab_type": "code",
        "colab": {
          "base_uri": "https://localhost:8080/",
          "height": 54
        },
        "outputId": "d6755c8c-2ea3-4980-ad99-ae87653087a7"
      },
      "source": [
        "serialized_a = serialize(node_a)\n",
        "print(serialized_a)"
      ],
      "execution_count": 8,
      "outputs": [
        {
          "output_type": "stream",
          "text": [
            "{\"data\": \"a\", \"left\": \"{\\\"data\\\": \\\"b\\\", \\\"left\\\": \\\"{\\\\\\\"data\\\\\\\": \\\\\\\"d\\\\\\\"}\\\", \\\"right\\\": \\\"{\\\\\\\"data\\\\\\\": \\\\\\\"e\\\\\\\"}\\\"}\", \"right\": \"{\\\"data\\\": \\\"c\\\", \\\"left\\\": \\\"{\\\\\\\"data\\\\\\\": \\\\\\\"f\\\\\\\"}\\\", \\\"right\\\": \\\"{\\\\\\\"data\\\\\\\": \\\\\\\"g\\\\\\\"}\\\"}\"}\n"
          ],
          "name": "stdout"
        }
      ]
    },
    {
      "cell_type": "code",
      "metadata": {
        "id": "Xkt19sBrH0vP",
        "colab_type": "code",
        "colab": {
          "base_uri": "https://localhost:8080/",
          "height": 34
        },
        "outputId": "f647d40a-d59a-4ee5-a925-d0a063991419"
      },
      "source": [
        "deserialized_a = deserialize(serialized_a)\n",
        "print(deserialized_a)\n",
        "assert str(deserialized_a) == 'a'"
      ],
      "execution_count": 12,
      "outputs": [
        {
          "output_type": "stream",
          "text": [
            "a\n"
          ],
          "name": "stdout"
        }
      ]
    }
  ]
}