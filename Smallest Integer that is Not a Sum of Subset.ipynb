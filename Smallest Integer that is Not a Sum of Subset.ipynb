{
 "cells": [
  {
   "cell_type": "markdown",
   "metadata": {},
   "source": [
    "# Find the smallest positive integer value that cannot be represented as sum of any subset of a given array\n",
    "This problem was asked by Amazon.\n",
    "\n",
    "Given a sorted array, find the smallest positive integer that is not the sum of a subset of the array.\n",
    "\n",
    "For example, for the input [1, 2, 3, 10], you should return 7.\n",
    "\n",
    "Do this in O(N) time."
   ]
  },
  {
   "cell_type": "code",
   "execution_count": 12,
   "metadata": {
    "collapsed": false
   },
   "outputs": [
    {
     "name": "stdout",
     "output_type": "stream",
     "text": [
      "7\n"
     ]
    }
   ],
   "source": [
    "def smallestIntNonSubsetSum(arr):\n",
    "    # initialize for smallest possible outcome\n",
    "    smallest = 1\n",
    "    for el in range(len(arr)):\n",
    "        if arr[el] <= smallest:\n",
    "            smallest = smallest + arr[el]\n",
    "        else:\n",
    "            break\n",
    "    return smallest\n",
    "    \n",
    "    \n",
    "arr = [1, 2, 3, 10]\n",
    "print(smallestIntNonSubsetSum(arr))\n",
    "    "
   ]
  },
  {
   "cell_type": "code",
   "execution_count": null,
   "metadata": {
    "collapsed": true
   },
   "outputs": [],
   "source": []
  }
 ],
 "metadata": {
  "anaconda-cloud": {},
  "kernelspec": {
   "display_name": "Python 3",
   "language": "python",
   "name": "python3"
  },
  "language_info": {
   "codemirror_mode": {
    "name": "ipython",
    "version": 3
   },
   "file_extension": ".py",
   "mimetype": "text/x-python",
   "name": "python",
   "nbconvert_exporter": "python",
   "pygments_lexer": "ipython3",
   "version": "3.5.2"
  }
 },
 "nbformat": 4,
 "nbformat_minor": 1
}
