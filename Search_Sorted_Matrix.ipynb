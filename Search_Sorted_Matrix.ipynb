{
  "nbformat": 4,
  "nbformat_minor": 0,
  "metadata": {
    "colab": {
      "name": "Search Sorted Matrix.ipynb",
      "version": "0.3.2",
      "provenance": [],
      "include_colab_link": true
    },
    "kernelspec": {
      "name": "python3",
      "display_name": "Python 3"
    }
  },
  "cells": [
    {
      "cell_type": "markdown",
      "metadata": {
        "id": "view-in-github",
        "colab_type": "text"
      },
      "source": [
        "<a href=\"https://colab.research.google.com/github/NguyenDa18/LevelGrind/blob/master/Search_Sorted_Matrix.ipynb\" target=\"_parent\"><img src=\"https://colab.research.google.com/assets/colab-badge.svg\" alt=\"Open In Colab\"/></a>"
      ]
    },
    {
      "cell_type": "markdown",
      "metadata": {
        "id": "Xq1nMjwzcAPq",
        "colab_type": "text"
      },
      "source": [
        "# Search in Sorted Matrix : AlgoExpert\n",
        "You are given a 2D array of distinct integers where each row is sorted and each column is also sorted. You are also given a target number, and write a function that returns an array of the row and column indices of the target number if it is contained in the matrix and [-1, -1] if it is not contained in the matrix."
      ]
    },
    {
      "cell_type": "code",
      "metadata": {
        "id": "ucNgEWWecP00",
        "colab_type": "code",
        "colab": {}
      },
      "source": [
        "# O(n + m) time | O(1) space\n",
        "def searchInSortedMatrix(matrix, target):\n",
        "  row = 0\n",
        "  col = len(matrix[0]) - 1\n",
        "  while row < len(matrix) and col >= 0:\n",
        "    if matrix[row][col] > target:\n",
        "      col -= 1\n",
        "    elif matrix[row][col] < target:\n",
        "      row += 1\n",
        "    else:\n",
        "      return [row, col]\n",
        "  return [-1, -1]"
      ],
      "execution_count": 0,
      "outputs": []
    },
    {
      "cell_type": "code",
      "metadata": {
        "id": "k1tWum-mdowf",
        "colab_type": "code",
        "colab": {
          "base_uri": "https://localhost:8080/",
          "height": 34
        },
        "outputId": "65468dd7-4867-4613-ca4a-4ea6de297a9f"
      },
      "source": [
        "\n",
        "matrix = [\n",
        "\t[1, 4, 7, 12, 15, 1000],\n",
        "\t[2, 5, 19, 31, 32, 1001],\n",
        "\t[3, 8, 24, 33, 35, 1002],\n",
        "\t[40, 41, 42, 44, 45, 1003],\n",
        "\t[99, 100, 103, 106, 128, 1004],\n",
        "]\n",
        "\n",
        "result = searchInSortedMatrix(matrix, 100)\n",
        "print(result)"
      ],
      "execution_count": 3,
      "outputs": [
        {
          "output_type": "stream",
          "text": [
            "[4, 1]\n"
          ],
          "name": "stdout"
        }
      ]
    }
  ]
}