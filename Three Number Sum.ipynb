{
  "nbformat": 4,
  "nbformat_minor": 0,
  "metadata": {
    "colab": {
      "name": "Three Number Sum.ipynb",
      "version": "0.3.2",
      "provenance": [],
      "include_colab_link": true
    },
    "language_info": {
      "codemirror_mode": {
        "name": "ipython",
        "version": 3
      },
      "file_extension": ".py",
      "mimetype": "text/x-python",
      "name": "python",
      "nbconvert_exporter": "python",
      "pygments_lexer": "ipython3",
      "version": "3.5.2"
    },
    "kernelspec": {
      "display_name": "Python 3",
      "language": "python",
      "name": "python3"
    }
  },
  "cells": [
    {
      "cell_type": "markdown",
      "metadata": {
        "id": "view-in-github",
        "colab_type": "text"
      },
      "source": [
        "<a href=\"https://colab.research.google.com/github/NguyenDa18/LevelGrind/blob/master/Three%20Number%20Sum.ipynb\" target=\"_parent\"><img src=\"https://colab.research.google.com/assets/colab-badge.svg\" alt=\"Open In Colab\"/></a>"
      ]
    },
    {
      "cell_type": "markdown",
      "metadata": {
        "id": "Zwt4JDRWxAeT",
        "colab_type": "text"
      },
      "source": [
        "# Find Three Largest Numbers : AlgoExpert\n",
        "\n",
        "Write a function that takes in an array of integers and a target sum. The function should return a 2D array of all triplets that sum up to target sum. The numbers in each triplet should be ordered in ascending order and the triplets themselves hsould be ordered in ascending order. If no three numbers sum up to target, the function should return an empty array"
      ]
    },
    {
      "cell_type": "code",
      "metadata": {
        "id": "4wCAiAs9xAeZ",
        "colab_type": "code",
        "colab": {}
      },
      "source": [
        "# O(n^2) time | O(n) space\n",
        "def threeNumberSum(array, targetSum):\n",
        "    triplets = []\n",
        "    if len(array) < 1:\n",
        "        return triplets\n",
        "    array = sorted(array)\n",
        "    for i in range(len(array) - 2):\n",
        "        left = i + 1\n",
        "        right = len(array) - 1\n",
        "        while left < right:\n",
        "            currentSum = array[i] + array[left] + array[right]\n",
        "            if currentSum == targetSum:\n",
        "                triplets.append([array[i], array[left], array[right]])\n",
        "                left += 1\n",
        "                right -= 1\n",
        "            elif currentSum < targetSum:\n",
        "                left += 1\n",
        "            elif currentSum > targetSum:\n",
        "                right -= 1\n",
        "    return triplets"
      ],
      "execution_count": 0,
      "outputs": []
    },
    {
      "cell_type": "code",
      "metadata": {
        "id": "p4HRqRPwxvqV",
        "colab_type": "code",
        "colab": {
          "base_uri": "https://localhost:8080/",
          "height": 34
        },
        "outputId": "532fed38-4fd8-4576-da5e-9bdbb1e59804"
      },
      "source": [
        "array = [8,10,-2,49,14]\n",
        "target = 57\n",
        "result = threeNumberSum(array, target)\n",
        "print(result)"
      ],
      "execution_count": 7,
      "outputs": [
        {
          "output_type": "stream",
          "text": [
            "[[-2, 10, 49]]\n"
          ],
          "name": "stdout"
        }
      ]
    }
  ]
}