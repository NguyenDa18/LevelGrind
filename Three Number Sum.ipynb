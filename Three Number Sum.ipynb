{
 "cells": [
  {
   "cell_type": "markdown",
   "metadata": {},
   "source": [
    "# Three Number Sum\n",
    "\n",
    "- Function should find all triplets in array that sum up to the target sum and return two dimensional array of all triplets. Numbers in each triplet should be ordered in ascending order. If no three numnbers sum to the target sum, function should return an empty array"
   ]
  },
  {
   "cell_type": "code",
   "execution_count": null,
   "metadata": {
    "collapsed": true
   },
   "outputs": [],
   "source": [
    "# O(n^2) time | O(n) space\n",
    "def threeNumberSum(array, targetSum):\n",
    "        triplets = []\n",
    "    if len(array) < 1:\n",
    "        return triplets\n",
    "    array = sorted(array)\n",
    "    for i in range(len(array) - 2):\n",
    "        left = i + 1\n",
    "        right = len(array) - 1\n",
    "        while left < right:\n",
    "            currentSum = array[i] + array[left] + array[right]\n",
    "            if currentSum == targetSum:\n",
    "                triplets.append([array[i], array[left], array[right]])\n",
    "                left += 1\n",
    "                right -= 1\n",
    "            elif currentSum < targetSum:\n",
    "                left += 1\n",
    "            elif currentSum > targetSum:\n",
    "                right -= 1\n",
    "    return triplets"
   ]
  }
 ],
 "metadata": {
  "kernelspec": {
   "display_name": "Python 3",
   "language": "python",
   "name": "python3"
  },
  "language_info": {
   "codemirror_mode": {
    "name": "ipython",
    "version": 3
   },
   "file_extension": ".py",
   "mimetype": "text/x-python",
   "name": "python",
   "nbconvert_exporter": "python",
   "pygments_lexer": "ipython3",
   "version": "3.5.2"
  }
 },
 "nbformat": 4,
 "nbformat_minor": 1
}
