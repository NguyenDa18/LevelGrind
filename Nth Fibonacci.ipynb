{
  "nbformat": 4,
  "nbformat_minor": 0,
  "metadata": {
    "colab": {
      "name": "Nth Fibonacci.ipynb",
      "version": "0.3.2",
      "provenance": [],
      "include_colab_link": true
    },
    "language_info": {
      "codemirror_mode": {
        "name": "ipython",
        "version": 3
      },
      "file_extension": ".py",
      "mimetype": "text/x-python",
      "name": "python",
      "nbconvert_exporter": "python",
      "pygments_lexer": "ipython3",
      "version": "3.5.2"
    },
    "kernelspec": {
      "display_name": "Python 3",
      "language": "python",
      "name": "python3"
    }
  },
  "cells": [
    {
      "cell_type": "markdown",
      "metadata": {
        "id": "view-in-github",
        "colab_type": "text"
      },
      "source": [
        "<a href=\"https://colab.research.google.com/github/NguyenDa18/LevelGrind/blob/master/Nth%20Fibonacci.ipynb\" target=\"_parent\"><img src=\"https://colab.research.google.com/assets/colab-badge.svg\" alt=\"Open In Colab\"/></a>"
      ]
    },
    {
      "cell_type": "markdown",
      "metadata": {
        "id": "LqE5hwi2Nez5",
        "colab_type": "text"
      },
      "source": [
        "# Nth Fibonacci\n",
        "This problem was asked by Apple.\n",
        "\n",
        "Implement the function fib(n), which returns the nth number in the Fibonacci sequence, using only O(1) space."
      ]
    },
    {
      "cell_type": "markdown",
      "metadata": {
        "id": "alZKf_nDNvwt",
        "colab_type": "text"
      },
      "source": [
        "### Tips\n",
        "- Recall memoization in Dynamic Programming...prevent duplicate calculations"
      ]
    },
    {
      "cell_type": "code",
      "metadata": {
        "id": "ute0-DsANez8",
        "colab_type": "code",
        "colab": {}
      },
      "source": [
        "# O(n) time | O(n) space\n",
        "def nthFibonacci2(n, memoize = {1: 0, 2: 1}):\n",
        "    if n in memoize:\n",
        "        return memoize[n]\n",
        "    else:\n",
        "        memoize[n] = nthFibonacci2(n - 1, memoize) + nthFibonacci2(n - 2, memoize)\n",
        "        return memoize[n]"
      ],
      "execution_count": 0,
      "outputs": []
    },
    {
      "cell_type": "code",
      "metadata": {
        "id": "YNN6YQqwNe0C",
        "colab_type": "code",
        "colab": {
          "base_uri": "https://localhost:8080/",
          "height": 34
        },
        "outputId": "d8d6621f-8b13-4564-9273-5523d052fc65"
      },
      "source": [
        "result = nthFibonacci2(6)\n",
        "print(result)"
      ],
      "execution_count": 7,
      "outputs": [
        {
          "output_type": "stream",
          "text": [
            "5\n"
          ],
          "name": "stdout"
        }
      ]
    },
    {
      "cell_type": "code",
      "metadata": {
        "id": "Rv7d-9_uNe0M",
        "colab_type": "code",
        "colab": {}
      },
      "source": [
        "# O(2^n) time | O(n) space\n",
        "def nthFibonacci3(n):\n",
        "    if n == 1:\n",
        "        return 0\n",
        "    if n == 2:\n",
        "        return 1\n",
        "    return nthFibonacci3(n - 1) + nthFibonacci3(n-2)"
      ],
      "execution_count": 0,
      "outputs": []
    },
    {
      "cell_type": "code",
      "metadata": {
        "id": "6bIjg3nsNe0P",
        "colab_type": "code",
        "colab": {
          "base_uri": "https://localhost:8080/",
          "height": 34
        },
        "outputId": "91ec6c3c-eff0-47bf-deb9-bde7a5e0e5ba"
      },
      "source": [
        "result = nthFibonacci3(6)\n",
        "print(result)"
      ],
      "execution_count": 9,
      "outputs": [
        {
          "output_type": "stream",
          "text": [
            "5\n"
          ],
          "name": "stdout"
        }
      ]
    }
  ]
}