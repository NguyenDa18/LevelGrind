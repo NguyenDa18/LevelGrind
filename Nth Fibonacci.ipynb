{
  "nbformat": 4,
  "nbformat_minor": 0,
  "metadata": {
    "colab": {
      "name": "Nth Fibonacci.ipynb",
      "version": "0.3.2",
      "provenance": [],
      "include_colab_link": true
    },
    "language_info": {
      "codemirror_mode": {
        "name": "ipython",
        "version": 3
      },
      "file_extension": ".py",
      "mimetype": "text/x-python",
      "name": "python",
      "nbconvert_exporter": "python",
      "pygments_lexer": "ipython3",
      "version": "3.5.2"
    },
    "kernelspec": {
      "display_name": "Python 3",
      "language": "python",
      "name": "python3"
    }
  },
  "cells": [
    {
      "cell_type": "markdown",
      "metadata": {
        "id": "view-in-github",
        "colab_type": "text"
      },
      "source": [
        "<a href=\"https://colab.research.google.com/github/NguyenDa18/LevelGrind/blob/master/Nth%20Fibonacci.ipynb\" target=\"_parent\"><img src=\"https://colab.research.google.com/assets/colab-badge.svg\" alt=\"Open In Colab\"/></a>"
      ]
    },
    {
      "cell_type": "markdown",
      "metadata": {
        "id": "LqE5hwi2Nez5",
        "colab_type": "text"
      },
      "source": [
        "# Nth Fibonacci : AlgoExpert\n",
        "\n",
        "Implement the function fib(n), which returns the nth number in the Fibonacci sequence, using only O(1) space (Solution 3)."
      ]
    },
    {
      "cell_type": "markdown",
      "metadata": {
        "id": "alZKf_nDNvwt",
        "colab_type": "text"
      },
      "source": [
        "### Thinking Process O(1) space solution\n",
        "- Recall memoization in Dynamic Programming...prevent duplicate calculations\n",
        "- Use array instead of hashtable\n",
        "- Build fib numbers starting from bottom, and work with only two values"
      ]
    },
    {
      "cell_type": "code",
      "metadata": {
        "id": "j1NFSt6_tL8H",
        "colab_type": "code",
        "colab": {}
      },
      "source": [
        "def nthFibonacci3(n):\n",
        "  lastTwo = [0, 1]\n",
        "  counter = 3\n",
        "  while counter <= n:\n",
        "    nextFib = lastTwo[0] + lastTwo[1]\n",
        "    lastTwo[0] = lastTwo[1]\n",
        "    lastTwo[1] = nextFib\n",
        "    counter += 1\n",
        "  return lastTwo[1] if n > 1 else lastTwo[0]"
      ],
      "execution_count": 0,
      "outputs": []
    },
    {
      "cell_type": "code",
      "metadata": {
        "id": "-EC8JBjetiGT",
        "colab_type": "code",
        "colab": {
          "base_uri": "https://localhost:8080/",
          "height": 34
        },
        "outputId": "86801498-43ed-40e8-da5e-e09f02ee8912"
      },
      "source": [
        "result = nthFibonacci3(14)\n",
        "print(result)"
      ],
      "execution_count": 16,
      "outputs": [
        {
          "output_type": "stream",
          "text": [
            "233\n"
          ],
          "name": "stdout"
        }
      ]
    },
    {
      "cell_type": "code",
      "metadata": {
        "id": "ute0-DsANez8",
        "colab_type": "code",
        "colab": {}
      },
      "source": [
        "# O(n) time | O(n) space - we calculate every fib num once\n",
        "def nthFibonacci2(n, memoize = {1: 0, 2: 1}):\n",
        "    if n in memoize:\n",
        "        return memoize[n]\n",
        "    else:\n",
        "        memoize[n] = nthFibonacci2(n - 1, memoize) + nthFibonacci2(n - 2, memoize)\n",
        "        return memoize[n]"
      ],
      "execution_count": 0,
      "outputs": []
    },
    {
      "cell_type": "code",
      "metadata": {
        "id": "YNN6YQqwNe0C",
        "colab_type": "code",
        "outputId": "47bf96c4-b870-4494-de8f-e8ffd0390fa7",
        "colab": {
          "base_uri": "https://localhost:8080/",
          "height": 34
        }
      },
      "source": [
        "result = nthFibonacci2(14)\n",
        "print(result)"
      ],
      "execution_count": 18,
      "outputs": [
        {
          "output_type": "stream",
          "text": [
            "233\n"
          ],
          "name": "stdout"
        }
      ]
    },
    {
      "cell_type": "code",
      "metadata": {
        "id": "Rv7d-9_uNe0M",
        "colab_type": "code",
        "colab": {}
      },
      "source": [
        "# O(2^n) time | O(n) space\n",
        "def nthFibonacci3(n):\n",
        "    if n == 1:\n",
        "        return 0\n",
        "    elif n == 2:\n",
        "        return 1\n",
        "    return nthFibonacci3(n - 1) + nthFibonacci3(n - 2)"
      ],
      "execution_count": 0,
      "outputs": []
    },
    {
      "cell_type": "code",
      "metadata": {
        "id": "6bIjg3nsNe0P",
        "colab_type": "code",
        "outputId": "f6c3b8dc-6f6f-409e-808b-9035478f3e7d",
        "colab": {
          "base_uri": "https://localhost:8080/",
          "height": 34
        }
      },
      "source": [
        "result = nthFibonacci3(14)\n",
        "print(result)"
      ],
      "execution_count": 6,
      "outputs": [
        {
          "output_type": "stream",
          "text": [
            "233\n"
          ],
          "name": "stdout"
        }
      ]
    }
  ]
}