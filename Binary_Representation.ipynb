{
  "nbformat": 4,
  "nbformat_minor": 0,
  "metadata": {
    "colab": {
      "name": "Binary Representation.ipynb",
      "version": "0.3.2",
      "provenance": [],
      "include_colab_link": true
    },
    "kernelspec": {
      "name": "python3",
      "display_name": "Python 3"
    }
  },
  "cells": [
    {
      "cell_type": "markdown",
      "metadata": {
        "id": "view-in-github",
        "colab_type": "text"
      },
      "source": [
        "<a href=\"https://colab.research.google.com/github/NguyenDa18/LevelGrind/blob/master/Binary_Representation.ipynb\" target=\"_parent\"><img src=\"https://colab.research.google.com/assets/colab-badge.svg\" alt=\"Open In Colab\"/></a>"
      ]
    },
    {
      "cell_type": "markdown",
      "metadata": {
        "id": "nJDN_dve53gF",
        "colab_type": "text"
      },
      "source": [
        "# Binary Representation : Firecode.io\n",
        "Compute the bin representation of a positive decimal integer."
      ]
    },
    {
      "cell_type": "code",
      "metadata": {
        "id": "74cedIms5edp",
        "colab_type": "code",
        "colab": {}
      },
      "source": [
        "def dec_to_bin(num):\n",
        "  if num < 2:\n",
        "    return str(num)\n",
        "  return dec_to_bin(num // 2) + dec_to_bin(num % 2)"
      ],
      "execution_count": 0,
      "outputs": []
    },
    {
      "cell_type": "code",
      "metadata": {
        "id": "hx1uBO5L5qF3",
        "colab_type": "code",
        "colab": {
          "base_uri": "https://localhost:8080/",
          "height": 34
        },
        "outputId": "bd33d548-f830-48b9-dadf-72e43fa21c4d"
      },
      "source": [
        "test = 6\n",
        "result = dec_to_bin(test)\n",
        "print(result)"
      ],
      "execution_count": 6,
      "outputs": [
        {
          "output_type": "stream",
          "text": [
            "110\n"
          ],
          "name": "stdout"
        }
      ]
    }
  ]
}