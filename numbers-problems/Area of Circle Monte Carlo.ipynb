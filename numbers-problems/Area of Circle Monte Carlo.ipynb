{
  "nbformat": 4,
  "nbformat_minor": 0,
  "metadata": {
    "colab": {
      "name": "Area of Circle Monte Carlo.ipynb",
      "version": "0.3.2",
      "provenance": [],
      "include_colab_link": true
    },
    "kernelspec": {
      "name": "python3",
      "display_name": "Python 3"
    }
  },
  "cells": [
    {
      "cell_type": "markdown",
      "metadata": {
        "id": "view-in-github",
        "colab_type": "text"
      },
      "source": [
        "<a href=\"https://colab.research.google.com/github/NguyenDa18/LevelGrind/blob/master/Area%20of%20Circle%20Monte%20Carlo.ipynb\" target=\"_parent\"><img src=\"https://colab.research.google.com/assets/colab-badge.svg\" alt=\"Open In Colab\"/></a>"
      ]
    },
    {
      "cell_type": "markdown",
      "metadata": {
        "id": "EU7tlfeuRqiB",
        "colab_type": "text"
      },
      "source": [
        "# Estimate Pi with Monte Carlo : Daily Coding Problem #14\n",
        "Good morning! Here's your coding interview problem for today.\n",
        "\n",
        "This problem was asked by Google.\n",
        "\n",
        "The area of a circle is defined as πr^2. Estimate π to 3 decimal places using a Monte Carlo method.\n",
        "\n",
        "Hint: The basic equation of a circle is x2 + y2 = r2."
      ]
    },
    {
      "cell_type": "code",
      "metadata": {
        "id": "EMCdFj9hRzwd",
        "colab_type": "code",
        "colab": {}
      },
      "source": [
        "from random import random\n",
        "radius = 2"
      ],
      "execution_count": 0,
      "outputs": []
    },
    {
      "cell_type": "code",
      "metadata": {
        "id": "tN73Zs8dR8Mv",
        "colab_type": "code",
        "colab": {}
      },
      "source": [
        "def estimate_pi(num_random_tests):\n",
        "  pi_counter = 0\n",
        "  rsquared = radius ** 2\n",
        "  for _ in range(num_random_tests):\n",
        "    x_rand = random() * radius\n",
        "    y_rand = random() * radius\n",
        "    if (x_rand ** 2) + (y_rand ** 2) < rsquared:\n",
        "      pi_counter += 1\n",
        "      \n",
        "  return 4 * pi_counter / num_random_tests"
      ],
      "execution_count": 0,
      "outputs": []
    },
    {
      "cell_type": "code",
      "metadata": {
        "id": "gWc_Adc8SuFr",
        "colab_type": "code",
        "colab": {
          "base_uri": "https://localhost:8080/",
          "height": 34
        },
        "outputId": "e5cc2c2e-00b8-46b7-ffa7-9aa475b0cd23"
      },
      "source": [
        "result = round(estimate_pi(100000000), 3)\n",
        "print(result)"
      ],
      "execution_count": 4,
      "outputs": [
        {
          "output_type": "stream",
          "text": [
            "3.142\n"
          ],
          "name": "stdout"
        }
      ]
    }
  ]
}