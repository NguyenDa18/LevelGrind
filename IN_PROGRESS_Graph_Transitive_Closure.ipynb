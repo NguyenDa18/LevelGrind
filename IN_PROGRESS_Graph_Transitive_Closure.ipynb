{
  "nbformat": 4,
  "nbformat_minor": 0,
  "metadata": {
    "colab": {
      "name": "IN PROGRESS Graph Transitive Closure.ipynb",
      "version": "0.3.2",
      "provenance": [],
      "include_colab_link": true
    },
    "kernelspec": {
      "name": "python3",
      "display_name": "Python 3"
    }
  },
  "cells": [
    {
      "cell_type": "markdown",
      "metadata": {
        "id": "view-in-github",
        "colab_type": "text"
      },
      "source": [
        "<a href=\"https://colab.research.google.com/github/NguyenDa18/LevelGrind/blob/master/IN_PROGRESS_Graph_Transitive_Closure.ipynb\" target=\"_parent\"><img src=\"https://colab.research.google.com/assets/colab-badge.svg\" alt=\"Open In Colab\"/></a>"
      ]
    },
    {
      "cell_type": "markdown",
      "metadata": {
        "id": "ETYAtdQxq1rg",
        "colab_type": "text"
      },
      "source": [
        "# Graph Transitive Closure : Daily Coding Problem #255\n",
        "Good morning! Here's your coding interview problem for today.\n",
        "\n",
        "This problem was asked by Microsoft.\n",
        "\n",
        "The transitive closure of a graph is a measure of which vertices are reachable from other vertices. It can be represented as a matrix M, where M[i][j] == 1 if there is a path between vertices i and j, and otherwise 0.\n",
        "\n",
        "For example, suppose we are given the following graph in adjacency list form:\n",
        "```python\n",
        "graph = [\n",
        "    [0, 1, 3],\n",
        "    [1, 2],\n",
        "    [2],\n",
        "    [3]\n",
        "]\n",
        "```\n",
        "The transitive closure of this graph would be:\n",
        "```python\n",
        "[1, 1, 1, 1]\n",
        "[0, 1, 1, 0]\n",
        "[0, 0, 1, 0]\n",
        "[0, 0, 0, 1]\n",
        "```\n",
        "\n",
        "Given a graph, find its transitive closure."
      ]
    },
    {
      "cell_type": "code",
      "metadata": {
        "id": "GLNEAltNqyQJ",
        "colab_type": "code",
        "colab": {
          "base_uri": "https://localhost:8080/",
          "height": 34
        },
        "outputId": "a6b166ed-662c-4797-f3b9-81795db95fde"
      },
      "source": [
        "def find_transitive_closure(graph):\n",
        "  # Use DFS?\n",
        "  transitive_closure = []\n",
        "  for idx, vertex in enumerate(graph):\n",
        "    if idx in vertex:\n",
        "      transitive_closure.append(idx)\n",
        "      \n",
        "  return transitive_closure\n",
        "      \n",
        "    \n",
        "graph = [    \n",
        "    [0, 1, 3],\n",
        "    [1, 2],\n",
        "    [2],\n",
        "    [3]\n",
        "]\n",
        "    \n",
        "    \n",
        "result = find_transitive_closure(graph)\n",
        "print(result)\n",
        "      "
      ],
      "execution_count": 8,
      "outputs": [
        {
          "output_type": "stream",
          "text": [
            "[0, 1, 2, 3]\n"
          ],
          "name": "stdout"
        }
      ]
    },
    {
      "cell_type": "code",
      "metadata": {
        "id": "tZg55VJWq90y",
        "colab_type": "code",
        "colab": {}
      },
      "source": [
        ""
      ],
      "execution_count": 0,
      "outputs": []
    }
  ]
}