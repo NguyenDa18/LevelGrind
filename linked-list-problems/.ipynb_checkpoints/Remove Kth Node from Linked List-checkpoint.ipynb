{
 "cells": [
  {
   "cell_type": "markdown",
   "metadata": {},
   "source": [
    "# Remove Kth Node From Linked List: Daily Coding Problem #398 [Medium]\n",
    "Good morning! Here's your coding interview problem for today.\n",
    "\n",
    "This problem was asked by Amazon.\n",
    "\n",
    "Given a linked list and an integer k, remove the k-th node from the end of the list and return the head of the list.\n",
    "\n",
    "k is guaranteed to be smaller than the length of the list.\n",
    "\n",
    "Do this in one pass."
   ]
  },
  {
   "cell_type": "markdown",
   "metadata": {},
   "source": [
    "### Linked List Structure"
   ]
  },
  {
   "cell_type": "code",
   "execution_count": 36,
   "metadata": {},
   "outputs": [],
   "source": [
    "# https://realpython.com/linked-lists-python/#implementing-your-own-linked-list\n",
    "class Node:\n",
    "    def __init__(self, data):\n",
    "        self.data = data\n",
    "        self.next = None\n",
    "        \n",
    "    def __repr__(self):\n",
    "        return self.data\n",
    "\n",
    "class LinkedList:\n",
    "    def __init__(self, nodes=None):\n",
    "        self.head = None\n",
    "        if nodes is not None:\n",
    "            node = Node(data = nodes.pop(0))\n",
    "            self.head = node\n",
    "            for elem in nodes:\n",
    "                node.next = Node(data=elem)\n",
    "                node = node.next\n",
    "        \n",
    "    def __iter__(self):\n",
    "        node = self.head\n",
    "        while node is not None:\n",
    "            yield node\n",
    "            node = node.next\n",
    "        \n",
    "    def __repr__(self):\n",
    "        node = self.head\n",
    "        nodes = []\n",
    "        while node is not None:\n",
    "            nodes.append(node.data)\n",
    "            node = node.next\n",
    "        nodes.append(\"None\")\n",
    "        return \" -> \".join(nodes)\n",
    "    \n",
    "    # RELATED TO PROBLEM\n",
    "    def remove_kth_node(self, k):\n",
    "        first = self.head\n",
    "        second = self.head\n",
    "        for i in range(k):\n",
    "            \n",
    "            # if len(nodes) < k\n",
    "            if (second.next == None):\n",
    "                \n",
    "                # if index = n then delete head node\n",
    "                if (i == k - 1):\n",
    "                    self.head = self.head.next\n",
    "                return self.head\n",
    "        second = second.next\n",
    "        \n",
    "        while (second.next != None):\n",
    "            second = second.next\n",
    "            first = first.next\n",
    "        \n",
    "        first.next = first.next.next\n",
    "    "
   ]
  },
  {
   "cell_type": "code",
   "execution_count": 44,
   "metadata": {},
   "outputs": [
    {
     "data": {
      "text/plain": [
       "a -> b -> c -> d -> e -> None"
      ]
     },
     "execution_count": 44,
     "metadata": {},
     "output_type": "execute_result"
    }
   ],
   "source": [
    "llist = LinkedList([\"a\", \"b\", \"c\", \"d\", \"e\"])\n",
    "llist"
   ]
  },
  {
   "cell_type": "code",
   "execution_count": 45,
   "metadata": {},
   "outputs": [
    {
     "data": {
      "text/plain": [
       "a -> b -> c -> d -> None"
      ]
     },
     "execution_count": 45,
     "metadata": {},
     "output_type": "execute_result"
    }
   ],
   "source": [
    "llist.remove_kth_node(1)\n",
    "llist"
   ]
  },
  {
   "cell_type": "code",
   "execution_count": null,
   "metadata": {},
   "outputs": [],
   "source": []
  }
 ],
 "metadata": {
  "kernelspec": {
   "display_name": "Python 3",
   "language": "python",
   "name": "python3"
  },
  "language_info": {
   "codemirror_mode": {
    "name": "ipython",
    "version": 3
   },
   "file_extension": ".py",
   "mimetype": "text/x-python",
   "name": "python",
   "nbconvert_exporter": "python",
   "pygments_lexer": "ipython3",
   "version": "3.8.5"
  }
 },
 "nbformat": 4,
 "nbformat_minor": 4
}
