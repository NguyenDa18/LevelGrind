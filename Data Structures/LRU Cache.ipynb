{
 "cells": [
  {
   "cell_type": "markdown",
   "metadata": {},
   "source": [
    "# LRU Cache (Least Recently Used)\n",
    "\n",
    "### To do:\n",
    "- support insert key/value pairs (insertKeyValuePair method)\n",
    "- retrieve key's value (getValueFromKey method)\n",
    "- retrieve most recently \"active\" key (getMostRecentKey method)\n",
    "    - EACH method runs in constant line O(1)\n",
    "- When key/value pair is inserted or key's value is retrieved it becomes the most recent key\n",
    "- Store a maxSize property set to size of cache, which is passed during instantiation \n",
    "    - Important cuz it is limit of key/value pairs for the cache\n",
    "- When key/value pair inserted when cache is at max capacity, LRU key/value pair evicted from cache and that key/value pair replaces it\n",
    "- Attempting to retrieve value from key that is not in cache should return null value"
   ]
  },
  {
   "cell_type": "markdown",
   "metadata": {},
   "source": [
    "## 1) Use a linked list for the queue"
   ]
  },
  {
   "cell_type": "code",
   "execution_count": 3,
   "metadata": {},
   "outputs": [],
   "source": [
    "class DoublyLinkedListNode:\n",
    "    def __init__(self, key, value):\n",
    "        self.key = key\n",
    "        self.value = value\n",
    "        self.prev = None\n",
    "        self.next = None\n",
    "        \n",
    "    def removeBindings(self):\n",
    "        if self.prev is not None:\n",
    "            self.prev.next = self.next\n",
    "        if self.next is not None:\n",
    "            self.next.prev = self.prev\n",
    "        self.prev = None\n",
    "        self.next = None"
   ]
  },
  {
   "cell_type": "code",
   "execution_count": 12,
   "metadata": {},
   "outputs": [],
   "source": [
    "class DoublyLinkedList:\n",
    "    def __init__(self):\n",
    "        self.head = None\n",
    "        self.tail = None\n",
    "        \n",
    "    def setHeadTo(self, node):\n",
    "        if self.head == node:\n",
    "            return\n",
    "        \n",
    "    def removeTail(self):\n",
    "        if self.tail is None:\n",
    "            return\n",
    "        \n",
    "        # case: 1 element left\n",
    "        # remove last element in the list of most recent\n",
    "        if self.tail == self.head:\n",
    "            self.head = None\n",
    "            self.tail = None\n",
    "            return\n",
    "        \n",
    "        # other case: >1 elements left\n",
    "        # remove end and make the second to last the last\n",
    "        self.tail = self.tail.prev\n",
    "        self.tail.next = None"
   ]
  },
  {
   "cell_type": "code",
   "execution_count": 8,
   "metadata": {},
   "outputs": [],
   "source": [
    "class LRUCache:\n",
    "    def __init__(self, maxSize):\n",
    "        self.cache = {}\n",
    "        self.maxSize = maxSize or 1\n",
    "        self.currentSize = 0\n",
    "        self.listOfMostRecent = DoublyLinkedList()\n",
    "        \n",
    "    # O(1) time | O(1) space\n",
    "    def insertKeyValuePair(self, key, value):\n",
    "        if key not in self.cache:\n",
    "            if self.currentSize == self.maxSize:\n",
    "                return\n",
    "            \n",
    "            \n",
    "    def getMostRecentKey(self):\n",
    "        return self.listOfMostRecent.head.key"
   ]
  },
  {
   "cell_type": "code",
   "execution_count": null,
   "metadata": {},
   "outputs": [],
   "source": []
  }
 ],
 "metadata": {
  "kernelspec": {
   "display_name": "Python 3",
   "language": "python",
   "name": "python3"
  },
  "language_info": {
   "codemirror_mode": {
    "name": "ipython",
    "version": 3
   },
   "file_extension": ".py",
   "mimetype": "text/x-python",
   "name": "python",
   "nbconvert_exporter": "python",
   "pygments_lexer": "ipython3",
   "version": "3.7.4"
  }
 },
 "nbformat": 4,
 "nbformat_minor": 2
}
