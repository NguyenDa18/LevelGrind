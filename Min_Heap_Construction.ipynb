{
  "nbformat": 4,
  "nbformat_minor": 0,
  "metadata": {
    "colab": {
      "name": "Min Heap Construction.ipynb",
      "version": "0.3.2",
      "provenance": [],
      "include_colab_link": true
    },
    "kernelspec": {
      "name": "python3",
      "display_name": "Python 3"
    }
  },
  "cells": [
    {
      "cell_type": "markdown",
      "metadata": {
        "id": "view-in-github",
        "colab_type": "text"
      },
      "source": [
        "<a href=\"https://colab.research.google.com/github/NguyenDa18/LevelGrind/blob/master/Min_Heap_Construction.ipynb\" target=\"_parent\"><img src=\"https://colab.research.google.com/assets/colab-badge.svg\" alt=\"Open In Colab\"/></a>"
      ]
    },
    {
      "cell_type": "code",
      "metadata": {
        "id": "VfThtXmJzqkU",
        "colab_type": "code",
        "colab": {}
      },
      "source": [
        ""
      ],
      "execution_count": 0,
      "outputs": []
    },
    {
      "cell_type": "markdown",
      "metadata": {
        "id": "BAEyM3u00jbp",
        "colab_type": "text"
      },
      "source": [
        "# Min Heap Class Construction : AlgoExpert\n",
        "Implement a Min Heap class. Class should support\n",
        "- insertion\n",
        "- removal (of min/root value)\n",
        "- peeking (of min/root value)\n",
        "- sifting value up and down heap\n",
        "- building the heap from an input array\n",
        "\n",
        "Heap should be represented in the form of an array"
      ]
    },
    {
      "cell_type": "code",
      "metadata": {
        "id": "4032D12h1GoG",
        "colab_type": "code",
        "colab": {}
      },
      "source": [
        "class MinHeap:\n",
        "  def __init__(self, array):\n",
        "    self.heap = self.buildHeap(array)\n",
        "    \n",
        "    # O(N) time } O(1) space\n",
        "    def buildHeap(self, array):\n",
        "      firstParentIdx = (len(array) - 2) // 2\n",
        "      for currentIdx in reversed(range(firstParentIdx + 1)):\n",
        "        self.siftDown(currentIdx, len(array) - 1, array)\n",
        "      return array"
      ],
      "execution_count": 0,
      "outputs": []
    },
    {
      "cell_type": "code",
      "metadata": {
        "id": "pciry_3F1e0z",
        "colab_type": "code",
        "colab": {}
      },
      "source": [
        ""
      ],
      "execution_count": 0,
      "outputs": []
    }
  ]
}