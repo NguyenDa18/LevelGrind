{
  "nbformat": 4,
  "nbformat_minor": 0,
  "metadata": {
    "colab": {
      "name": "Find Linked List Loop",
      "version": "0.3.2",
      "provenance": [],
      "include_colab_link": true
    },
    "kernelspec": {
      "name": "python3",
      "display_name": "Python 3"
    }
  },
  "cells": [
    {
      "cell_type": "markdown",
      "metadata": {
        "id": "view-in-github",
        "colab_type": "text"
      },
      "source": [
        "<a href=\"https://colab.research.google.com/github/NguyenDa18/LevelGrind/blob/master/Find_Linked_List_Loop.ipynb\" target=\"_parent\"><img src=\"https://colab.research.google.com/assets/colab-badge.svg\" alt=\"Open In Colab\"/></a>"
      ]
    },
    {
      "metadata": {
        "id": "sf1Z8SFlW9QI",
        "colab_type": "text"
      },
      "cell_type": "markdown",
      "source": [
        "# Thinking Process"
      ]
    },
    {
      "metadata": {
        "id": "s2dClVQQVdAR",
        "colab_type": "text"
      },
      "cell_type": "markdown",
      "source": [
        "- Initialize Linked List\n",
        "- Create loop"
      ]
    },
    {
      "metadata": {
        "id": "oA2q1v4ZXZ1O",
        "colab_type": "text"
      },
      "cell_type": "markdown",
      "source": [
        "# Code Solution"
      ]
    },
    {
      "metadata": {
        "id": "tY5-gJ27Tyt3",
        "colab_type": "code",
        "colab": {}
      },
      "cell_type": "code",
      "source": [
        "class LinkedList:\n",
        "  def __init__(self, value):\n",
        "    self.value = value\n",
        "    self.next = None\n",
        "    \n",
        "  def addMany(self, values):\n",
        "    current = self\n",
        "    while current.next is not None:\n",
        "      current = current.next\n",
        "    for value in values:\n",
        "      current.next = LinkedList(value)\n",
        "      current = current.next\n",
        "    return self\n",
        "  \n",
        "  def getNthNode(self, n):\n",
        "    counter = 1\n",
        "    current = self\n",
        "    while counter < n:\n",
        "      current = current.next\n",
        "      counter += 1\n",
        "    return current"
      ],
      "execution_count": 0,
      "outputs": []
    },
    {
      "metadata": {
        "id": "weG6AgKCVsHa",
        "colab_type": "code",
        "outputId": "6fa89a24-7a0b-4672-b20b-bf237691f9ec",
        "colab": {
          "base_uri": "https://localhost:8080/",
          "height": 34
        }
      },
      "cell_type": "code",
      "source": [
        "test = LinkedList(0).addMany([1,2,3,4,5,6,7,8,9])\n",
        "print(test.next.value)"
      ],
      "execution_count": 0,
      "outputs": [
        {
          "output_type": "stream",
          "text": [
            "1\n"
          ],
          "name": "stdout"
        }
      ]
    }
  ]
}