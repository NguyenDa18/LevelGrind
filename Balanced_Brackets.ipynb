{
  "nbformat": 4,
  "nbformat_minor": 0,
  "metadata": {
    "colab": {
      "name": "Balanced Brackets.ipynb",
      "version": "0.3.2",
      "provenance": [],
      "include_colab_link": true
    },
    "kernelspec": {
      "name": "python3",
      "display_name": "Python 3"
    }
  },
  "cells": [
    {
      "cell_type": "markdown",
      "metadata": {
        "id": "view-in-github",
        "colab_type": "text"
      },
      "source": [
        "<a href=\"https://colab.research.google.com/github/NguyenDa18/LevelGrind/blob/master/Balanced_Brackets.ipynb\" target=\"_parent\"><img src=\"https://colab.research.google.com/assets/colab-badge.svg\" alt=\"Open In Colab\"/></a>"
      ]
    },
    {
      "cell_type": "markdown",
      "metadata": {
        "id": "yF4NR7VzqggF",
        "colab_type": "text"
      },
      "source": [
        "# Balanced Brackets: AlgoExpert\n",
        "Write a function that takes in a string of brackets and other optional characters. The function should return whether or not the string is balanced in regards to the brackets. Note that a closing bracket cannot match a corresponding opening bracket that comes after it. Similarly, brackets cannot overlap each other as in \"[(])]\""
      ]
    },
    {
      "cell_type": "markdown",
      "metadata": {
        "id": "vxIYx31arvKX",
        "colab_type": "text"
      },
      "source": [
        "- Hints: Use a stack!!! (logic is we need to keep track of previous visited)\n",
        "- Special cases: when one bracket is left after rest have been matched, check if empty"
      ]
    },
    {
      "cell_type": "code",
      "metadata": {
        "id": "QE06WMhmq4vp",
        "colab_type": "code",
        "colab": {}
      },
      "source": [
        "# O(n) time | O(n) space\n",
        "def balancedBrackets(string):\n",
        "  openingBrackets = \"({[\"\n",
        "  closingBrackets = \"]})\"\n",
        "  matchingBrackets = {\n",
        "      \")\" : \"(\",\n",
        "      \"}\" : \"{\",\n",
        "      \"]\" : \"[\"\n",
        "  }\n",
        "  stack = []\n",
        "  \n",
        "  for char in string:\n",
        "    if char in openingBrackets:\n",
        "      stack.append(char)\n",
        "    elif char in closingBrackets:\n",
        "      if len(stack) == 0:\n",
        "        return False\n",
        "      if stack[-1] == matchingBrackets[char]:\n",
        "        stack.pop()\n",
        "      else:\n",
        "        return False\n",
        "  return len(stack) == 0"
      ],
      "execution_count": 0,
      "outputs": []
    },
    {
      "cell_type": "code",
      "metadata": {
        "id": "W4Hi4Y9xszhn",
        "colab_type": "code",
        "colab": {
          "base_uri": "https://localhost:8080/",
          "height": 34
        },
        "outputId": "62a482e3-c9cf-4511-edbb-987ac0751962"
      },
      "source": [
        "test = \"()()()()()[()]{([()])}\"\n",
        "result = balancedBrackets(test)\n",
        "print(result)"
      ],
      "execution_count": 5,
      "outputs": [
        {
          "output_type": "stream",
          "text": [
            "True\n"
          ],
          "name": "stdout"
        }
      ]
    },
    {
      "cell_type": "code",
      "metadata": {
        "id": "88eucPfIrkui",
        "colab_type": "code",
        "colab": {
          "base_uri": "https://localhost:8080/",
          "height": 34
        },
        "outputId": "c35246d4-1d8b-4d6d-df00-f01928c73bb2"
      },
      "source": [
        "test = \"()[]{}{\"\n",
        "result = balancedBrackets(test)\n",
        "print(result)"
      ],
      "execution_count": 3,
      "outputs": [
        {
          "output_type": "stream",
          "text": [
            "False\n"
          ],
          "name": "stdout"
        }
      ]
    }
  ]
}