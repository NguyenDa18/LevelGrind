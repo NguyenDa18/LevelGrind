{
 "cells": [
  {
   "cell_type": "code",
   "execution_count": 10,
   "metadata": {
    "collapsed": true
   },
   "outputs": [],
   "source": [
    "def splitStrIntoPalindromes(sampleStr):\n",
    "    foundLetters = {}\n",
    "    for letter in sampleStr:\n",
    "        if letter not in foundLetters:\n",
    "            foundLetters[letter] = 0\n",
    "        foundLetters[letter] += 1\n",
    "    \n",
    "    return foundLetters"
   ]
  },
  {
   "cell_type": "code",
   "execution_count": 11,
   "metadata": {
    "collapsed": false
   },
   "outputs": [
    {
     "name": "stdout",
     "output_type": "stream",
     "text": [
      "{'e': 1, 'y': 1, 'k': 2, 'a': 6, 'r': 2, 'n': 2, 'c': 2}\n"
     ]
    }
   ],
   "source": [
    "result = splitStrIntoPalindromes(\"racecarannakayak\")\n",
    "print(result)"
   ]
  },
  {
   "cell_type": "code",
   "execution_count": null,
   "metadata": {
    "collapsed": true
   },
   "outputs": [],
   "source": []
  }
 ],
 "metadata": {
  "kernelspec": {
   "display_name": "Python 3",
   "language": "python",
   "name": "python3"
  },
  "language_info": {
   "codemirror_mode": {
    "name": "ipython",
    "version": 3
   },
   "file_extension": ".py",
   "mimetype": "text/x-python",
   "name": "python",
   "nbconvert_exporter": "python",
   "pygments_lexer": "ipython3",
   "version": "3.5.2"
  }
 },
 "nbformat": 4,
 "nbformat_minor": 1
}
