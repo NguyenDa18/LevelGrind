{
 "cells": [
  {
   "cell_type": "markdown",
   "metadata": {
    "colab_type": "text",
    "id": "view-in-github"
   },
   "source": [
    "<a href=\"https://colab.research.google.com/github/NguyenDa18/LevelGrind/blob/master/Angle_of_Clock_Time.ipynb\" target=\"_parent\"><img src=\"https://colab.research.google.com/assets/colab-badge.svg\" alt=\"Open In Colab\"/></a>"
   ]
  },
  {
   "cell_type": "markdown",
   "metadata": {
    "colab_type": "text",
    "id": "gI5OeVwLsgAg"
   },
   "source": [
    "# Angle of Clock Time : Daily Coding Problem # 303\n",
    "Good morning! Here's your coding interview problem for today.\n",
    "\n",
    "This problem was asked by Microsoft.\n",
    "\n",
    "Given a clock time in hh:mm format, determine, to the nearest degree, the angle between the hour and the minute hands.\n",
    "\n",
    "Bonus: When, during the course of a day, will the angle be zero?"
   ]
  },
  {
   "cell_type": "code",
   "execution_count": 1,
   "metadata": {
    "colab": {},
    "colab_type": "code",
    "id": "CMcARP5tsYsY"
   },
   "outputs": [],
   "source": [
    "def angleOfClockTime(hour: int, minutes: int):\n",
    "  MINUTES_PER_HOUR = 60\n",
    "  DEGREES_PER_MINUTE = 360 / MINUTES_PER_HOUR\n",
    "  DEGREES_PER_HOUR = 360 / 12\n",
    "  \n",
    "  minuteAngle = minutes * DEGREES_PER_MINUTE\n",
    "  hourAngle = hour * DEGREES_PER_HOUR + (minutes / MINUTES_PER_HOUR) * DEGREES_PER_HOUR\n",
    "  \n",
    "  diff = abs(minuteAngle - hourAngle)\n",
    "  if (diff > 180):\n",
    "    return (360 - diff)\n",
    "  return diff"
   ]
  },
  {
   "cell_type": "code",
   "execution_count": 2,
   "metadata": {
    "colab": {
     "base_uri": "https://localhost:8080/",
     "height": 34
    },
    "colab_type": "code",
    "id": "iosz242asmxm",
    "outputId": "cc6b0878-f8eb-4210-bef6-c724aa6735df"
   },
   "outputs": [
    {
     "name": "stdout",
     "output_type": "stream",
     "text": [
      "130.0\n"
     ]
    }
   ],
   "source": [
    "result = angleOfClockTime(3, 40)\n",
    "print(result)"
   ]
  }
 ],
 "metadata": {
  "colab": {
   "include_colab_link": true,
   "name": "Angle of Clock Time.ipynb",
   "provenance": [],
   "version": "0.3.2"
  },
  "kernelspec": {
   "display_name": "Python 3",
   "language": "python",
   "name": "python3"
  },
  "language_info": {
   "codemirror_mode": {
    "name": "ipython",
    "version": 3
   },
   "file_extension": ".py",
   "mimetype": "text/x-python",
   "name": "python",
   "nbconvert_exporter": "python",
   "pygments_lexer": "ipython3",
   "version": "3.7.4"
  }
 },
 "nbformat": 4,
 "nbformat_minor": 1
}
