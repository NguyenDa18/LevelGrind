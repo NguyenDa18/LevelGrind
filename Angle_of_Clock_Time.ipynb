{
  "nbformat": 4,
  "nbformat_minor": 0,
  "metadata": {
    "colab": {
      "name": "Angle of Clock Time.ipynb",
      "version": "0.3.2",
      "provenance": [],
      "include_colab_link": true
    },
    "kernelspec": {
      "name": "python3",
      "display_name": "Python 3"
    }
  },
  "cells": [
    {
      "cell_type": "markdown",
      "metadata": {
        "id": "view-in-github",
        "colab_type": "text"
      },
      "source": [
        "<a href=\"https://colab.research.google.com/github/NguyenDa18/LevelGrind/blob/master/Angle_of_Clock_Time.ipynb\" target=\"_parent\"><img src=\"https://colab.research.google.com/assets/colab-badge.svg\" alt=\"Open In Colab\"/></a>"
      ]
    },
    {
      "cell_type": "markdown",
      "metadata": {
        "id": "gI5OeVwLsgAg",
        "colab_type": "text"
      },
      "source": [
        "# Angle of Clock Time : Daily Coding Problem # 303\n",
        "Good morning! Here's your coding interview problem for today.\n",
        "\n",
        "This problem was asked by Microsoft.\n",
        "\n",
        "Given a clock time in hh:mm format, determine, to the nearest degree, the angle between the hour and the minute hands.\n",
        "\n",
        "Bonus: When, during the course of a day, will the angle be zero?"
      ]
    },
    {
      "cell_type": "code",
      "metadata": {
        "id": "CMcARP5tsYsY",
        "colab_type": "code",
        "colab": {}
      },
      "source": [
        "def angleOfClockTime(hour: int, minutes: int):\n",
        "  MINUTES_PER_HOUR = 60\n",
        "  DEGREES_PER_MINUTE = 360 / MINUTES_PER_HOUR\n",
        "  DEGREES_PER_HOUR = 360 / 12\n",
        "  \n",
        "  minuteAngle = minutes * DEGREES_PER_MINUTE\n",
        "  hourAngle = hour * DEGREES_PER_HOUR + (minutes / MINUTES_PER_HOUR) * DEGREES_PER_HOUR\n",
        "  \n",
        "  diff = abs(minuteAngle - hourAngle)\n",
        "  if (diff > 180):\n",
        "    return (360 - diff)\n",
        "  return diff"
      ],
      "execution_count": 0,
      "outputs": []
    },
    {
      "cell_type": "code",
      "metadata": {
        "id": "iosz242asmxm",
        "colab_type": "code",
        "colab": {
          "base_uri": "https://localhost:8080/",
          "height": 34
        },
        "outputId": "cc6b0878-f8eb-4210-bef6-c724aa6735df"
      },
      "source": [
        "result = angleOfClockTime(3, 40)\n",
        "print(result)"
      ],
      "execution_count": 7,
      "outputs": [
        {
          "output_type": "stream",
          "text": [
            "130.0\n"
          ],
          "name": "stdout"
        }
      ]
    }
  ]
}